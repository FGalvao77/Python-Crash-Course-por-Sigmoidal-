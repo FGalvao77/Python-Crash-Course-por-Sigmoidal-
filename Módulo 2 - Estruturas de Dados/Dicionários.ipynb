{
  "nbformat": 4,
  "nbformat_minor": 0,
  "metadata": {
    "colab": {
      "name": "02_Dicionários.ipynb",
      "provenance": [],
      "collapsed_sections": []
    },
    "kernelspec": {
      "name": "python3",
      "display_name": "Python 3"
    }
  },
  "cells": [
    {
      "cell_type": "markdown",
      "metadata": {
        "id": "xkin5RCOr8Ds"
      },
      "source": [
        "# Dicionários\n",
        "\n",
        "Dicionários também são um tipo de dados que podem ser mudados. No entanto, diferentemente das listas, os dicionários fazem uma espécie de mapeamento entre \"Chaves\" e \"Valores\".\n",
        "\n",
        "![alt text](https://developers.google.com/edu/python/images/dict.png)\n",
        "\n",
        "Vale ressaltar que as chaves dos dicionários podem ser não apenas de strings, mas de outros tipos, como inteiros.\n",
        "\n",
        "Para criar um dicionário, vamos usar as chaves `{}`."
      ]
    },
    {
      "cell_type": "code",
      "metadata": {
        "id": "bLMqp1UaxCkQ"
      },
      "source": [
        "# criando um dicionário vazio\n",
        "meu_dict = {}"
      ],
      "execution_count": null,
      "outputs": []
    },
    {
      "cell_type": "code",
      "metadata": {
        "id": "TIa-NF7HxHzL",
        "colab": {
          "base_uri": "https://localhost:8080/"
        },
        "outputId": "d7301078-70ba-4aa9-9b87-85e1b6dd4d26"
      },
      "source": [
        "# verificando o tipo\n",
        "type(meu_dict)"
      ],
      "execution_count": null,
      "outputs": [
        {
          "output_type": "execute_result",
          "data": {
            "text/plain": [
              "dict"
            ]
          },
          "metadata": {
            "tags": []
          },
          "execution_count": 2
        }
      ]
    },
    {
      "cell_type": "code",
      "metadata": {
        "id": "WYU1oc2pxJJG"
      },
      "source": [
        "# criando um dicionário com itens\n",
        "exemplo = {'Fernando': 43, 'Kátia': 40, 'Sara': 21, 'Eloah': 12}"
      ],
      "execution_count": null,
      "outputs": []
    },
    {
      "cell_type": "code",
      "metadata": {
        "id": "RYdhnPCndyAg",
        "colab": {
          "base_uri": "https://localhost:8080/"
        },
        "outputId": "2ca28f9b-9629-4693-ed0f-6c3bdf6b631b"
      },
      "source": [
        "exemplo"
      ],
      "execution_count": null,
      "outputs": [
        {
          "output_type": "execute_result",
          "data": {
            "text/plain": [
              "{'Eloah': 12, 'Fernando': 43, 'Kátia': 40, 'Sara': 21}"
            ]
          },
          "metadata": {
            "tags": []
          },
          "execution_count": 4
        }
      ]
    },
    {
      "cell_type": "markdown",
      "metadata": {
        "id": "FeuEeMuFmeIe"
      },
      "source": [
        "Para acessar os valores por chave, chamamos o nome do dicionário, e colocamos entre colchetes o nome da chave entre aspas, simples ou duplas."
      ]
    },
    {
      "cell_type": "code",
      "metadata": {
        "id": "Tj4_SHeid66G",
        "colab": {
          "base_uri": "https://localhost:8080/"
        },
        "outputId": "44a619a6-7476-47dc-8b08-1525ec4cce26"
      },
      "source": [
        "exemplo.keys()"
      ],
      "execution_count": null,
      "outputs": [
        {
          "output_type": "execute_result",
          "data": {
            "text/plain": [
              "dict_keys(['Fernando', 'Kátia', 'Sara', 'Eloah'])"
            ]
          },
          "metadata": {
            "tags": []
          },
          "execution_count": 5
        }
      ]
    },
    {
      "cell_type": "code",
      "metadata": {
        "id": "ZNEwJIBXxYoi",
        "colab": {
          "base_uri": "https://localhost:8080/"
        },
        "outputId": "3d81076d-4ac4-448a-ba5b-82f653811ad0"
      },
      "source": [
        "# acessando a idade da Eloah\n",
        "exemplo['Eloah']"
      ],
      "execution_count": null,
      "outputs": [
        {
          "output_type": "execute_result",
          "data": {
            "text/plain": [
              "12"
            ]
          },
          "metadata": {
            "tags": []
          },
          "execution_count": 10
        }
      ]
    },
    {
      "cell_type": "markdown",
      "metadata": {
        "id": "sy1mInismuxu"
      },
      "source": [
        "Para adicionar itens novo ao nosso Dicionário, chamamos o nome do dicionário, o nome da nova chave entre aspas dentro dos colchetes, e associamos um valor a essa chave."
      ]
    },
    {
      "cell_type": "code",
      "metadata": {
        "id": "i2m67z2NeD7C",
        "colab": {
          "base_uri": "https://localhost:8080/",
          "height": 163
        },
        "outputId": "c1001014-26e8-4fee-90e4-96391f7ef9c7"
      },
      "source": [
        "exemplo['Mel']"
      ],
      "execution_count": null,
      "outputs": [
        {
          "output_type": "error",
          "ename": "KeyError",
          "evalue": "ignored",
          "traceback": [
            "\u001b[0;31m---------------------------------------------------------------------------\u001b[0m",
            "\u001b[0;31mKeyError\u001b[0m                                  Traceback (most recent call last)",
            "\u001b[0;32m<ipython-input-6-37dd4a754c9c>\u001b[0m in \u001b[0;36m<module>\u001b[0;34m()\u001b[0m\n\u001b[0;32m----> 1\u001b[0;31m \u001b[0mexemplo\u001b[0m\u001b[0;34m[\u001b[0m\u001b[0;34m\"Snow\"\u001b[0m\u001b[0;34m]\u001b[0m\u001b[0;34m\u001b[0m\u001b[0;34m\u001b[0m\u001b[0m\n\u001b[0m",
            "\u001b[0;31mKeyError\u001b[0m: 'Snow'"
          ]
        }
      ]
    },
    {
      "cell_type": "code",
      "metadata": {
        "id": "jIS0XcvUxeDW",
        "colab": {
          "base_uri": "https://localhost:8080/"
        },
        "outputId": "deda21c3-c8b6-4760-9426-8bc466db9880"
      },
      "source": [
        "# adicionando itens\n",
        "exemplo['Mel'] = 6\n",
        "\n",
        "print(exemplo)"
      ],
      "execution_count": null,
      "outputs": [
        {
          "output_type": "stream",
          "text": [
            "{'Fernando': 43, 'Kátia': 40, 'Sara': 21, 'Eloah': 12, 'Mel': 6}\n"
          ],
          "name": "stdout"
        }
      ]
    },
    {
      "cell_type": "code",
      "metadata": {
        "id": "fbYUH5Z1eLXX",
        "colab": {
          "base_uri": "https://localhost:8080/"
        },
        "outputId": "acde3ba5-4bcd-4372-8509-145e2cb0e029"
      },
      "source": [
        "exemplo['Mel']"
      ],
      "execution_count": null,
      "outputs": [
        {
          "output_type": "execute_result",
          "data": {
            "text/plain": [
              "6"
            ]
          },
          "metadata": {
            "tags": []
          },
          "execution_count": 9
        }
      ]
    },
    {
      "cell_type": "markdown",
      "metadata": {
        "id": "byuAwemCm_2h"
      },
      "source": [
        "Caso quisermos excluir um chave, basta utilizar o método pop().\n",
        "\n",
        "> dicionário.pop(\"chave\")"
      ]
    },
    {
      "cell_type": "code",
      "metadata": {
        "id": "DeEipv4Px3a5",
        "colab": {
          "base_uri": "https://localhost:8080/"
        },
        "outputId": "9ce8f11c-8047-4f15-fdf9-ec0c259188ea"
      },
      "source": [
        "# excluindo itens\n",
        "exemplo.pop('Mel')\n",
        "\n",
        "print(exemplo)"
      ],
      "execution_count": null,
      "outputs": [
        {
          "output_type": "stream",
          "text": [
            "{'Fernando': 43, 'Kátia': 40, 'Sara': 21, 'Eloah': 12}\n"
          ],
          "name": "stdout"
        }
      ]
    },
    {
      "cell_type": "markdown",
      "metadata": {
        "id": "Siss-kCJn2I1"
      },
      "source": [
        "Para alterar itens, o processo é igual ao da criação de chaves.\n",
        "\n",
        "Entretanto, usamos uma chave já existente, e indicamos um novo valor a ela."
      ]
    },
    {
      "cell_type": "code",
      "metadata": {
        "id": "vAiZYbr_yBLn",
        "colab": {
          "base_uri": "https://localhost:8080/"
        },
        "outputId": "36fd0803-98d9-48f3-bff2-ec54beaecf00"
      },
      "source": [
        "# alterando item\n",
        "exemplo['Eloah'] = 13\n",
        "\n",
        "print(exemplo)"
      ],
      "execution_count": null,
      "outputs": [
        {
          "output_type": "stream",
          "text": [
            "{'Fernando': 43, 'Kátia': 40, 'Sara': 21, 'Eloah': 13}\n"
          ],
          "name": "stdout"
        }
      ]
    },
    {
      "cell_type": "markdown",
      "metadata": {
        "id": "EQL6H-BDoefh"
      },
      "source": [
        "## Mais Alguns Detalhes Sobre Dicionários\n",
        "\n",
        "Precisamos nos atentar para alguns detalhes quando estamos lidando com dicionários.\n",
        "\n",
        "Um deles é que não podemos ter duas chaves com o mesmo nome. Nós já vimos que caso usemos o nome de um chave já existente e associarmos a ela valor diferente, ele irá atualizar a chave, e não duplicá-la.\n",
        "\n",
        "Enquanto isso, os valores não possuem restrições, podendo ser qualquer tipo de dados."
      ]
    },
    {
      "cell_type": "markdown",
      "metadata": {
        "id": "Y3aj6z2TpMCQ"
      },
      "source": [
        "## Funções *Built-in* \n",
        "Dicionários possuem algumas funções nativas. \n",
        "\n",
        "Acima, já vimos o pop() para excluir itens. Vamos ver algumas outras agora."
      ]
    },
    {
      "cell_type": "markdown",
      "metadata": {
        "id": "4NVFhmkXp0nv"
      },
      "source": [
        "### .get()\n",
        "A função `.get()` nos permite buscar o valor de uma determinada chave."
      ]
    },
    {
      "cell_type": "code",
      "metadata": {
        "id": "Lyj0fNLTyHdS",
        "colab": {
          "base_uri": "https://localhost:8080/"
        },
        "outputId": "a49b65c3-4331-4d8f-be53-c9b37802be39"
      },
      "source": [
        "# get()\n",
        "# exemplo['Fernando']\n",
        "exemplo.get('Fernando')"
      ],
      "execution_count": null,
      "outputs": [
        {
          "output_type": "execute_result",
          "data": {
            "text/plain": [
              "43"
            ]
          },
          "metadata": {
            "tags": []
          },
          "execution_count": 14
        }
      ]
    },
    {
      "cell_type": "markdown",
      "metadata": {
        "id": "IOSgW9ieqAU4"
      },
      "source": [
        "### .items()\n",
        "\n",
        "Esta função lista todas as chaves e items do nosso dicionário.\n"
      ]
    },
    {
      "cell_type": "code",
      "metadata": {
        "id": "JWLVTxwZqAAi",
        "colab": {
          "base_uri": "https://localhost:8080/"
        },
        "outputId": "9b91b08b-9cb5-47c0-ec28-6e0cf104e119"
      },
      "source": [
        "# items()\n",
        "exemplo.items()"
      ],
      "execution_count": null,
      "outputs": [
        {
          "output_type": "execute_result",
          "data": {
            "text/plain": [
              "dict_items([('Fernando', 43), ('Kátia', 40), ('Sara', 21), ('Eloah', 13)])"
            ]
          },
          "metadata": {
            "tags": []
          },
          "execution_count": 15
        }
      ]
    },
    {
      "cell_type": "markdown",
      "metadata": {
        "id": "mwAC2HyiqPIY"
      },
      "source": [
        "### .keys()\n",
        "Se na função anterior nós buscamos as chaves e valores, aqui vamos pegar apenas as chaves do nosso dicionário."
      ]
    },
    {
      "cell_type": "code",
      "metadata": {
        "id": "-MNhP4Iep9_O",
        "colab": {
          "base_uri": "https://localhost:8080/"
        },
        "outputId": "3ebfbf8b-dc23-4d29-fcfd-47c8f330bfe4"
      },
      "source": [
        "# keys()\n",
        "exemplo.keys()"
      ],
      "execution_count": null,
      "outputs": [
        {
          "output_type": "execute_result",
          "data": {
            "text/plain": [
              "dict_keys(['Fernando', 'Kátia', 'Sara', 'Eloah'])"
            ]
          },
          "metadata": {
            "tags": []
          },
          "execution_count": 16
        }
      ]
    },
    {
      "cell_type": "markdown",
      "metadata": {
        "id": "BbLfyK9Eqgut"
      },
      "source": [
        "### .values()\n",
        "Esta função retorna os valores do nosso dicionário."
      ]
    },
    {
      "cell_type": "code",
      "metadata": {
        "id": "njXHJA27qe_R",
        "colab": {
          "base_uri": "https://localhost:8080/"
        },
        "outputId": "13aa1d85-7b7d-4867-fac8-f0fd300ea5aa"
      },
      "source": [
        "# values()\n",
        "exemplo.values()"
      ],
      "execution_count": null,
      "outputs": [
        {
          "output_type": "execute_result",
          "data": {
            "text/plain": [
              "dict_values([43, 40, 21, 13])"
            ]
          },
          "metadata": {
            "tags": []
          },
          "execution_count": 17
        }
      ]
    },
    {
      "cell_type": "markdown",
      "metadata": {
        "id": "ReBLt9i2qt8c"
      },
      "source": [
        "### .pop() / .popitem()\n",
        "Acima, nós já vimos como usar o pop. Indicamos a chave que queremos retirar, e ela é retirada.\n",
        "\n",
        "Usando a função .popitem() nós excluímos a última chave do dicionário."
      ]
    },
    {
      "cell_type": "code",
      "metadata": {
        "id": "GYPNbw_OqpTf",
        "colab": {
          "base_uri": "https://localhost:8080/"
        },
        "outputId": "3b5f2985-a79b-4a27-aa90-425a1187aa72"
      },
      "source": [
        "# popitem()\n",
        "print('Dicionário original: ',exemplo)\n",
        "exemplo.popitem()\n",
        "print('Dicionário após o popitem(): ',exemplo)"
      ],
      "execution_count": null,
      "outputs": [
        {
          "output_type": "stream",
          "text": [
            "Dicionário original:  {'Fernando': 43, 'Kátia': 40, 'Sara': 21, 'Eloah': 13}\n",
            "Dicionário após o popitem():  {'Fernando': 43, 'Kátia': 40, 'Sara': 21}\n"
          ],
          "name": "stdout"
        }
      ]
    },
    {
      "cell_type": "markdown",
      "metadata": {
        "id": "xz2xbNchrN84"
      },
      "source": [
        "### .update()\n",
        "Essa função é usada para juntar dois dicionários.\n",
        "\n",
        "* Caso a chave não esteja presente no primeiro dicionário, ela será adicionada.\n",
        "* Caso a chave já exista no primeiro dicionário, ela terá seu valor substituído pelo valor da chave correspondente no segundo dicionário.\n",
        "\n",
        "Como podemos ver abaixo, criamos dois dicionários, e o resultado foi:\n",
        "* A chave `Snow` não existia no d1, e foi adicionada a ele.\n",
        "* A chave `Theo` teve seu valor atualizado de 1 para 2.\n",
        "* A chave `Fernanda` estava presente com o mesmo valor em ambos dicionários, e, portanto, não sofreu alteração."
      ]
    },
    {
      "cell_type": "code",
      "metadata": {
        "id": "tNv2hQc-rGCZ",
        "colab": {
          "base_uri": "https://localhost:8080/"
        },
        "outputId": "180e9c19-d721-4c9a-d690-ed3014885f4e"
      },
      "source": [
        "# update()\n",
        "d1={'Carlos':35, 'Theo':1, 'Fernanda':29}\n",
        "print('Dicionário 1: ',d1)\n",
        "d2={'Snow':6, 'Theo':2, 'Fernanda':29}\n",
        "print('Dicionário 2: ',d2)\n",
        "\n",
        "d1.update(d2)\n",
        "print('Dicionário Final: ', d1)"
      ],
      "execution_count": null,
      "outputs": [
        {
          "output_type": "stream",
          "text": [
            "Dicionário 1:  {'Carlos': 35, 'Theo': 1, 'Fernanda': 29}\n",
            "Dicionário 2:  {'Snow': 6, 'Theo': 2, 'Fernanda': 29}\n",
            "Dicionário Final:  {'Carlos': 35, 'Theo': 2, 'Fernanda': 29, 'Snow': 6}\n"
          ],
          "name": "stdout"
        }
      ]
    },
    {
      "cell_type": "markdown",
      "metadata": {
        "id": "_DR6mjKLs1sd"
      },
      "source": [
        "### .clear()\n",
        "Por fim, para deixar um dicionário vazio, excluindo todas as suas chaves e valores, utilizamos esta função."
      ]
    },
    {
      "cell_type": "code",
      "metadata": {
        "id": "LjWNnWxBrvWS",
        "colab": {
          "base_uri": "https://localhost:8080/"
        },
        "outputId": "0e4ef697-1fb6-451f-c56b-063e69c00dbc"
      },
      "source": [
        "# clear()\n",
        "exemplo.clear()\n",
        "exemplo"
      ],
      "execution_count": null,
      "outputs": [
        {
          "output_type": "execute_result",
          "data": {
            "text/plain": [
              "{}"
            ]
          },
          "metadata": {
            "tags": []
          },
          "execution_count": 20
        }
      ]
    },
    {
      "cell_type": "markdown",
      "metadata": {
        "id": "hPiZ8VEBtFq_"
      },
      "source": [
        "## Exercícios\n",
        "Agora que já conhecemos os Dicionários, suas propriedades e funções, vamos praticar!"
      ]
    },
    {
      "cell_type": "markdown",
      "metadata": {
        "id": "FIKODpRjtNPc"
      },
      "source": [
        "### Exercício 1\n",
        "Crie um dicionário com os nomes e idades dos membros de sua família."
      ]
    },
    {
      "cell_type": "code",
      "metadata": {
        "id": "H3RUJm7yrv-o",
        "colab": {
          "base_uri": "https://localhost:8080/"
        },
        "outputId": "94e4b9af-ab24-4e3c-ea7b-1fd870c305c4"
      },
      "source": [
        "# resposta\n",
        "dados_familia = {\n",
        "    'Fernando': 43,\n",
        "    'Kátia': 40,\n",
        "    'Sara': 21,\n",
        "    'Eloah': 13\n",
        "}\n",
        "\n",
        "dados_familia"
      ],
      "execution_count": null,
      "outputs": [
        {
          "output_type": "execute_result",
          "data": {
            "text/plain": [
              "{'Eloah': 13, 'Fernando': 43, 'Kátia': 40, 'Sara': 21}"
            ]
          },
          "metadata": {
            "tags": []
          },
          "execution_count": 21
        }
      ]
    },
    {
      "cell_type": "code",
      "metadata": {
        "id": "Rs-UcI7MtZ8P",
        "cellView": "form"
      },
      "source": [
        "#@title Solução\n",
        "d1={'Carlos':35, 'Theo':1, 'Fernanda':29}"
      ],
      "execution_count": null,
      "outputs": []
    },
    {
      "cell_type": "markdown",
      "metadata": {
        "id": "REgPkNnStgQt"
      },
      "source": [
        "### Exercício 2\n",
        "Exclua o segundo item do dicionário que você acabou de criar."
      ]
    },
    {
      "cell_type": "code",
      "metadata": {
        "id": "3Ri7VsSAtw2E",
        "colab": {
          "base_uri": "https://localhost:8080/"
        },
        "outputId": "6780325b-f721-45ce-c4ef-32ae2efc7739"
      },
      "source": [
        "# resposta\n",
        "dados_familia.pop('Fernando')\n",
        "dados_familia"
      ],
      "execution_count": null,
      "outputs": [
        {
          "output_type": "execute_result",
          "data": {
            "text/plain": [
              "{'Eloah': 13, 'Kátia': 40, 'Sara': 21}"
            ]
          },
          "metadata": {
            "tags": []
          },
          "execution_count": 23
        }
      ]
    },
    {
      "cell_type": "code",
      "metadata": {
        "id": "Lve-1tYyt1OK",
        "colab": {
          "base_uri": "https://localhost:8080/"
        },
        "outputId": "6ac76962-5510-4b9c-ca30-0f1b90de8457"
      },
      "source": [
        "#@title Solução\n",
        "d1.pop('Theo')\n",
        "d1"
      ],
      "execution_count": null,
      "outputs": [
        {
          "output_type": "execute_result",
          "data": {
            "text/plain": [
              "{'Carlos': 35, 'Fernanda': 29}"
            ]
          },
          "metadata": {
            "tags": []
          },
          "execution_count": 24
        }
      ]
    },
    {
      "cell_type": "markdown",
      "metadata": {
        "id": "ilIOX75MuEuJ"
      },
      "source": [
        "### Exercício 3\n",
        "Agora, inclua novamente o item excluído."
      ]
    },
    {
      "cell_type": "code",
      "metadata": {
        "id": "B8NN5LDqt5dJ",
        "colab": {
          "base_uri": "https://localhost:8080/"
        },
        "outputId": "aae16b15-05dc-4017-a5f2-b8c7f2c05fd3"
      },
      "source": [
        "# resposta\n",
        "dados_familia['Fernando'] = 43\n",
        "dados_familia"
      ],
      "execution_count": null,
      "outputs": [
        {
          "output_type": "execute_result",
          "data": {
            "text/plain": [
              "{'Eloah': 13, 'Fernando': 43, 'Kátia': 40, 'Sara': 21}"
            ]
          },
          "metadata": {
            "tags": []
          },
          "execution_count": 26
        }
      ]
    },
    {
      "cell_type": "code",
      "metadata": {
        "id": "qdCcuj-GuJVU",
        "cellView": "form",
        "colab": {
          "base_uri": "https://localhost:8080/"
        },
        "outputId": "bbc85e50-5f79-4b1b-88af-d7abc761f864"
      },
      "source": [
        "#@title Solução\n",
        "d1['Theo'] = 2\n",
        "d1"
      ],
      "execution_count": null,
      "outputs": [
        {
          "output_type": "execute_result",
          "data": {
            "text/plain": [
              "{'Carlos': 35, 'Fernanda': 29, 'Theo': 2}"
            ]
          },
          "metadata": {
            "tags": []
          },
          "execution_count": 27
        }
      ]
    },
    {
      "cell_type": "markdown",
      "metadata": {
        "id": "rst8OZY5uSO5"
      },
      "source": [
        "### Exercício 4\n",
        "Agora crie dois dicionários, contendo:\n",
        "* Frutas e seus respectivos preços\n",
        "* Verduras e seus respectivos preços"
      ]
    },
    {
      "cell_type": "code",
      "metadata": {
        "id": "I19bZBQzuN7i",
        "colab": {
          "base_uri": "https://localhost:8080/"
        },
        "outputId": "dad93a28-e0ba-4a66-980b-cb0d90cbd718"
      },
      "source": [
        "# resposta\n",
        "\n",
        "frutas = {\n",
        "    'banana': 4.98,\n",
        "    'maçã': 5.50,\n",
        "    'goiaba': 6.35,\n",
        "    'abacate': 1.99\n",
        "}\n",
        "\n",
        "print('Frutas:',frutas)\n",
        "\n",
        "verduras = {\n",
        "    'alface': 1.99,\n",
        "    'couve': 2.50,\n",
        "    'agrião': 4.19\n",
        "}\n",
        "\n",
        "print('Verduras:', verduras)"
      ],
      "execution_count": null,
      "outputs": [
        {
          "output_type": "stream",
          "text": [
            "Frutas: {'banana': 4.98, 'maçã': 5.5, 'goiaba': 6.35, 'abacate': 1.99}\n",
            "Verduras: {'alface': 1.99, 'couve': 2.5, 'agrião': 4.19}\n"
          ],
          "name": "stdout"
        }
      ]
    },
    {
      "cell_type": "code",
      "metadata": {
        "id": "8tv0JGrdukqm",
        "cellView": "form",
        "colab": {
          "base_uri": "https://localhost:8080/"
        },
        "outputId": "eb9bbead-6bfb-4dc0-f3b4-d9e3881c28c2"
      },
      "source": [
        "#@title Solução\n",
        "frutas = {'Maçã:':2.00, 'Banana': 1.99, 'Abacaxi':4.99}\n",
        "verduras = {'Alface':1.99, 'Repolho':3.99, 'Couve':1.99}\n",
        "print('Frutas: ', frutas)\n",
        "print('Verduras: ', verduras)"
      ],
      "execution_count": null,
      "outputs": [
        {
          "output_type": "stream",
          "text": [
            "Frutas:  {'Maçã:': 2.0, 'Banana': 1.99, 'Abacaxi': 4.99}\n",
            "Verduras:  {'Alface': 1.99, 'Repolho': 3.99, 'Couve': 1.99}\n"
          ],
          "name": "stdout"
        }
      ]
    },
    {
      "cell_type": "markdown",
      "metadata": {
        "id": "qO8lki2fyCYM"
      },
      "source": [
        "### Exercício 5\n",
        "Execute os seguintes comandos para manipular os dicionários de `frutas` e `verduras`."
      ]
    },
    {
      "cell_type": "code",
      "metadata": {
        "id": "BIIToyQbu-9p",
        "colab": {
          "base_uri": "https://localhost:8080/"
        },
        "outputId": "9ba60b19-13a2-4890-a6df-153e45edac2f"
      },
      "source": [
        "# imprima as chaves do dicionário frutas\n",
        "print(frutas.keys())"
      ],
      "execution_count": null,
      "outputs": [
        {
          "output_type": "stream",
          "text": [
            "dict_keys(['banana', 'maçã', 'goiaba', 'abacate'])\n"
          ],
          "name": "stdout"
        }
      ]
    },
    {
      "cell_type": "code",
      "metadata": {
        "id": "vQkDuLuIyYU7",
        "cellView": "form",
        "colab": {
          "base_uri": "https://localhost:8080/"
        },
        "outputId": "0c85a03d-5ae7-454c-a2f8-71851341d291"
      },
      "source": [
        "#@title Solução\n",
        "frutas.keys()"
      ],
      "execution_count": null,
      "outputs": [
        {
          "output_type": "execute_result",
          "data": {
            "text/plain": [
              "dict_keys(['banana', 'maçã', 'goiaba', 'abacate'])"
            ]
          },
          "metadata": {
            "tags": []
          },
          "execution_count": 34
        }
      ]
    },
    {
      "cell_type": "code",
      "metadata": {
        "id": "AZKCgM9kyPPw",
        "colab": {
          "base_uri": "https://localhost:8080/"
        },
        "outputId": "d087748c-e648-4e66-8f3f-06a87b923df6"
      },
      "source": [
        "# imprima os valores do dicionário verduras\n",
        "print(verduras.values())"
      ],
      "execution_count": null,
      "outputs": [
        {
          "output_type": "stream",
          "text": [
            "dict_values([1.99, 2.5, 4.19])\n"
          ],
          "name": "stdout"
        }
      ]
    },
    {
      "cell_type": "code",
      "metadata": {
        "id": "R9xd4_nVybwh",
        "cellView": "form",
        "colab": {
          "base_uri": "https://localhost:8080/"
        },
        "outputId": "59655685-9957-40e8-83dd-38c2c67a9bcd"
      },
      "source": [
        "#@title Solução\n",
        "verduras.values()"
      ],
      "execution_count": null,
      "outputs": [
        {
          "output_type": "execute_result",
          "data": {
            "text/plain": [
              "dict_values([1.99, 2.5, 4.19])"
            ]
          },
          "metadata": {
            "tags": []
          },
          "execution_count": 37
        }
      ]
    },
    {
      "cell_type": "code",
      "metadata": {
        "id": "JKWNSEyDyRnw",
        "colab": {
          "base_uri": "https://localhost:8080/"
        },
        "outputId": "4440eec4-be97-4048-967b-f9f05d0cd92c"
      },
      "source": [
        "# junte os dois dicionários\n",
        "frutas.update(verduras)\n",
        "print(f'Dicionário final: {frutas}')"
      ],
      "execution_count": null,
      "outputs": [
        {
          "output_type": "stream",
          "text": [
            "Dicionário final: {'banana': 4.98, 'maçã': 5.5, 'goiaba': 6.35, 'abacate': 1.99, 'alface': 1.99, 'couve': 2.5, 'agrião': 4.19}\n"
          ],
          "name": "stdout"
        }
      ]
    },
    {
      "cell_type": "code",
      "metadata": {
        "id": "jNGEDfxBydDR",
        "cellView": "form",
        "colab": {
          "base_uri": "https://localhost:8080/"
        },
        "outputId": "0bedee4c-814a-4eb1-f309-f227d0dcd119"
      },
      "source": [
        "#@title Solução\n",
        "frutas.update(verduras)\n",
        "print(frutas)"
      ],
      "execution_count": null,
      "outputs": [
        {
          "output_type": "stream",
          "text": [
            "{'banana': 4.98, 'maçã': 5.5, 'goiaba': 6.35, 'abacate': 1.99, 'alface': 1.99, 'couve': 2.5, 'agrião': 4.19}\n"
          ],
          "name": "stdout"
        }
      ]
    },
    {
      "cell_type": "code",
      "metadata": {
        "id": "d1G1AgARyUUL",
        "colab": {
          "base_uri": "https://localhost:8080/"
        },
        "outputId": "c8924511-7f55-43d5-d460-8314be675af5"
      },
      "source": [
        "# transforme o dicionário em vazio\n",
        "frutas.clear()\n",
        "frutas"
      ],
      "execution_count": null,
      "outputs": [
        {
          "output_type": "execute_result",
          "data": {
            "text/plain": [
              "{}"
            ]
          },
          "metadata": {
            "tags": []
          },
          "execution_count": 52
        }
      ]
    },
    {
      "cell_type": "code",
      "metadata": {
        "id": "n830mVs1yXHo",
        "colab": {
          "base_uri": "https://localhost:8080/"
        },
        "outputId": "284302ea-ccc4-4eaf-9ad1-7c6c57c586cd"
      },
      "source": [
        "#@title Solução\n",
        "frutas.clear()\n",
        "frutas"
      ],
      "execution_count": null,
      "outputs": [
        {
          "output_type": "execute_result",
          "data": {
            "text/plain": [
              "{}"
            ]
          },
          "metadata": {
            "tags": []
          },
          "execution_count": 50
        }
      ]
    },
    {
      "cell_type": "markdown",
      "metadata": {
        "id": "XbOH4HRBb1SU"
      },
      "source": [
        "**Referências**\n",
        "\n",
        "- Notebook usado na aula\n",
        " - https://colab.research.google.com/drive/1kov-MVzdGaRK6V-X4yCI5vHqTz6SQcqe?usp=sharing\n",
        "\n",
        "- Dicionários (USP​)\n",
        " - https://panda.ime.usp.br/pensepy/static/pensepy/11-Dicionarios/dicionarios.html\n",
        "\n",
        "- Dictionaries in Python (Real Python)\n",
        " - https://realpython.com/python-dicts/"
      ]
    },
    {
      "cell_type": "code",
      "metadata": {
        "id": "RtHEyJYnb09g"
      },
      "source": [
        ""
      ],
      "execution_count": null,
      "outputs": []
    }
  ]
}