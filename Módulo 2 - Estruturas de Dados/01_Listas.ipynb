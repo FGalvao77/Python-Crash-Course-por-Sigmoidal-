{
  "nbformat": 4,
  "nbformat_minor": 0,
  "metadata": {
    "colab": {
      "name": "01_Listas.ipynb",
      "provenance": [],
      "collapsed_sections": []
    },
    "kernelspec": {
      "name": "python3",
      "display_name": "Python 3"
    }
  },
  "cells": [
    {
      "cell_type": "markdown",
      "metadata": {
        "id": "1v8jEIJPfoxg"
      },
      "source": [
        "# Listas\n",
        "\n",
        "Listas são sequências de valores, onde cada valor é identificado por um índice referente a sua posição. O tipo de variável das listas é `list`, e você vai ver como elas são extremamente úteis para manipulação dos dados.\n",
        "\n",
        "Detalhe importante, as listas são mutáveis, compostas de diversos valores, chamados elementos ou itens, e que podem ser de diferentes tipos."
      ]
    },
    {
      "cell_type": "markdown",
      "metadata": {
        "id": "l7yd4mtT0uqG"
      },
      "source": [
        "Para criar uma lista, utilizaremos colchetes `[]`."
      ]
    },
    {
      "cell_type": "code",
      "metadata": {
        "id": "XkHmR-gwp1If",
        "colab": {
          "base_uri": "https://localhost:8080/"
        },
        "outputId": "47a370a8-91bb-42be-ca1f-68b4b53592a4"
      },
      "source": [
        "# criar uma lista\n",
        "lista_inicial = []\n",
        "print(lista_inicial)\n",
        "print(type(lista_inicial))"
      ],
      "execution_count": 1,
      "outputs": [
        {
          "output_type": "stream",
          "text": [
            "[]\n",
            "<class 'list'>\n"
          ],
          "name": "stdout"
        }
      ]
    },
    {
      "cell_type": "markdown",
      "metadata": {
        "id": "d7-zXfQY095X"
      },
      "source": [
        "Nós podemos inserir items de diferentes tipos dentro de uma lista."
      ]
    },
    {
      "cell_type": "code",
      "metadata": {
        "id": "1HpoW6HpqTdf",
        "colab": {
          "base_uri": "https://localhost:8080/"
        },
        "outputId": "af4d9e09-1017-4bb1-9d4f-3d3c2f46b61e"
      },
      "source": [
        "# criar uma lista com itens\n",
        "lista_inicial = ['Fernando', 'Galvão', 1.68, True]\n",
        "print(lista_inicial)"
      ],
      "execution_count": 5,
      "outputs": [
        {
          "output_type": "stream",
          "text": [
            "['Fernando', 'Galvão', 1.68, True]\n"
          ],
          "name": "stdout"
        }
      ]
    },
    {
      "cell_type": "markdown",
      "metadata": {
        "id": "PdHQTqo4qe6Z"
      },
      "source": [
        "#### Acessando um elemento\n",
        "\n",
        "Na última célula acima, criamos uma lista `lista_inicial = ['Fernando', 'Galvão', 1.68, True]`.\n",
        "\n",
        "Para acessar qualquer elemento dessa lista, precisamos indicar qual o índice referente à posição do mesmo. Lembre-se que o primeiro elemento contém a indexação igual a $0$!\n",
        "\n",
        "| 'Fernando' | 'Galvão' | 1\\.68 | True |\n",
        "|------------|----------|-------|------|\n",
        "| 0          | 1        | 2     | 3    |\n",
        "| \\-4        | \\-3      | \\-2   | \\-1  |\n",
        "\n",
        "O Python também permite você acessar elementos a partir do último, bastando usar o $-1$ para a última casa e ir subtraindo 1 para as posições anteriores.\n"
      ]
    },
    {
      "cell_type": "code",
      "metadata": {
        "id": "DlXQkX-brTfG",
        "colab": {
          "base_uri": "https://localhost:8080/"
        },
        "outputId": "31090605-cf39-4c94-c16d-0ad8c4ce8e40"
      },
      "source": [
        "# acessar o elemento \"Galvão\"\n",
        "print(lista_inicial[1])"
      ],
      "execution_count": 6,
      "outputs": [
        {
          "output_type": "stream",
          "text": [
            "Galvão\n"
          ],
          "name": "stdout"
        }
      ]
    },
    {
      "cell_type": "code",
      "metadata": {
        "id": "KT-ifEJWsEMN",
        "colab": {
          "base_uri": "https://localhost:8080/"
        },
        "outputId": "7b47a433-d5aa-4419-9195-fa9a992d323e"
      },
      "source": [
        "# acessar o penúltimo elemento\n",
        "print(lista_inicial[-2])\n",
        "\n",
        "# através deste método também\n",
        "print(lista_inicial[2])"
      ],
      "execution_count": 9,
      "outputs": [
        {
          "output_type": "stream",
          "text": [
            "1.68\n",
            "1.68\n"
          ],
          "name": "stdout"
        }
      ]
    },
    {
      "cell_type": "code",
      "metadata": {
        "id": "gXInewUcsN92",
        "colab": {
          "base_uri": "https://localhost:8080/",
          "height": 180
        },
        "outputId": "4c0df33b-2631-4fda-c9a3-e1f9d558f7c0"
      },
      "source": [
        "# erro ao tentar acessar um valor que não está no range da lista\n",
        "print(lista_inicial[11])"
      ],
      "execution_count": 8,
      "outputs": [
        {
          "output_type": "error",
          "ename": "IndexError",
          "evalue": "ignored",
          "traceback": [
            "\u001b[0;31m---------------------------------------------------------------------------\u001b[0m",
            "\u001b[0;31mIndexError\u001b[0m                                Traceback (most recent call last)",
            "\u001b[0;32m<ipython-input-8-3eff268c8d97>\u001b[0m in \u001b[0;36m<module>\u001b[0;34m()\u001b[0m\n\u001b[1;32m      1\u001b[0m \u001b[0;31m# erro ao tentar acessar um valor que não está no range da lista\u001b[0m\u001b[0;34m\u001b[0m\u001b[0;34m\u001b[0m\u001b[0;34m\u001b[0m\u001b[0m\n\u001b[0;32m----> 2\u001b[0;31m \u001b[0mprint\u001b[0m\u001b[0;34m(\u001b[0m\u001b[0mlista_inicial\u001b[0m\u001b[0;34m[\u001b[0m\u001b[0;36m11\u001b[0m\u001b[0;34m]\u001b[0m\u001b[0;34m)\u001b[0m\u001b[0;34m\u001b[0m\u001b[0;34m\u001b[0m\u001b[0m\n\u001b[0m",
            "\u001b[0;31mIndexError\u001b[0m: list index out of range"
          ]
        }
      ]
    },
    {
      "cell_type": "markdown",
      "metadata": {
        "id": "z-XUhyC6sTp2"
      },
      "source": [
        "#### Fatias de Listas\n",
        "\n",
        "Da mesma maneira que conseguimos \"fatiar\" um string, é possível fatiar uma lista. No caso, fatiar significa acessar itens que estejam dentro de um intervalo considerado.\n",
        "\n",
        "| \"Eduarda\" | \"Estudante\" | 222\\.50 | 433\\.80 | 591\\.66 | 124\\.20 |\n",
        "|-----------|-------------|---------|---------|---------|---------|\n",
        "| 0         | 1           | 2       | 3       | 4       | 5       |\n",
        "| \\-6       | \\-5         | \\-4     | \\-3     | \\-2     | \\-1     |\n",
        "\n",
        "\n",
        "Vamos ver como isso funciona na prática, criando e fatiando uma lista.\n",
        "\n"
      ]
    },
    {
      "cell_type": "code",
      "metadata": {
        "id": "ru7eNkNfsmBW"
      },
      "source": [
        "# gastos por trimestre\n",
        "cliente = [\"Eduarda\", \"Estudante\", 222.50, 433.80, 591.66, 124.20]"
      ],
      "execution_count": 11,
      "outputs": []
    },
    {
      "cell_type": "code",
      "metadata": {
        "id": "nyVOR6y1uikP",
        "colab": {
          "base_uri": "https://localhost:8080/"
        },
        "outputId": "633101f6-d4a6-4d97-839c-1f25ab3f6f81"
      },
      "source": [
        "# acessar as últimas quatro colunas:\n",
        "cliente[2:]"
      ],
      "execution_count": 12,
      "outputs": [
        {
          "output_type": "execute_result",
          "data": {
            "text/plain": [
              "[222.5, 433.8, 591.66, 124.2]"
            ]
          },
          "metadata": {
            "tags": []
          },
          "execution_count": 12
        }
      ]
    },
    {
      "cell_type": "markdown",
      "metadata": {
        "id": "9C8RsDoXvIIp"
      },
      "source": [
        "#### Verificando se um item pertence à lista\n",
        "\n",
        "É possível checar se um determinado item está ou não em uma lista. Isso pode ser feito usando  `in` ou `not in`, que irão retornar uma resposta booleana.\n"
      ]
    },
    {
      "cell_type": "code",
      "metadata": {
        "id": "6jW92e0CvTiV"
      },
      "source": [
        "# criar lista de convidados\n",
        "convidados = [\"Ricardo\", \"Aline\", \"Carlos\", \"Mathias\", \"Elaine\"]"
      ],
      "execution_count": 13,
      "outputs": []
    },
    {
      "cell_type": "code",
      "metadata": {
        "id": "SK_vx15UvuAR",
        "colab": {
          "base_uri": "https://localhost:8080/"
        },
        "outputId": "0c06dc51-be72-4bd1-85b2-2a793ddf0b3a"
      },
      "source": [
        "# ver se Elaine está entre os convidados\n",
        "\"Elaine\" in convidados"
      ],
      "execution_count": 14,
      "outputs": [
        {
          "output_type": "execute_result",
          "data": {
            "text/plain": [
              "True"
            ]
          },
          "metadata": {
            "tags": []
          },
          "execution_count": 14
        }
      ]
    },
    {
      "cell_type": "code",
      "metadata": {
        "id": "b3HKXn3hvzbv",
        "colab": {
          "base_uri": "https://localhost:8080/"
        },
        "outputId": "c83f5d5d-f0e7-4890-9230-bbf8465c560e"
      },
      "source": [
        "# confirmar se Pablo não foi convidado\n",
        "\"Pablo\" not in convidados"
      ],
      "execution_count": 15,
      "outputs": [
        {
          "output_type": "execute_result",
          "data": {
            "text/plain": [
              "True"
            ]
          },
          "metadata": {
            "tags": []
          },
          "execution_count": 15
        }
      ]
    },
    {
      "cell_type": "markdown",
      "metadata": {
        "id": "GPVP9gy7v-KK"
      },
      "source": [
        "#### Alterar um item da minha lista\n",
        "\n",
        "Uma vez que as listas são mutáveis, é possível acessar um índice e alterar o conteúdo dele."
      ]
    },
    {
      "cell_type": "code",
      "metadata": {
        "id": "gHQy65DawOMY",
        "colab": {
          "base_uri": "https://localhost:8080/"
        },
        "outputId": "2d9a9cb5-37c1-4175-e073-1a8a1e7a922f"
      },
      "source": [
        "# carteira de ações\n",
        "carteira = [\"BBAS3\", \"WEGE3\", \"ITSA4\"]\n",
        "\n",
        "print(carteira)"
      ],
      "execution_count": 16,
      "outputs": [
        {
          "output_type": "stream",
          "text": [
            "['BBAS3', 'WEGE3', 'ITSA4']\n"
          ],
          "name": "stdout"
        }
      ]
    },
    {
      "cell_type": "code",
      "metadata": {
        "id": "ciCxHvg_xQJQ",
        "colab": {
          "base_uri": "https://localhost:8080/"
        },
        "outputId": "1f230d88-49a8-4f34-a9da-a552d08fed66"
      },
      "source": [
        "# trocar a ITSA4 por PETR4\n",
        "carteira[2] = \"PETR4\"\n",
        "\n",
        "print(carteira)"
      ],
      "execution_count": 17,
      "outputs": [
        {
          "output_type": "stream",
          "text": [
            "['BBAS3', 'WEGE3', 'PETR4']\n"
          ],
          "name": "stdout"
        }
      ]
    },
    {
      "cell_type": "markdown",
      "metadata": {
        "id": "TwIZYjybxYoS"
      },
      "source": [
        "#### Adicionando ou excluindo itens de listas\n",
        "\n",
        "Para acrescentar um item ao final de uma lista, você pode usar o método `append()`. \n",
        "\n",
        "Para excluir um item, pode ser usado tantos o método `pop()` quanto o `remove()`. A diferença entre eles é que enquanto o primeiro recebe a posição do item como argumento, o segundo considera o próprio valor do item."
      ]
    },
    {
      "cell_type": "code",
      "metadata": {
        "id": "FUhuWPjbXinF",
        "colab": {
          "base_uri": "https://localhost:8080/"
        },
        "outputId": "14f47e9d-7b0f-49e8-84d7-0725db150b2f"
      },
      "source": [
        "# Acrescentar \"Ana Cristina\" à lista\n",
        "convidados = [\"Ricardo\", \"Aline\", \"Carlos\", \"Mathias\", \"Elaine\"]\n",
        "\n",
        "convidados.append(\"Ana Cristina\")\n",
        "print(convidados)"
      ],
      "execution_count": 18,
      "outputs": [
        {
          "output_type": "stream",
          "text": [
            "['Ricardo', 'Aline', 'Carlos', 'Mathias', 'Elaine', 'Ana Cristina']\n"
          ],
          "name": "stdout"
        }
      ]
    },
    {
      "cell_type": "code",
      "metadata": {
        "id": "z_xe0mqxYCsB",
        "colab": {
          "base_uri": "https://localhost:8080/"
        },
        "outputId": "2b3557af-4742-494f-9e1e-77abd89f3498"
      },
      "source": [
        "# Excluir o primeiro convidado da lista\n",
        "\n",
        "convidados.pop(0)\n",
        "print(convidados)"
      ],
      "execution_count": 19,
      "outputs": [
        {
          "output_type": "stream",
          "text": [
            "['Aline', 'Carlos', 'Mathias', 'Elaine', 'Ana Cristina']\n"
          ],
          "name": "stdout"
        }
      ]
    },
    {
      "cell_type": "code",
      "metadata": {
        "id": "JXcna8deYN8-",
        "colab": {
          "base_uri": "https://localhost:8080/"
        },
        "outputId": "fc060222-03cb-4939-e5f0-cf9e0e8b0332"
      },
      "source": [
        "# Excluir o \"Carlos\" dos convidados\n",
        "\n",
        "convidados.remove(\"Carlos\")\n",
        "print(convidados)"
      ],
      "execution_count": 20,
      "outputs": [
        {
          "output_type": "stream",
          "text": [
            "['Aline', 'Mathias', 'Elaine', 'Ana Cristina']\n"
          ],
          "name": "stdout"
        }
      ]
    },
    {
      "cell_type": "markdown",
      "metadata": {
        "id": "pe1CwQkj32wD"
      },
      "source": [
        "## Exercícios"
      ]
    },
    {
      "cell_type": "markdown",
      "metadata": {
        "id": "3gEUUe6Y3yrm"
      },
      "source": [
        "### Exercício 1\n",
        "\n",
        "Crie uma lista que contenha o nome de 5 frutas."
      ]
    },
    {
      "cell_type": "code",
      "metadata": {
        "id": "5t-rhQ6A4MBm",
        "colab": {
          "base_uri": "https://localhost:8080/"
        },
        "outputId": "567e372c-4da8-4939-ef69-940b0657fb12"
      },
      "source": [
        "# resposta\n",
        "lista_frutas = ['banana', 'maçã', 'uva', 'melancia', 'abacate']\n",
        "print(lista_frutas)\n",
        "print(type(lista_frutas))"
      ],
      "execution_count": 39,
      "outputs": [
        {
          "output_type": "stream",
          "text": [
            "['banana', 'maçã', 'uva', 'melancia', 'abacate']\n",
            "<class 'list'>\n"
          ],
          "name": "stdout"
        }
      ]
    },
    {
      "cell_type": "code",
      "metadata": {
        "id": "1jM5kDZzYSmk",
        "cellView": "form",
        "colab": {
          "base_uri": "https://localhost:8080/"
        },
        "outputId": "25b69799-c2d7-4b10-b226-948090a10e1c"
      },
      "source": [
        "#@title Solução\n",
        "frutas = ['Banana', 'Uva', 'Maçã', 'Abacaxi', 'Kiwi']\n",
        "print(frutas)"
      ],
      "execution_count": 23,
      "outputs": [
        {
          "output_type": "stream",
          "text": [
            "['Banana', 'Uva', 'Maçã', 'Abacaxi', 'Kiwi']\n"
          ],
          "name": "stdout"
        }
      ]
    },
    {
      "cell_type": "markdown",
      "metadata": {
        "id": "pRZ7HSR94Nfv"
      },
      "source": [
        "#### Exercício 2\n",
        "\n",
        "Adicione à sua lista de frutas:\n",
        "\n",
        "* Uma sexta fruta\n",
        "* Um objeto de tipo `int`\n",
        "* Um objeto de tipo `float`"
      ]
    },
    {
      "cell_type": "code",
      "metadata": {
        "id": "fGSZ0vk15nz7",
        "colab": {
          "base_uri": "https://localhost:8080/"
        },
        "outputId": "761167a1-21f9-405e-a8c1-ca7b1da59ff0"
      },
      "source": [
        "# resposta\n",
        "lista_frutas.append('laranja')\n",
        "lista_frutas.append(2021)\n",
        "lista_frutas.append(3.14)\n",
        "\n",
        "print(lista_frutas)"
      ],
      "execution_count": 40,
      "outputs": [
        {
          "output_type": "stream",
          "text": [
            "['banana', 'maçã', 'uva', 'melancia', 'abacate', 'laranja', 2021, 3.14]\n"
          ],
          "name": "stdout"
        }
      ]
    },
    {
      "cell_type": "code",
      "metadata": {
        "id": "vwOeRQVm4KmF",
        "cellView": "form",
        "colab": {
          "base_uri": "https://localhost:8080/"
        },
        "outputId": "a3f8e267-679d-4aaa-ebcb-9b5b6ec23ba4"
      },
      "source": [
        "#@title Solução\n",
        "# adicionando a fruta\n",
        "frutas.append('Melancia')\n",
        "\n",
        "# adicionando o int\n",
        "frutas.append(5)\n",
        "\n",
        "#adicionando o float\n",
        "frutas.append(5.0)\n",
        "\n",
        "# verificando o resultado\n",
        "print(frutas)"
      ],
      "execution_count": 25,
      "outputs": [
        {
          "output_type": "stream",
          "text": [
            "['Banana', 'Uva', 'Maçã', 'Abacaxi', 'Kiwi', 'Melancia', 5, 5.0]\n"
          ],
          "name": "stdout"
        }
      ]
    },
    {
      "cell_type": "markdown",
      "metadata": {
        "id": "JXcfIWvF5pN7"
      },
      "source": [
        "#### Exercício 3\n",
        "Verifique se os seguintes itens estão na lista:\n",
        "\n",
        "* Maçã\n",
        "* Mamão\n",
        "* 90"
      ]
    },
    {
      "cell_type": "code",
      "metadata": {
        "id": "KdTbXda84gU3",
        "colab": {
          "base_uri": "https://localhost:8080/"
        },
        "outputId": "683e1af8-c7f7-419d-9685-ae95ec5519cf"
      },
      "source": [
        "# resposta\n",
        "print(f\"A fruta maçã está na lista? {'maçã' in lista_frutas}\")\n",
        "print(f\"A fruta mamão está na lista? {'mamão' in lista_frutas}\")\n",
        "print(f'O número 90 está na lista? {90 in lista_frutas}')"
      ],
      "execution_count": 41,
      "outputs": [
        {
          "output_type": "stream",
          "text": [
            "A fruta maçã está na lista? True\n",
            "A fruta mamão está na lista? False\n",
            "O número 90 está na lista? False\n"
          ],
          "name": "stdout"
        }
      ]
    },
    {
      "cell_type": "code",
      "metadata": {
        "id": "RYtGqwZ8502F",
        "cellView": "form",
        "colab": {
          "base_uri": "https://localhost:8080/"
        },
        "outputId": "a2874ba5-c512-47eb-eff8-3499fe393e43"
      },
      "source": [
        "#@title Solução\n",
        "\n",
        "print('A fruta Maçã está na lista? {}'.format('Maçã' in frutas))\n",
        "print('A fruta Mamão está na lista? {}'.format('Mamão' in frutas))\n",
        "print('O número 90 está na lista? {}'.format(90 in frutas))"
      ],
      "execution_count": 29,
      "outputs": [
        {
          "output_type": "stream",
          "text": [
            "A fruta Maçã está na lista? True\n",
            "A fruta Mamão está na lista? False\n",
            "O número 90 está na lista? False\n"
          ],
          "name": "stdout"
        }
      ]
    },
    {
      "cell_type": "markdown",
      "metadata": {
        "id": "F0TYFduV6Q2Z"
      },
      "source": [
        "#### Exercício 4\n",
        "\n",
        "Execute as seguintes tarefas com a sua lista:\n",
        "\n",
        "* Substitua o item no index 3 pelo número `35`.\n",
        "* Remova da lista o item no index 3.\n",
        "* Remova todos os items da lista."
      ]
    },
    {
      "cell_type": "code",
      "metadata": {
        "id": "PDpkii5p54zt",
        "colab": {
          "base_uri": "https://localhost:8080/"
        },
        "outputId": "28e42db6-962b-4506-c75d-e6c0b0d90663"
      },
      "source": [
        "# resposta\n",
        "\n",
        "# imprimindo a lista\n",
        "lista_frutas"
      ],
      "execution_count": 42,
      "outputs": [
        {
          "output_type": "execute_result",
          "data": {
            "text/plain": [
              "['banana', 'maçã', 'uva', 'melancia', 'abacate', 'laranja', 2021, 3.14]"
            ]
          },
          "metadata": {
            "tags": []
          },
          "execution_count": 42
        }
      ]
    },
    {
      "cell_type": "code",
      "metadata": {
        "colab": {
          "base_uri": "https://localhost:8080/"
        },
        "id": "OsI5UOL7WrDq",
        "outputId": "aeb9a897-6b55-44b6-af8d-72e25f2f4c6e"
      },
      "source": [
        "# substituíndo o item do índice 3 por 35\n",
        "lista_frutas[3] = 35\n",
        "lista_frutas"
      ],
      "execution_count": 43,
      "outputs": [
        {
          "output_type": "execute_result",
          "data": {
            "text/plain": [
              "['banana', 'maçã', 'uva', 35, 'abacate', 'laranja', 2021, 3.14]"
            ]
          },
          "metadata": {
            "tags": []
          },
          "execution_count": 43
        }
      ]
    },
    {
      "cell_type": "code",
      "metadata": {
        "id": "WivrbSwq7NjZ",
        "colab": {
          "base_uri": "https://localhost:8080/"
        },
        "outputId": "9b4424de-b12a-44fc-c9e2-be08916c92db"
      },
      "source": [
        "# removendo o item 35\n",
        "lista_frutas.remove(35)\n",
        "lista_frutas"
      ],
      "execution_count": 44,
      "outputs": [
        {
          "output_type": "execute_result",
          "data": {
            "text/plain": [
              "['banana', 'maçã', 'uva', 'abacate', 'laranja', 2021, 3.14]"
            ]
          },
          "metadata": {
            "tags": []
          },
          "execution_count": 44
        }
      ]
    },
    {
      "cell_type": "code",
      "metadata": {
        "colab": {
          "base_uri": "https://localhost:8080/"
        },
        "id": "rT63lYmBXSJP",
        "outputId": "a16c3b4e-2c24-4f95-e166-540a32a8fdd5"
      },
      "source": [
        "# removendo todos os itens da lista\n",
        "lista_frutas.clear()\n",
        "lista_frutas"
      ],
      "execution_count": 46,
      "outputs": [
        {
          "output_type": "execute_result",
          "data": {
            "text/plain": [
              "[]"
            ]
          },
          "metadata": {
            "tags": []
          },
          "execution_count": 46
        }
      ]
    },
    {
      "cell_type": "code",
      "metadata": {
        "id": "OWlMk6L76k9D",
        "colab": {
          "base_uri": "https://localhost:8080/"
        },
        "outputId": "da57d55f-2ba8-4371-e7e2-c450a2b20847"
      },
      "source": [
        "#@title Solução\n",
        "# item 2 da lista antes da alteração\n",
        "print('Item no index 2 antes da alteração: ',frutas[2])\n",
        "\n",
        "# alterando o item no index 2\n",
        "frutas[2] = 35\n",
        "print('Novo item no index 2: ', frutas[2])\n",
        "\n",
        "# removendo o item\n",
        "frutas.pop(2)\n",
        "print('Lista sem o item \"35\": ', frutas)\n",
        "\n",
        "# limpando a lista\n",
        "frutas.clear()\n",
        "print('Lista vazia: ', frutas)"
      ],
      "execution_count": 47,
      "outputs": [
        {
          "output_type": "stream",
          "text": [
            "Item no index 2 antes da alteração:  Maçã\n",
            "Novo item no index 2:  35\n",
            "Lista sem o item \"35\":  ['Banana', 'Uva', 'Abacaxi', 'Kiwi', 'Melancia', 5, 5.0]\n",
            "Lista vazia:  []\n"
          ],
          "name": "stdout"
        }
      ]
    }
  ]
}