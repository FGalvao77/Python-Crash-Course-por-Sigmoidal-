{
  "nbformat": 4,
  "nbformat_minor": 0,
  "metadata": {
    "colab": {
      "name": "Python e seus pacotes.ipynb",
      "provenance": [],
      "collapsed_sections": []
    },
    "kernelspec": {
      "name": "python3",
      "display_name": "Python 3"
    },
    "language_info": {
      "name": "python"
    }
  },
  "cells": [
    {
      "cell_type": "markdown",
      "metadata": {
        "id": "ZYYBLgtiB2kK"
      },
      "source": [
        "# Cálculo"
      ]
    },
    {
      "cell_type": "code",
      "metadata": {
        "id": "aAVRWgfdB0qG"
      },
      "source": [
        "!pip install mlrose -q\n",
        "!pip install sympy -q"
      ],
      "execution_count": 3,
      "outputs": []
    },
    {
      "cell_type": "code",
      "metadata": {
        "id": "eH_sX2cFCDNo"
      },
      "source": [
        "import sympy as sym\n",
        "from sympy import Symbol, solve, symbols\n",
        "from sympy import init_printing\n",
        "import mlrose\n",
        "import numpy as np\n",
        "\n",
        "init_printing()"
      ],
      "execution_count": 7,
      "outputs": []
    },
    {
      "cell_type": "code",
      "metadata": {
        "colab": {
          "base_uri": "https://localhost:8080/",
          "height": 38
        },
        "id": "YtCFqlFQCDKo",
        "outputId": "547da0a7-d094-4d82-8a14-ed5ddd8c2c7e"
      },
      "source": [
        "x = sym.Symbol('x')\n",
        "sym.diff(x ** 5)"
      ],
      "execution_count": 8,
      "outputs": [
        {
          "output_type": "execute_result",
          "data": {
            "image/png": "[encoded data removed]",
            "text/latex": "$\\displaystyle 5 x^{4}$",
            "text/plain": [
              "   4\n",
              "5⋅x "
            ]
          },
          "metadata": {
            "tags": []
          },
          "execution_count": 8
        }
      ]
    },
    {
      "cell_type": "code",
      "metadata": {
        "id": "M_SBD1qTCDHm"
      },
      "source": [
        "x, y, z = symbols('x y z')"
      ],
      "execution_count": 9,
      "outputs": []
    },
    {
      "cell_type": "code",
      "metadata": {
        "colab": {
          "base_uri": "https://localhost:8080/",
          "height": 47
        },
        "id": "KydUPB-ACDEi",
        "outputId": "de324ce5-08da-4af2-a798-f671b6e70c0c"
      },
      "source": [
        "### solving a quadratic equation:\n",
        "q = x ** 2 - 2 * x + 7\n",
        "solve(q)"
      ],
      "execution_count": 11,
      "outputs": [
        {
          "output_type": "execute_result",
          "data": {
            "image/png": "[encoded data removed]",
            "text/latex": "$\\displaystyle \\left[ 1 - \\sqrt{6} i, \\  1 + \\sqrt{6} i\\right]$",
            "text/plain": [
              "[1 - √6⋅ⅈ, 1 + √6⋅ⅈ]"
            ]
          },
          "metadata": {
            "tags": []
          },
          "execution_count": 11
        }
      ]
    },
    {
      "cell_type": "code",
      "metadata": {
        "colab": {
          "base_uri": "https://localhost:8080/",
          "height": 68
        },
        "id": "Wggw_OyFCDCF",
        "outputId": "96e4e883-10c6-4a52-d58c-a4aeef268ccb"
      },
      "source": [
        "# solving fpr onde variable in terms of the other\n",
        "q = x ** 2 + y * x + z\n",
        "results = solve(q, x)\n",
        "results"
      ],
      "execution_count": 13,
      "outputs": [
        {
          "output_type": "execute_result",
          "data": {
            "image/png": "[encoded data removed]",
            "text/latex": "$\\displaystyle \\left[ - \\frac{y}{2} - \\frac{\\sqrt{y^{2} - 4 z}}{2}, \\  - \\frac{y}{2} + \\frac{\\sqrt{y^{2} - 4 z}}{2}\\right]$",
            "text/plain": [
              "⎡         __________           __________⎤\n",
              "⎢        ╱  2                 ╱  2       ⎥\n",
              "⎢  y   ╲╱  y  - 4⋅z     y   ╲╱  y  - 4⋅z ⎥\n",
              "⎢- ─ - ─────────────, - ─ + ─────────────⎥\n",
              "⎣  2         2          2         2      ⎦"
            ]
          },
          "metadata": {
            "tags": []
          },
          "execution_count": 13
        }
      ]
    },
    {
      "cell_type": "code",
      "metadata": {
        "colab": {
          "base_uri": "https://localhost:8080/",
          "height": 47
        },
        "id": "tini_ERiCC_o",
        "outputId": "0d91d4c8-d0a6-4eb9-b474-b4b52ca7fe28"
      },
      "source": [
        "# computing the results for a pair of y = 2 and x = 7 (same expression as above)\n",
        "[ret.subs({y: 2, z: 7}) for ret in results]"
      ],
      "execution_count": 15,
      "outputs": [
        {
          "output_type": "execute_result",
          "data": {
            "image/png": "[encoded data removed]",
            "text/latex": "$\\displaystyle \\left[ -1 - \\sqrt{6} i, \\  -1 + \\sqrt{6} i\\right]$",
            "text/plain": [
              "[-1 - √6⋅ⅈ, -1 + √6⋅ⅈ]"
            ]
          },
          "metadata": {
            "tags": []
          },
          "execution_count": 15
        }
      ]
    },
    {
      "cell_type": "code",
      "metadata": {
        "colab": {
          "base_uri": "https://localhost:8080/",
          "height": 47
        },
        "id": "v_Q8efuTCC9S",
        "outputId": "6a5c0b9a-23ff-4372-a114-bc36f508fb64"
      },
      "source": [
        "x, y, z = symbols('x y z')\n",
        "\n",
        "### solving a quadratic equation:\n",
        "q = x ** 2 - 2 * x + 7\n",
        "solve(q)\n",
        "\n",
        "# solving fpr onde variable in terms of the other\n",
        "q = x ** 2 + y * x + z\n",
        "results = solve(q, x)\n",
        "\n",
        "# computing the results for a pair of y = 2 and x = 7 (same expression as above)\n",
        "[ret.subs({y: 2, z: 7}) for ret in results]"
      ],
      "execution_count": 16,
      "outputs": [
        {
          "output_type": "execute_result",
          "data": {
            "image/png": "[encoded data removed]",
            "text/latex": "$\\displaystyle \\left[ -1 - \\sqrt{6} i, \\  -1 + \\sqrt{6} i\\right]$",
            "text/plain": [
              "[-1 - √6⋅ⅈ, -1 + √6⋅ⅈ]"
            ]
          },
          "metadata": {
            "tags": []
          },
          "execution_count": 16
        }
      ]
    },
    {
      "cell_type": "markdown",
      "metadata": {
        "id": "WNuMsyK0F2nr"
      },
      "source": [
        "# Otimização"
      ]
    },
    {
      "cell_type": "code",
      "metadata": {
        "colab": {
          "base_uri": "https://localhost:8080/"
        },
        "id": "9nAJq1OUCC7e",
        "outputId": "1f45bb20-0daa-41fb-8556-eaf5f886a196"
      },
      "source": [
        "# create list od city coordinates\n",
        "coords_list = [(1, 1), (4, 2), (5, 2), (6, 4),\n",
        "               (4, 4), (3, 6), (1, 5), (2, 3)]\n",
        "\n",
        "# initialize fitness function object using coords_list\n",
        "fitness_coords = mlrose.TravellingSales(coords = coords_list)\n",
        "\n",
        "# define optimization problem object\n",
        "problem_fit = mlrose.TSPOpt(length = 8, \n",
        "                            fitness_fn = fitness_coords, \n",
        "                            maximize = False)\n",
        "\n",
        "# create list city coordinates\n",
        "coords_list = [(1, 1), (4, 2), (5, 2), (6, 4),\n",
        "               (4, 4), (3, 6), (1, 5), (2, 3)]\n",
        "\n",
        "# define optimization problem object\n",
        "problem_no_Fit = mlrose.TSPOpt(length = 8, \n",
        "                            coords = coords_list , \n",
        "                            maximize = False)\n",
        "\n",
        "# solve problem using the genetic algorithm\n",
        "best_state, best_fitness = mlrose.genetic_alg(problem_fit, \n",
        "                                              random_state = 2)\n",
        "\n",
        "print(best_state)\n",
        "\n",
        "print(best_fitness)\n"
      ],
      "execution_count": 17,
      "outputs": [
        {
          "output_type": "stream",
          "text": [
            "[1 3 4 5 6 7 0 2]\n",
            "18.89580466036301\n"
          ],
          "name": "stdout"
        }
      ]
    },
    {
      "cell_type": "markdown",
      "metadata": {
        "id": "5l3MpRTtKPr9"
      },
      "source": [
        "**Referência**\n",
        "\n",
        "  - Notebook usado na aula\n",
        "    - https://colab.research.google.com/drive/1wU5V-T12Eb8Ixdd7GIRA4676nkAnul7P?usp=sharing\n",
        "\n",
        "\n",
        "  - Derivadas com Python\n",
        "    - https://towardsdatascience.com/taking-derivatives-in-python-d6229ba72c64\n",
        "\n",
        "\n",
        "  - Otimização de Rotas\n",
        "    - https://mlrose.readthedocs.io/en/stable/source/tutorial2.html\n",
        "    \n",
        "\n",
        "  - Google OR-Tools\n",
        "    - https://developers.google.com/optimization/introduction/get_started"
      ]
    },
    {
      "cell_type": "code",
      "metadata": {
        "id": "6IzlQh-yCC5O"
      },
      "source": [
        ""
      ],
      "execution_count": null,
      "outputs": []
    },
    {
      "cell_type": "code",
      "metadata": {
        "id": "UsphotfeCC24"
      },
      "source": [
        ""
      ],
      "execution_count": null,
      "outputs": []
    },
    {
      "cell_type": "code",
      "metadata": {
        "id": "scPEzwjcCC1H"
      },
      "source": [
        ""
      ],
      "execution_count": null,
      "outputs": []
    },
    {
      "cell_type": "code",
      "metadata": {
        "id": "s-4EHX39CCzS"
      },
      "source": [
        ""
      ],
      "execution_count": null,
      "outputs": []
    }
  ]
}