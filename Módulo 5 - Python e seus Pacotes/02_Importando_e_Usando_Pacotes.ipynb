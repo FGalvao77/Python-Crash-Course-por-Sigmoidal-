{
  "nbformat": 4,
  "nbformat_minor": 0,
  "metadata": {
    "colab": {
      "name": "Importando e Usando Pacotes.ipynb",
      "provenance": [],
      "collapsed_sections": []
    },
    "kernelspec": {
      "name": "python3",
      "display_name": "Python 3"
    },
    "language_info": {
      "name": "python"
    }
  },
  "cells": [
    {
      "cell_type": "code",
      "metadata": {
        "colab": {
          "base_uri": "https://localhost:8080/"
        },
        "id": "6FHJLtbsfJE7",
        "outputId": "0991f73b-28e8-4462-d0a3-220a2261ae69"
      },
      "source": [
        "# o ponto de exclamação tem a funcionalidade de instalar e iteragir com o seu terminal\n",
        "!ls"
      ],
      "execution_count": 1,
      "outputs": [
        {
          "output_type": "stream",
          "text": [
            "sample_data\n"
          ],
          "name": "stdout"
        }
      ]
    },
    {
      "cell_type": "code",
      "metadata": {
        "colab": {
          "base_uri": "https://localhost:8080/"
        },
        "id": "XQ1HDuKXfZKu",
        "outputId": "28d16c0e-69d2-4eb2-c224-dbeb396f24fb"
      },
      "source": [
        "# para instalar um pacote e/ou uma biblioteca temos que usar o seguinte comando\n",
        "# \"!pip 'nome_pacote'\"\n",
        "! pip install numpy   # por padrão o numpy já vem instalado"
      ],
      "execution_count": 2,
      "outputs": [
        {
          "output_type": "stream",
          "text": [
            "Requirement already satisfied: numpy in /usr/local/lib/python3.7/dist-packages (1.19.5)\n"
          ],
          "name": "stdout"
        }
      ]
    },
    {
      "cell_type": "code",
      "metadata": {
        "id": "DX7_cbwHfZHd"
      },
      "source": [
        "# para usa-lo\n",
        "import numpy"
      ],
      "execution_count": 3,
      "outputs": []
    },
    {
      "cell_type": "code",
      "metadata": {
        "colab": {
          "base_uri": "https://localhost:8080/"
        },
        "id": "_yNPfJGmfZDh",
        "outputId": "cc9740e9-a26d-47cb-f834-1277df47ab9c"
      },
      "source": [
        "numpy\n",
        "# ele retorna que é um módulo"
      ],
      "execution_count": 4,
      "outputs": [
        {
          "output_type": "execute_result",
          "data": {
            "text/plain": [
              "<module 'numpy' from '/usr/local/lib/python3.7/dist-packages/numpy/__init__.py'>"
            ]
          },
          "metadata": {
            "tags": []
          },
          "execution_count": 4
        }
      ]
    },
    {
      "cell_type": "code",
      "metadata": {
        "colab": {
          "base_uri": "https://localhost:8080/"
        },
        "id": "1uF0w5WRfY-v",
        "outputId": "2f64b517-cc9a-425b-eeea-47faae197c14"
      },
      "source": [
        "# para calcular o valor absoluto de um número\n",
        "numpy.abs(-10)"
      ],
      "execution_count": 6,
      "outputs": [
        {
          "output_type": "execute_result",
          "data": {
            "text/plain": [
              "10"
            ]
          },
          "metadata": {
            "tags": []
          },
          "execution_count": 6
        }
      ]
    },
    {
      "cell_type": "markdown",
      "metadata": {
        "id": "bu-6t_ULg-0m"
      },
      "source": [
        "Para um melhor aprofundamento na aplicação de qualquer biblioteca, é aconselhavel ler a documentação:\n",
        "\n",
        "- Numpy:\n",
        " - https://numpy.org/doc/\n",
        "\n"
      ]
    },
    {
      "cell_type": "code",
      "metadata": {
        "id": "sd6m5h9XfY8c"
      },
      "source": [
        "# por uso padrão, sempre quando importamos uma biblioteca ela recebe um nome simplificado\n",
        "# segue exemplo\n",
        "import numpy as np\n"
      ],
      "execution_count": 7,
      "outputs": []
    },
    {
      "cell_type": "code",
      "metadata": {
        "colab": {
          "base_uri": "https://localhost:8080/"
        },
        "id": "-9NulDyKfY5h",
        "outputId": "25970240-b683-4950-b294-78d14d3ca919"
      },
      "source": [
        "# calcular raiz quadrada\n",
        "np.sqrt(16)"
      ],
      "execution_count": 8,
      "outputs": [
        {
          "output_type": "execute_result",
          "data": {
            "text/plain": [
              "4.0"
            ]
          },
          "metadata": {
            "tags": []
          },
          "execution_count": 8
        }
      ]
    },
    {
      "cell_type": "code",
      "metadata": {
        "id": "Vcw0FVQcfY2_"
      },
      "source": [
        "# podemos também importar somente uma função especifíca\n",
        "from numpy import abs"
      ],
      "execution_count": 9,
      "outputs": []
    },
    {
      "cell_type": "code",
      "metadata": {
        "colab": {
          "base_uri": "https://localhost:8080/"
        },
        "id": "PkWC0-lffY0K",
        "outputId": "c832858f-627e-4db6-b6e6-fd5a9e38fafa"
      },
      "source": [
        "# quando fazemos isso, não precisamos mais passar a biblioteca\n",
        "# e somente a função\n",
        "abs(-5)"
      ],
      "execution_count": 10,
      "outputs": [
        {
          "output_type": "execute_result",
          "data": {
            "text/plain": [
              "5"
            ]
          },
          "metadata": {
            "tags": []
          },
          "execution_count": 10
        }
      ]
    },
    {
      "cell_type": "markdown",
      "metadata": {
        "id": "yHU5vdHAi_VM"
      },
      "source": [
        "Para conhecer outros pacotes e suas funcionalidades.\n",
        "\n",
        "**Referências**\n",
        "\n",
        "- Python Data Science Handbook\n",
        " - https://jakevdp.github.io/PythonDataScienceHandbook/"
      ]
    },
    {
      "cell_type": "markdown",
      "metadata": {
        "id": "quoo0XirjraI"
      },
      "source": [
        "**E agora... para onde eu vou?**\n",
        "\n",
        "\n",
        "- Curso MIT Introduction to Computer Science and Programming Using Python\n",
        " - https://www.edx.org/course/introduction-to-computer-science-and-programming-7\n",
        "\n",
        "- Como montar um portfólio para Data Science\n",
        " - https://www.youtube.com/watch?v=LbwKFDxci5w\n",
        "\n",
        "- Como aprender Data Science com Python\n",
        " - https://www.youtube.com/watch?v=C6eKuZ2PVDE"
      ]
    },
    {
      "cell_type": "code",
      "metadata": {
        "id": "s-8a_nG8jShe"
      },
      "source": [
        ""
      ],
      "execution_count": null,
      "outputs": []
    },
    {
      "cell_type": "code",
      "metadata": {
        "id": "60mhLwjyjSt9"
      },
      "source": [
        ""
      ],
      "execution_count": null,
      "outputs": []
    },
    {
      "cell_type": "code",
      "metadata": {
        "id": "LVHtuOA3jSrp"
      },
      "source": [
        ""
      ],
      "execution_count": null,
      "outputs": []
    },
    {
      "cell_type": "code",
      "metadata": {
        "id": "oS_NsqtpjSof"
      },
      "source": [
        ""
      ],
      "execution_count": null,
      "outputs": []
    },
    {
      "cell_type": "code",
      "metadata": {
        "id": "NT-O92IDjSmO"
      },
      "source": [
        ""
      ],
      "execution_count": null,
      "outputs": []
    }
  ]
}