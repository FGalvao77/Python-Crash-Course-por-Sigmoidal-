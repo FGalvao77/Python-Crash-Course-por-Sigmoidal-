{
  "nbformat": 4,
  "nbformat_minor": 0,
  "metadata": {
    "colab": {
      "name": "Números_Inteiros_vs_Floats.ipynb",
      "provenance": [],
      "collapsed_sections": []
    },
    "kernelspec": {
      "name": "python3",
      "display_name": "Python 3"
    }
  },
  "cells": [
    {
      "cell_type": "markdown",
      "metadata": {
        "id": "5sWZ2auRITdD"
      },
      "source": [
        "#Inteiros e Floats\n",
        "\n",
        "Os números inteiros (como 5, 4, 33) são do tipo `int`, enquanto aqueles números que carregam uma parte fracional (como 5.5, 3.33, 3.14, 5.0) são do tipo `float`. No começo, lidar com tipos de números pode ser confuso, mas a prática vai fazer você entender.\n",
        "\n",
        "Para saber o tipo de uma variável, você pode usar a função `type`."
      ]
    },
    {
      "cell_type": "markdown",
      "metadata": {
        "id": "mmPSR5XBXk-m"
      },
      "source": [
        "No primeiro exemplo, vemos que o número 5 não possui parte fracional, por isso, é um inteiro."
      ]
    },
    {
      "cell_type": "code",
      "metadata": {
        "id": "BOXAIT6WIerI",
        "colab": {
          "base_uri": "https://localhost:8080/"
        },
        "outputId": "f69cdd3e-0fac-4d9a-f76e-258c2bfe2fb8"
      },
      "source": [
        "# verificando o tipo. Aqui, o 5 é inteiro.\n",
        "type(5) "
      ],
      "execution_count": 1,
      "outputs": [
        {
          "output_type": "execute_result",
          "data": {
            "text/plain": [
              "int"
            ]
          },
          "metadata": {
            "tags": []
          },
          "execution_count": 1
        }
      ]
    },
    {
      "cell_type": "markdown",
      "metadata": {
        "id": "Do9sJwX3Xtj1"
      },
      "source": [
        "Quando adicionamos uma parte fracional, o número se torna um `float`."
      ]
    },
    {
      "cell_type": "code",
      "metadata": {
        "id": "b0K51PcpIqht",
        "colab": {
          "base_uri": "https://localhost:8080/"
        },
        "outputId": "c3a559ce-7334-40ea-900f-0429f6ae2de5"
      },
      "source": [
        "# a variável abc representa o número 44.44, que tem parte fracional, portanto, float.\n",
        "abc = 44.44\n",
        "type(abc)"
      ],
      "execution_count": 2,
      "outputs": [
        {
          "output_type": "execute_result",
          "data": {
            "text/plain": [
              "float"
            ]
          },
          "metadata": {
            "tags": []
          },
          "execution_count": 2
        }
      ]
    },
    {
      "cell_type": "markdown",
      "metadata": {
        "id": "L5D8QoV3X60R"
      },
      "source": [
        "Caso adicionemos parte fracional ao nosso 5 (`int`), ele passa a ser um `float`, mesmo que a parte fracional seja 0."
      ]
    },
    {
      "cell_type": "code",
      "metadata": {
        "id": "uHeeZGrLIrnq",
        "colab": {
          "base_uri": "https://localhost:8080/"
        },
        "outputId": "7310cdc0-5106-4148-9c64-398def5cd9c2"
      },
      "source": [
        "# aqui o 5.0 é um float.\n",
        "type(5.0000)"
      ],
      "execution_count": 4,
      "outputs": [
        {
          "output_type": "execute_result",
          "data": {
            "text/plain": [
              "float"
            ]
          },
          "metadata": {
            "tags": []
          },
          "execution_count": 4
        }
      ]
    },
    {
      "cell_type": "markdown",
      "metadata": {
        "id": "uQPd4cb2YJlz"
      },
      "source": [
        "Em mais um exemplo podemos ver que pi é um número com parte fracional, portanto, `float`."
      ]
    },
    {
      "cell_type": "code",
      "metadata": {
        "id": "rpxJyY1DIscO",
        "colab": {
          "base_uri": "https://localhost:8080/"
        },
        "outputId": "dff21301-7753-45f5-b8fe-adc62907599a"
      },
      "source": [
        "pi = 3.14\n",
        "type(pi)"
      ],
      "execution_count": 5,
      "outputs": [
        {
          "output_type": "execute_result",
          "data": {
            "text/plain": [
              "float"
            ]
          },
          "metadata": {
            "tags": []
          },
          "execution_count": 5
        }
      ]
    },
    {
      "cell_type": "markdown",
      "metadata": {
        "id": "IVUN-7zZYluI"
      },
      "source": [
        "Na documentação oficial do Python encontramos que ao fazer a divisão de números inteiros, temos por resultado um número `float`, mesmo que a divisão seja inteira."
      ]
    },
    {
      "cell_type": "code",
      "metadata": {
        "id": "sgZw4KvSIt0_",
        "colab": {
          "base_uri": "https://localhost:8080/"
        },
        "outputId": "08b569d4-3898-40e1-c83c-8a9f6294809e"
      },
      "source": [
        "# divisão de inteiros\n",
        "y = 3 / 3\n",
        "print(y)\n",
        "type(y)"
      ],
      "execution_count": 6,
      "outputs": [
        {
          "output_type": "stream",
          "text": [
            "1.0\n"
          ],
          "name": "stdout"
        },
        {
          "output_type": "execute_result",
          "data": {
            "text/plain": [
              "float"
            ]
          },
          "metadata": {
            "tags": []
          },
          "execution_count": 6
        }
      ]
    },
    {
      "cell_type": "code",
      "metadata": {
        "id": "dfAPXlqXIu-g",
        "colab": {
          "base_uri": "https://localhost:8080/"
        },
        "outputId": "17ab0d60-0f77-4e86-ef3b-121023bf0cf1"
      },
      "source": [
        "# uma divisão SEMPRE vai retornar um float como resultado\n",
        "print(type(3 / 3))\n",
        "print(type(10.0 / 5))\n",
        "print(type(10.0 / 2.0))"
      ],
      "execution_count": 7,
      "outputs": [
        {
          "output_type": "stream",
          "text": [
            "<class 'float'>\n",
            "<class 'float'>\n",
            "<class 'float'>\n"
          ],
          "name": "stdout"
        }
      ]
    },
    {
      "cell_type": "markdown",
      "metadata": {
        "id": "1KpYHK8dIwO-"
      },
      "source": [
        "Existem momentos em que você vai querer converter um `float` em `int`. Isso pode ser feito com `int()`. O mesmo vale para a operação contrário, bastando indicar a variável dentro dos parênteses."
      ]
    },
    {
      "cell_type": "code",
      "metadata": {
        "id": "B4-evh-ZIyzs",
        "colab": {
          "base_uri": "https://localhost:8080/"
        },
        "outputId": "156ce4b3-157f-4a92-ac4b-051662b7bb1a"
      },
      "source": [
        "idade = 35.00\n",
        "type(idade)"
      ],
      "execution_count": 8,
      "outputs": [
        {
          "output_type": "execute_result",
          "data": {
            "text/plain": [
              "float"
            ]
          },
          "metadata": {
            "tags": []
          },
          "execution_count": 8
        }
      ]
    },
    {
      "cell_type": "code",
      "metadata": {
        "id": "ttXnxK28I0YO",
        "colab": {
          "base_uri": "https://localhost:8080/",
          "height": 35
        },
        "outputId": "bf761120-bc0d-4d8f-b0e7-e88a5ed8d313"
      },
      "source": [
        "# converter\n",
        "idade = int(idade)\n",
        "type(idade)"
      ],
      "execution_count": null,
      "outputs": [
        {
          "output_type": "execute_result",
          "data": {
            "text/plain": [
              "int"
            ]
          },
          "metadata": {
            "tags": []
          },
          "execution_count": 8
        }
      ]
    },
    {
      "cell_type": "code",
      "metadata": {
        "id": "Z4h-aj4rI2lY",
        "colab": {
          "base_uri": "https://localhost:8080/"
        },
        "outputId": "189ffe53-d200-48a5-b959-7ebd4f1055ba"
      },
      "source": [
        "float(3)"
      ],
      "execution_count": 9,
      "outputs": [
        {
          "output_type": "execute_result",
          "data": {
            "text/plain": [
              "3.0"
            ]
          },
          "metadata": {
            "tags": []
          },
          "execution_count": 9
        }
      ]
    },
    {
      "cell_type": "markdown",
      "metadata": {
        "id": "0TzMUj6xI3lY"
      },
      "source": [
        "Existe ainda uma opção quando eu quero realizar uma divisão, porém quero ficar apenas com a parte inteira de um número, descartando toda a parte fracionária. Essa operação pode ser feita usando `//`."
      ]
    },
    {
      "cell_type": "code",
      "metadata": {
        "id": "vodOe_VNI5k2",
        "colab": {
          "base_uri": "https://localhost:8080/"
        },
        "outputId": "293e9a86-efe4-4d2b-fa14-18719a4c9a45"
      },
      "source": [
        "print(11 / 3)  # divisão normal com /\n",
        "print(11 // 3) # divisão usando //"
      ],
      "execution_count": 10,
      "outputs": [
        {
          "output_type": "stream",
          "text": [
            "3.6666666666666665\n",
            "3\n"
          ],
          "name": "stdout"
        }
      ]
    },
    {
      "cell_type": "markdown",
      "metadata": {
        "id": "9Hvlr-1HcquF"
      },
      "source": [
        "## Exercícios\n",
        "\n",
        "Agora que vimos um pouco mais sobre inteiros e floats, vamos praticar um pouco."
      ]
    },
    {
      "cell_type": "markdown",
      "metadata": {
        "id": "qGH4BlbEe9Ut"
      },
      "source": [
        "#### Exercício 1\n",
        "Transforme o resultado a divisão de inteiros em inteiro.\n",
        "\n",
        "$$\n",
        "\\begin{aligned}\n",
        "x & = 25 / 5\n",
        "\\end{aligned}\n",
        "$$"
      ]
    },
    {
      "cell_type": "code",
      "metadata": {
        "id": "mCopQuIOcSoC",
        "colab": {
          "base_uri": "https://localhost:8080/"
        },
        "outputId": "c3be36e8-0a80-4457-9ed6-2b728d861816"
      },
      "source": [
        "# resposta\n",
        "decimal = 25 / 5\n",
        "print(decimal,type(decimal))\n",
        "\n",
        "inteiro = 25 // 5\n",
        "print(inteiro, type(inteiro))\n"
      ],
      "execution_count": 20,
      "outputs": [
        {
          "output_type": "stream",
          "text": [
            "5.0 <class 'float'>\n",
            "5 <class 'int'>\n"
          ],
          "name": "stdout"
        }
      ]
    },
    {
      "cell_type": "code",
      "metadata": {
        "id": "DcQqM81MhT60",
        "cellView": "form",
        "colab": {
          "base_uri": "https://localhost:8080/"
        },
        "outputId": "c41ebd78-4c04-4504-d5b2-620b45d420bd"
      },
      "source": [
        "#@title Solução\n",
        "x = 25/5\n",
        "print('Resultado como float: ', x)\n",
        "print('Tipo: ', type(x))\n",
        "#transformando em int\n",
        "x = int(x)\n",
        "print('Resultado como integer: ', x)\n",
        "print('Tipo: ', type(x))"
      ],
      "execution_count": 12,
      "outputs": [
        {
          "output_type": "stream",
          "text": [
            "Resultado como float:  5.0\n",
            "Tipo:  <class 'float'>\n",
            "Resultado como integer:  5\n",
            "Tipo:  <class 'int'>\n"
          ],
          "name": "stdout"
        }
      ]
    },
    {
      "cell_type": "markdown",
      "metadata": {
        "id": "Rl3RIqLkic6f"
      },
      "source": [
        "#### Exercício 2\n",
        "Use a função `type()` para descobrir os tipos das seguintes variáveis:"
      ]
    },
    {
      "cell_type": "code",
      "metadata": {
        "id": "lkgNPyX3iqM4"
      },
      "source": [
        "# variáveis\n",
        "x = 33\n",
        "y = 33/3\n",
        "z = 33.5"
      ],
      "execution_count": 64,
      "outputs": []
    },
    {
      "cell_type": "code",
      "metadata": {
        "id": "yCWRX2fIlEfN",
        "colab": {
          "base_uri": "https://localhost:8080/"
        },
        "outputId": "964facca-4a2d-41c7-bde8-60ba1d3fe78f"
      },
      "source": [
        "# resposta\n",
        "print(f'x = {x}   | Tipo: {type(x)} \\ny = {y} | Tipo: {type(y)} \\nz = {z} | Tipo: {type(z)}' )"
      ],
      "execution_count": 51,
      "outputs": [
        {
          "output_type": "stream",
          "text": [
            "x = 33   | Tipo: <class 'int'> \n",
            "y = 11.0 | Tipo: <class 'float'> \n",
            "z = 33.5 | Tipo: <class 'float'>\n"
          ],
          "name": "stdout"
        }
      ]
    },
    {
      "cell_type": "code",
      "metadata": {
        "id": "ddDmJbpth06P",
        "cellView": "form",
        "colab": {
          "base_uri": "https://localhost:8080/"
        },
        "outputId": "b3cfc52b-99be-4a38-f4ec-c9b6223eb972"
      },
      "source": [
        "#@title Solução\n",
        "print(type(x))\n",
        "print(type(y))\n",
        "print(type(z))"
      ],
      "execution_count": 31,
      "outputs": [
        {
          "output_type": "stream",
          "text": [
            "<class 'int'>\n",
            "<class 'float'>\n",
            "<class 'float'>\n"
          ],
          "name": "stdout"
        }
      ]
    },
    {
      "cell_type": "markdown",
      "metadata": {
        "id": "DN10x95sk5d9"
      },
      "source": [
        "#### Exercício 3\n",
        "Usando as variáveis do exercício anterior, transforme todas elas em `int`."
      ]
    },
    {
      "cell_type": "code",
      "metadata": {
        "id": "4QQUchCTlYVG",
        "colab": {
          "base_uri": "https://localhost:8080/"
        },
        "outputId": "915ae76a-4da7-4f08-b3a8-ee0ea6cb0b46"
      },
      "source": [
        "# resposta\n",
        "x = int(x)\n",
        "y = int(y)\n",
        "z = int(z)\n",
        "\n",
        "print(x, type(x))\n",
        "print(y, type(y))\n",
        "print(z, type(z))"
      ],
      "execution_count": 70,
      "outputs": [
        {
          "output_type": "stream",
          "text": [
            "33 <class 'int'>\n",
            "11 <class 'int'>\n",
            "33 <class 'int'>\n"
          ],
          "name": "stdout"
        }
      ]
    },
    {
      "cell_type": "code",
      "metadata": {
        "colab": {
          "base_uri": "https://localhost:8080/"
        },
        "id": "WQV7z7QVIHJ_",
        "outputId": "05de7001-e4df-4918-8dbc-a0cfb7f2f841"
      },
      "source": [
        "print(x, y, z)"
      ],
      "execution_count": 71,
      "outputs": [
        {
          "output_type": "stream",
          "text": [
            "33 11 33\n"
          ],
          "name": "stdout"
        }
      ]
    },
    {
      "cell_type": "code",
      "metadata": {
        "id": "eeq1gh-Mkx8V",
        "colab": {
          "base_uri": "https://localhost:8080/"
        },
        "outputId": "6cab4553-362d-4e62-a3c8-dd2f9c6463e4"
      },
      "source": [
        "#@title Solução\n",
        "x = int(x)\n",
        "y = int(y)\n",
        "z = int(z)\n",
        "\n",
        "# conferindo os tipos\n",
        "print(type(x))\n",
        "print(type(y))\n",
        "print(type(z))"
      ],
      "execution_count": 40,
      "outputs": [
        {
          "output_type": "stream",
          "text": [
            "<class 'int'>\n",
            "<class 'int'>\n",
            "<class 'int'>\n"
          ],
          "name": "stdout"
        }
      ]
    },
    {
      "cell_type": "markdown",
      "metadata": {
        "id": "O-bubRqplXrU"
      },
      "source": [
        "#### Exercício 3\n",
        "Usando as variáveis do exercício anterior, transforme todas elas em `float`."
      ]
    },
    {
      "cell_type": "code",
      "metadata": {
        "id": "lkKomdl4lhKE",
        "colab": {
          "base_uri": "https://localhost:8080/"
        },
        "outputId": "c9f3d288-b876-4cfe-83ae-e274bec110b1"
      },
      "source": [
        "# resposta\n",
        "x = float(x)\n",
        "y = float(y)\n",
        "z = float(z)\n",
        "\n",
        "print(x, type(x))\n",
        "print(y, type(y))\n",
        "print(z, type(z))\n",
        "\n",
        "print(x, y, z)"
      ],
      "execution_count": 72,
      "outputs": [
        {
          "output_type": "stream",
          "text": [
            "33.0 <class 'float'>\n",
            "11.0 <class 'float'>\n",
            "33.0 <class 'float'>\n",
            "33.0 11.0 33.0\n"
          ],
          "name": "stdout"
        }
      ]
    },
    {
      "cell_type": "code",
      "metadata": {
        "id": "sfcdCbJBlDe8",
        "cellView": "form",
        "colab": {
          "base_uri": "https://localhost:8080/"
        },
        "outputId": "f2fcb054-24aa-4e33-cb0e-6eb140a873fd"
      },
      "source": [
        "#@title Solução\n",
        "x = float(x)\n",
        "y = float(y)\n",
        "z = float(z)\n",
        "\n",
        "# conferindo os tipos\n",
        "print(type(x))\n",
        "print(type(y))\n",
        "print(type(z))"
      ],
      "execution_count": 73,
      "outputs": [
        {
          "output_type": "stream",
          "text": [
            "<class 'float'>\n",
            "<class 'float'>\n",
            "<class 'float'>\n"
          ],
          "name": "stdout"
        }
      ]
    },
    {
      "cell_type": "code",
      "metadata": {
        "id": "9BxBW7Fjld8k"
      },
      "source": [
        ""
      ],
      "execution_count": null,
      "outputs": []
    }
  ]
}