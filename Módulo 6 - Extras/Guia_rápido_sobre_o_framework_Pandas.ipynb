{
  "nbformat": 4,
  "nbformat_minor": 0,
  "metadata": {
    "colab": {
      "name": "Guia rápido sobre o framework Pandas.ipynb",
      "provenance": [],
      "collapsed_sections": []
    },
    "kernelspec": {
      "name": "python3",
      "display_name": "Python 3"
    },
    "language_info": {
      "name": "python"
    }
  },
  "cells": [
    {
      "cell_type": "markdown",
      "metadata": {
        "id": "tBoH492fdRzc"
      },
      "source": [
        "# **Criando uma serie de dados**\n",
        "\n",
        "Vamos importar a biblioteca pandas para podemos utilizar seus\n",
        "recursos."
      ]
    },
    {
      "cell_type": "code",
      "metadata": {
        "id": "OjLW-LivdMUP"
      },
      "source": [
        "# biblioteca para modelagem de dados\n",
        "import pandas as pd"
      ],
      "execution_count": 1,
      "outputs": []
    },
    {
      "cell_type": "markdown",
      "metadata": {
        "id": "MG6EJn-udkmr"
      },
      "source": [
        "A partir de agora os recursos do pandas foram apelidado de ``pd``. "
      ]
    },
    {
      "cell_type": "markdown",
      "metadata": {
        "id": "4xJcDmjJdui6"
      },
      "source": [
        "**Vamos criar nossa serie de dados**"
      ]
    },
    {
      "cell_type": "code",
      "metadata": {
        "colab": {
          "base_uri": "https://localhost:8080/"
        },
        "id": "XQXnsNt4dMRR",
        "outputId": "08dee8a5-3162-47e3-f665-56b12428e21c"
      },
      "source": [
        "# lista com os rótulos\n",
        "rotulos = ['1º', '2º', '3º']\n",
        "\n",
        "# lista com os valores\n",
        "valores = [10, 20, 30]\n",
        "\n",
        "# criando a base de dados com as listas\n",
        "serie = pd.Series( data = valores, index = rotulos)\n",
        "serie"
      ],
      "execution_count": 4,
      "outputs": [
        {
          "output_type": "execute_result",
          "data": {
            "text/plain": [
              "1º    10\n",
              "2º    20\n",
              "3º    30\n",
              "dtype: int64"
            ]
          },
          "metadata": {
            "tags": []
          },
          "execution_count": 4
        }
      ]
    },
    {
      "cell_type": "markdown",
      "metadata": {
        "id": "wJd5XbWaec_g"
      },
      "source": [
        "Definimos uma variável chamada ``serie`` e nela chamamos a função ``pd.Series`` e\n",
        "passamos como parâmetros as listas que criamos.\n",
        "\n",
        "**Podemos selecionar apenas um rotulo da serie**"
      ]
    },
    {
      "cell_type": "code",
      "metadata": {
        "colab": {
          "base_uri": "https://localhost:8080/"
        },
        "id": "8L7f1rE-dMOU",
        "outputId": "437e6fb3-7f50-426f-b202-0d15b62420f7"
      },
      "source": [
        "serie['1º']"
      ],
      "execution_count": 5,
      "outputs": [
        {
          "output_type": "execute_result",
          "data": {
            "text/plain": [
              "10"
            ]
          },
          "metadata": {
            "tags": []
          },
          "execution_count": 5
        }
      ]
    },
    {
      "cell_type": "markdown",
      "metadata": {
        "id": "xPRNxvnSeuNt"
      },
      "source": [
        "**Podemos fazer operações matemáticas na serie**"
      ]
    },
    {
      "cell_type": "code",
      "metadata": {
        "colab": {
          "base_uri": "https://localhost:8080/"
        },
        "id": "fiMBZ8ATdMLM",
        "outputId": "399f2152-af4d-4b4a-aa81-7dfbcca3e27c"
      },
      "source": [
        "serie * 2"
      ],
      "execution_count": 6,
      "outputs": [
        {
          "output_type": "execute_result",
          "data": {
            "text/plain": [
              "1º    20\n",
              "2º    40\n",
              "3º    60\n",
              "dtype: int64"
            ]
          },
          "metadata": {
            "tags": []
          },
          "execution_count": 6
        }
      ]
    },
    {
      "cell_type": "markdown",
      "metadata": {
        "id": "eJ8pQErbe0FF"
      },
      "source": [
        "Nesse caso estamos aplicando um multiplicação na serie inteira.\n",
        "\n",
        "**Podemos criar outra serie e somar junto a serie anterior**"
      ]
    },
    {
      "cell_type": "code",
      "metadata": {
        "id": "GTnddfbKdMJN"
      },
      "source": [
        "serie_nova = pd.Series(data = [50, 100, 150], \n",
        "                       index = rotulos)"
      ],
      "execution_count": 7,
      "outputs": []
    },
    {
      "cell_type": "code",
      "metadata": {
        "colab": {
          "base_uri": "https://localhost:8080/"
        },
        "id": "BdSpuPl1dMGX",
        "outputId": "3e8e6482-1207-405b-fa00-f0244fc28abb"
      },
      "source": [
        "serie + serie_nova"
      ],
      "execution_count": 8,
      "outputs": [
        {
          "output_type": "execute_result",
          "data": {
            "text/plain": [
              "1º     60\n",
              "2º    120\n",
              "3º    180\n",
              "dtype: int64"
            ]
          },
          "metadata": {
            "tags": []
          },
          "execution_count": 8
        }
      ]
    },
    {
      "cell_type": "markdown",
      "metadata": {
        "id": "ozqLGGH3fV38"
      },
      "source": [
        "# **Criando uma base de dados**\n",
        "\n",
        "Vamos criar uma base dados."
      ]
    },
    {
      "cell_type": "code",
      "metadata": {
        "colab": {
          "base_uri": "https://localhost:8080/"
        },
        "id": "x6Gveph_dMDx",
        "outputId": "9dac13f2-9fdd-464c-e69a-5b29809a73ad"
      },
      "source": [
        "# criando um dicionário\n",
        "dicionario = {\n",
        "    'A': [1, 2, 3],\n",
        "    'B': [-3, -2, -1],\n",
        "    'C': [0, 10, 20]\n",
        "}\n",
        "\n",
        "dicionario"
      ],
      "execution_count": 69,
      "outputs": [
        {
          "output_type": "execute_result",
          "data": {
            "text/plain": [
              "{'A': [1, 2, 3], 'B': [-3, -2, -1], 'C': [0, 10, 20]}"
            ]
          },
          "metadata": {
            "tags": []
          },
          "execution_count": 69
        }
      ]
    },
    {
      "cell_type": "code",
      "metadata": {
        "colab": {
          "base_uri": "https://localhost:8080/"
        },
        "id": "j-JKlgggdMBr",
        "outputId": "fca02820-ce18-4caa-f0a2-a9c0cf534836"
      },
      "source": [
        "# criando uma lista com os rótulos\n",
        "rotulos = ['1ª linha', '2ª linha', '3ª linha']\n",
        "rotulos"
      ],
      "execution_count": 70,
      "outputs": [
        {
          "output_type": "execute_result",
          "data": {
            "text/plain": [
              "['1ª linha', '2ª linha', '3ª linha']"
            ]
          },
          "metadata": {
            "tags": []
          },
          "execution_count": 70
        }
      ]
    },
    {
      "cell_type": "code",
      "metadata": {
        "colab": {
          "base_uri": "https://localhost:8080/",
          "height": 142
        },
        "id": "IVFsNonUdL_R",
        "outputId": "0e3c0900-c309-4802-f22c-ad01aae90e84"
      },
      "source": [
        "# criando um data frame com o dicionário e os rótulos\n",
        "dataFrame_01 = pd.DataFrame(dicionario, index = rotulos)\n",
        "dataFrame_01"
      ],
      "execution_count": 71,
      "outputs": [
        {
          "output_type": "execute_result",
          "data": {
            "text/html": [
              "<div>\n",
              "<style scoped>\n",
              "    .dataframe tbody tr th:only-of-type {\n",
              "        vertical-align: middle;\n",
              "    }\n",
              "\n",
              "    .dataframe tbody tr th {\n",
              "        vertical-align: top;\n",
              "    }\n",
              "\n",
              "    .dataframe thead th {\n",
              "        text-align: right;\n",
              "    }\n",
              "</style>\n",
              "<table border=\"1\" class=\"dataframe\">\n",
              "  <thead>\n",
              "    <tr style=\"text-align: right;\">\n",
              "      <th></th>\n",
              "      <th>A</th>\n",
              "      <th>B</th>\n",
              "      <th>C</th>\n",
              "    </tr>\n",
              "  </thead>\n",
              "  <tbody>\n",
              "    <tr>\n",
              "      <th>1ª linha</th>\n",
              "      <td>1</td>\n",
              "      <td>-3</td>\n",
              "      <td>0</td>\n",
              "    </tr>\n",
              "    <tr>\n",
              "      <th>2ª linha</th>\n",
              "      <td>2</td>\n",
              "      <td>-2</td>\n",
              "      <td>10</td>\n",
              "    </tr>\n",
              "    <tr>\n",
              "      <th>3ª linha</th>\n",
              "      <td>3</td>\n",
              "      <td>-1</td>\n",
              "      <td>20</td>\n",
              "    </tr>\n",
              "  </tbody>\n",
              "</table>\n",
              "</div>"
            ],
            "text/plain": [
              "          A  B   C\n",
              "1ª linha  1 -3   0\n",
              "2ª linha  2 -2  10\n",
              "3ª linha  3 -1  20"
            ]
          },
          "metadata": {
            "tags": []
          },
          "execution_count": 71
        }
      ]
    },
    {
      "cell_type": "markdown",
      "metadata": {
        "id": "x-AqroE-ghLa"
      },
      "source": [
        "**Selecionar apenas uma coluna**"
      ]
    },
    {
      "cell_type": "code",
      "metadata": {
        "colab": {
          "base_uri": "https://localhost:8080/"
        },
        "id": "27tM_zU0dL8h",
        "outputId": "17f0e04a-735b-444e-ed0b-c5818fb44aee"
      },
      "source": [
        "dataFrame_01['A']"
      ],
      "execution_count": 72,
      "outputs": [
        {
          "output_type": "execute_result",
          "data": {
            "text/plain": [
              "1ª linha    1\n",
              "2ª linha    2\n",
              "3ª linha    3\n",
              "Name: A, dtype: int64"
            ]
          },
          "metadata": {
            "tags": []
          },
          "execution_count": 72
        }
      ]
    },
    {
      "cell_type": "markdown",
      "metadata": {
        "id": "s9S9v0b6gq7Y"
      },
      "source": [
        "**Selecionar duas colunas**"
      ]
    },
    {
      "cell_type": "code",
      "metadata": {
        "colab": {
          "base_uri": "https://localhost:8080/",
          "height": 142
        },
        "id": "uyWG2_0ddL6H",
        "outputId": "94540b02-5ca6-46e2-db4e-2190ab1d4444"
      },
      "source": [
        "dataFrame_01[['A', 'C']]"
      ],
      "execution_count": 73,
      "outputs": [
        {
          "output_type": "execute_result",
          "data": {
            "text/html": [
              "<div>\n",
              "<style scoped>\n",
              "    .dataframe tbody tr th:only-of-type {\n",
              "        vertical-align: middle;\n",
              "    }\n",
              "\n",
              "    .dataframe tbody tr th {\n",
              "        vertical-align: top;\n",
              "    }\n",
              "\n",
              "    .dataframe thead th {\n",
              "        text-align: right;\n",
              "    }\n",
              "</style>\n",
              "<table border=\"1\" class=\"dataframe\">\n",
              "  <thead>\n",
              "    <tr style=\"text-align: right;\">\n",
              "      <th></th>\n",
              "      <th>A</th>\n",
              "      <th>C</th>\n",
              "    </tr>\n",
              "  </thead>\n",
              "  <tbody>\n",
              "    <tr>\n",
              "      <th>1ª linha</th>\n",
              "      <td>1</td>\n",
              "      <td>0</td>\n",
              "    </tr>\n",
              "    <tr>\n",
              "      <th>2ª linha</th>\n",
              "      <td>2</td>\n",
              "      <td>10</td>\n",
              "    </tr>\n",
              "    <tr>\n",
              "      <th>3ª linha</th>\n",
              "      <td>3</td>\n",
              "      <td>20</td>\n",
              "    </tr>\n",
              "  </tbody>\n",
              "</table>\n",
              "</div>"
            ],
            "text/plain": [
              "          A   C\n",
              "1ª linha  1   0\n",
              "2ª linha  2  10\n",
              "3ª linha  3  20"
            ]
          },
          "metadata": {
            "tags": []
          },
          "execution_count": 73
        }
      ]
    },
    {
      "cell_type": "markdown",
      "metadata": {
        "id": "xTGD4ORVg5rn"
      },
      "source": [
        "**Criando uma nova coluna e fazendo operações matemáticas entre as\n",
        "colunas**"
      ]
    },
    {
      "cell_type": "code",
      "metadata": {
        "colab": {
          "base_uri": "https://localhost:8080/",
          "height": 142
        },
        "id": "TEwJYil1dL3n",
        "outputId": "cc5fa96a-0c4c-41d7-f65c-c4a6ddaf9d5f"
      },
      "source": [
        "# somando o valor de cada coluna na sua respectiva linha\n",
        "# e instanciando o resultado em uma nova coluna \"Total\"\n",
        "dataFrame_01['Total_adição'] = dataFrame_01['A'] + dataFrame_01['B'] + dataFrame_01['C']\n",
        "dataFrame_01"
      ],
      "execution_count": 74,
      "outputs": [
        {
          "output_type": "execute_result",
          "data": {
            "text/html": [
              "<div>\n",
              "<style scoped>\n",
              "    .dataframe tbody tr th:only-of-type {\n",
              "        vertical-align: middle;\n",
              "    }\n",
              "\n",
              "    .dataframe tbody tr th {\n",
              "        vertical-align: top;\n",
              "    }\n",
              "\n",
              "    .dataframe thead th {\n",
              "        text-align: right;\n",
              "    }\n",
              "</style>\n",
              "<table border=\"1\" class=\"dataframe\">\n",
              "  <thead>\n",
              "    <tr style=\"text-align: right;\">\n",
              "      <th></th>\n",
              "      <th>A</th>\n",
              "      <th>B</th>\n",
              "      <th>C</th>\n",
              "      <th>Total_adição</th>\n",
              "    </tr>\n",
              "  </thead>\n",
              "  <tbody>\n",
              "    <tr>\n",
              "      <th>1ª linha</th>\n",
              "      <td>1</td>\n",
              "      <td>-3</td>\n",
              "      <td>0</td>\n",
              "      <td>-2</td>\n",
              "    </tr>\n",
              "    <tr>\n",
              "      <th>2ª linha</th>\n",
              "      <td>2</td>\n",
              "      <td>-2</td>\n",
              "      <td>10</td>\n",
              "      <td>10</td>\n",
              "    </tr>\n",
              "    <tr>\n",
              "      <th>3ª linha</th>\n",
              "      <td>3</td>\n",
              "      <td>-1</td>\n",
              "      <td>20</td>\n",
              "      <td>22</td>\n",
              "    </tr>\n",
              "  </tbody>\n",
              "</table>\n",
              "</div>"
            ],
            "text/plain": [
              "          A  B   C  Total_adição\n",
              "1ª linha  1 -3   0            -2\n",
              "2ª linha  2 -2  10            10\n",
              "3ª linha  3 -1  20            22"
            ]
          },
          "metadata": {
            "tags": []
          },
          "execution_count": 74
        }
      ]
    },
    {
      "cell_type": "markdown",
      "metadata": {
        "id": "RUNRDe3jiNaW"
      },
      "source": [
        "**Podemos realizar quaisquer operações matemáticas com o método acima. Vamos para mais um exemplo!**"
      ]
    },
    {
      "cell_type": "code",
      "metadata": {
        "colab": {
          "base_uri": "https://localhost:8080/",
          "height": 142
        },
        "id": "zsGJHjQ5dL1I",
        "outputId": "5971fca6-23a8-4105-9de7-563b92516b5f"
      },
      "source": [
        "# multiplicação\n",
        "dataFrame_01['Total_multiplicação'] = dataFrame_01['A'] * dataFrame_01['B'] * dataFrame_01['C'] \n",
        "dataFrame_01"
      ],
      "execution_count": 75,
      "outputs": [
        {
          "output_type": "execute_result",
          "data": {
            "text/html": [
              "<div>\n",
              "<style scoped>\n",
              "    .dataframe tbody tr th:only-of-type {\n",
              "        vertical-align: middle;\n",
              "    }\n",
              "\n",
              "    .dataframe tbody tr th {\n",
              "        vertical-align: top;\n",
              "    }\n",
              "\n",
              "    .dataframe thead th {\n",
              "        text-align: right;\n",
              "    }\n",
              "</style>\n",
              "<table border=\"1\" class=\"dataframe\">\n",
              "  <thead>\n",
              "    <tr style=\"text-align: right;\">\n",
              "      <th></th>\n",
              "      <th>A</th>\n",
              "      <th>B</th>\n",
              "      <th>C</th>\n",
              "      <th>Total_adição</th>\n",
              "      <th>Total_multiplicação</th>\n",
              "    </tr>\n",
              "  </thead>\n",
              "  <tbody>\n",
              "    <tr>\n",
              "      <th>1ª linha</th>\n",
              "      <td>1</td>\n",
              "      <td>-3</td>\n",
              "      <td>0</td>\n",
              "      <td>-2</td>\n",
              "      <td>0</td>\n",
              "    </tr>\n",
              "    <tr>\n",
              "      <th>2ª linha</th>\n",
              "      <td>2</td>\n",
              "      <td>-2</td>\n",
              "      <td>10</td>\n",
              "      <td>10</td>\n",
              "      <td>-40</td>\n",
              "    </tr>\n",
              "    <tr>\n",
              "      <th>3ª linha</th>\n",
              "      <td>3</td>\n",
              "      <td>-1</td>\n",
              "      <td>20</td>\n",
              "      <td>22</td>\n",
              "      <td>-60</td>\n",
              "    </tr>\n",
              "  </tbody>\n",
              "</table>\n",
              "</div>"
            ],
            "text/plain": [
              "          A  B   C  Total_adição  Total_multiplicação\n",
              "1ª linha  1 -3   0            -2                    0\n",
              "2ª linha  2 -2  10            10                  -40\n",
              "3ª linha  3 -1  20            22                  -60"
            ]
          },
          "metadata": {
            "tags": []
          },
          "execution_count": 75
        }
      ]
    },
    {
      "cell_type": "code",
      "metadata": {
        "colab": {
          "base_uri": "https://localhost:8080/",
          "height": 142
        },
        "id": "KRNnMMvNl3bW",
        "outputId": "e3a09402-bf76-40b6-dd9a-7f91642cc480"
      },
      "source": [
        "# divisão\n",
        "dataFrame_01['Total_divisão'] = dataFrame_01['A'] / dataFrame_01['B'] / dataFrame_01['C'] \n",
        "dataFrame_01"
      ],
      "execution_count": 76,
      "outputs": [
        {
          "output_type": "execute_result",
          "data": {
            "text/html": [
              "<div>\n",
              "<style scoped>\n",
              "    .dataframe tbody tr th:only-of-type {\n",
              "        vertical-align: middle;\n",
              "    }\n",
              "\n",
              "    .dataframe tbody tr th {\n",
              "        vertical-align: top;\n",
              "    }\n",
              "\n",
              "    .dataframe thead th {\n",
              "        text-align: right;\n",
              "    }\n",
              "</style>\n",
              "<table border=\"1\" class=\"dataframe\">\n",
              "  <thead>\n",
              "    <tr style=\"text-align: right;\">\n",
              "      <th></th>\n",
              "      <th>A</th>\n",
              "      <th>B</th>\n",
              "      <th>C</th>\n",
              "      <th>Total_adição</th>\n",
              "      <th>Total_multiplicação</th>\n",
              "      <th>Total_divisão</th>\n",
              "    </tr>\n",
              "  </thead>\n",
              "  <tbody>\n",
              "    <tr>\n",
              "      <th>1ª linha</th>\n",
              "      <td>1</td>\n",
              "      <td>-3</td>\n",
              "      <td>0</td>\n",
              "      <td>-2</td>\n",
              "      <td>0</td>\n",
              "      <td>-inf</td>\n",
              "    </tr>\n",
              "    <tr>\n",
              "      <th>2ª linha</th>\n",
              "      <td>2</td>\n",
              "      <td>-2</td>\n",
              "      <td>10</td>\n",
              "      <td>10</td>\n",
              "      <td>-40</td>\n",
              "      <td>-0.10</td>\n",
              "    </tr>\n",
              "    <tr>\n",
              "      <th>3ª linha</th>\n",
              "      <td>3</td>\n",
              "      <td>-1</td>\n",
              "      <td>20</td>\n",
              "      <td>22</td>\n",
              "      <td>-60</td>\n",
              "      <td>-0.15</td>\n",
              "    </tr>\n",
              "  </tbody>\n",
              "</table>\n",
              "</div>"
            ],
            "text/plain": [
              "          A  B   C  Total_adição  Total_multiplicação  Total_divisão\n",
              "1ª linha  1 -3   0            -2                    0           -inf\n",
              "2ª linha  2 -2  10            10                  -40          -0.10\n",
              "3ª linha  3 -1  20            22                  -60          -0.15"
            ]
          },
          "metadata": {
            "tags": []
          },
          "execution_count": 76
        }
      ]
    },
    {
      "cell_type": "markdown",
      "metadata": {
        "id": "p8QQPaPXkC17"
      },
      "source": [
        "# **Comandos sobre a base de dados**"
      ]
    },
    {
      "cell_type": "code",
      "metadata": {
        "colab": {
          "base_uri": "https://localhost:8080/",
          "height": 142
        },
        "id": "EVXFGcsWdLyI",
        "outputId": "7db3a281-c943-42db-a4b5-48458393f96d"
      },
      "source": [
        "# excluindo uma coluna\n",
        "dataFrame_01.drop('Total_multiplicação', axis=1, inplace=True)\n",
        "dataFrame_01"
      ],
      "execution_count": 77,
      "outputs": [
        {
          "output_type": "execute_result",
          "data": {
            "text/html": [
              "<div>\n",
              "<style scoped>\n",
              "    .dataframe tbody tr th:only-of-type {\n",
              "        vertical-align: middle;\n",
              "    }\n",
              "\n",
              "    .dataframe tbody tr th {\n",
              "        vertical-align: top;\n",
              "    }\n",
              "\n",
              "    .dataframe thead th {\n",
              "        text-align: right;\n",
              "    }\n",
              "</style>\n",
              "<table border=\"1\" class=\"dataframe\">\n",
              "  <thead>\n",
              "    <tr style=\"text-align: right;\">\n",
              "      <th></th>\n",
              "      <th>A</th>\n",
              "      <th>B</th>\n",
              "      <th>C</th>\n",
              "      <th>Total_adição</th>\n",
              "      <th>Total_divisão</th>\n",
              "    </tr>\n",
              "  </thead>\n",
              "  <tbody>\n",
              "    <tr>\n",
              "      <th>1ª linha</th>\n",
              "      <td>1</td>\n",
              "      <td>-3</td>\n",
              "      <td>0</td>\n",
              "      <td>-2</td>\n",
              "      <td>-inf</td>\n",
              "    </tr>\n",
              "    <tr>\n",
              "      <th>2ª linha</th>\n",
              "      <td>2</td>\n",
              "      <td>-2</td>\n",
              "      <td>10</td>\n",
              "      <td>10</td>\n",
              "      <td>-0.10</td>\n",
              "    </tr>\n",
              "    <tr>\n",
              "      <th>3ª linha</th>\n",
              "      <td>3</td>\n",
              "      <td>-1</td>\n",
              "      <td>20</td>\n",
              "      <td>22</td>\n",
              "      <td>-0.15</td>\n",
              "    </tr>\n",
              "  </tbody>\n",
              "</table>\n",
              "</div>"
            ],
            "text/plain": [
              "          A  B   C  Total_adição  Total_divisão\n",
              "1ª linha  1 -3   0            -2           -inf\n",
              "2ª linha  2 -2  10            10          -0.10\n",
              "3ª linha  3 -1  20            22          -0.15"
            ]
          },
          "metadata": {
            "tags": []
          },
          "execution_count": 77
        }
      ]
    },
    {
      "cell_type": "markdown",
      "metadata": {
        "id": "_beign6TnFKh"
      },
      "source": [
        "Nesse caso estamos excluindo uma coluna definitivamente da base de dados.\n",
        "\n",
        "O parâmetro ``inplace=True`` quer dizer que vamos excluir da base origem, caso\n",
        "fosse ``inplace=False`` iria excluir apenas na situação atual.\n",
        "\n",
        "O parâmetro ``axis=1`` quer dizer que vamos excluir a coluna. Quando quiser excluir uma linha é usado ``axis=0``.\n"
      ]
    },
    {
      "cell_type": "code",
      "metadata": {
        "colab": {
          "base_uri": "https://localhost:8080/",
          "height": 142
        },
        "id": "-pchf22tc9P6",
        "outputId": "8916cd31-20b1-44c5-8d2d-b0f9e7a1b9e4"
      },
      "source": [
        "# excluindo duas coluna\n",
        "dataFrame_01.drop(['Total_adição', 'Total_divisão'], axis=1, inplace=True)\n",
        "dataFrame_01"
      ],
      "execution_count": 78,
      "outputs": [
        {
          "output_type": "execute_result",
          "data": {
            "text/html": [
              "<div>\n",
              "<style scoped>\n",
              "    .dataframe tbody tr th:only-of-type {\n",
              "        vertical-align: middle;\n",
              "    }\n",
              "\n",
              "    .dataframe tbody tr th {\n",
              "        vertical-align: top;\n",
              "    }\n",
              "\n",
              "    .dataframe thead th {\n",
              "        text-align: right;\n",
              "    }\n",
              "</style>\n",
              "<table border=\"1\" class=\"dataframe\">\n",
              "  <thead>\n",
              "    <tr style=\"text-align: right;\">\n",
              "      <th></th>\n",
              "      <th>A</th>\n",
              "      <th>B</th>\n",
              "      <th>C</th>\n",
              "    </tr>\n",
              "  </thead>\n",
              "  <tbody>\n",
              "    <tr>\n",
              "      <th>1ª linha</th>\n",
              "      <td>1</td>\n",
              "      <td>-3</td>\n",
              "      <td>0</td>\n",
              "    </tr>\n",
              "    <tr>\n",
              "      <th>2ª linha</th>\n",
              "      <td>2</td>\n",
              "      <td>-2</td>\n",
              "      <td>10</td>\n",
              "    </tr>\n",
              "    <tr>\n",
              "      <th>3ª linha</th>\n",
              "      <td>3</td>\n",
              "      <td>-1</td>\n",
              "      <td>20</td>\n",
              "    </tr>\n",
              "  </tbody>\n",
              "</table>\n",
              "</div>"
            ],
            "text/plain": [
              "          A  B   C\n",
              "1ª linha  1 -3   0\n",
              "2ª linha  2 -2  10\n",
              "3ª linha  3 -1  20"
            ]
          },
          "metadata": {
            "tags": []
          },
          "execution_count": 78
        }
      ]
    },
    {
      "cell_type": "markdown",
      "metadata": {
        "id": "y2sGtUprnUMh"
      },
      "source": [
        "**Localizar uma linha inteira**"
      ]
    },
    {
      "cell_type": "code",
      "metadata": {
        "colab": {
          "base_uri": "https://localhost:8080/"
        },
        "id": "v0ri5vRNm_SM",
        "outputId": "96f12a56-5fbb-4dee-d07b-f7b37871abee"
      },
      "source": [
        "dataFrame_01.loc['1ª linha']"
      ],
      "execution_count": 79,
      "outputs": [
        {
          "output_type": "execute_result",
          "data": {
            "text/plain": [
              "A    1\n",
              "B   -3\n",
              "C    0\n",
              "Name: 1ª linha, dtype: int64"
            ]
          },
          "metadata": {
            "tags": []
          },
          "execution_count": 79
        }
      ]
    },
    {
      "cell_type": "code",
      "metadata": {
        "colab": {
          "base_uri": "https://localhost:8080/",
          "height": 111
        },
        "id": "Osu0dEVvm_OZ",
        "outputId": "ed093ad1-ae05-44b0-96dd-b0038d67ee3e"
      },
      "source": [
        "# duas linhas\n",
        "dataFrame_01.loc[['2ª linha', '3ª linha']]"
      ],
      "execution_count": 80,
      "outputs": [
        {
          "output_type": "execute_result",
          "data": {
            "text/html": [
              "<div>\n",
              "<style scoped>\n",
              "    .dataframe tbody tr th:only-of-type {\n",
              "        vertical-align: middle;\n",
              "    }\n",
              "\n",
              "    .dataframe tbody tr th {\n",
              "        vertical-align: top;\n",
              "    }\n",
              "\n",
              "    .dataframe thead th {\n",
              "        text-align: right;\n",
              "    }\n",
              "</style>\n",
              "<table border=\"1\" class=\"dataframe\">\n",
              "  <thead>\n",
              "    <tr style=\"text-align: right;\">\n",
              "      <th></th>\n",
              "      <th>A</th>\n",
              "      <th>B</th>\n",
              "      <th>C</th>\n",
              "    </tr>\n",
              "  </thead>\n",
              "  <tbody>\n",
              "    <tr>\n",
              "      <th>2ª linha</th>\n",
              "      <td>2</td>\n",
              "      <td>-2</td>\n",
              "      <td>10</td>\n",
              "    </tr>\n",
              "    <tr>\n",
              "      <th>3ª linha</th>\n",
              "      <td>3</td>\n",
              "      <td>-1</td>\n",
              "      <td>20</td>\n",
              "    </tr>\n",
              "  </tbody>\n",
              "</table>\n",
              "</div>"
            ],
            "text/plain": [
              "          A  B   C\n",
              "2ª linha  2 -2  10\n",
              "3ª linha  3 -1  20"
            ]
          },
          "metadata": {
            "tags": []
          },
          "execution_count": 80
        }
      ]
    },
    {
      "cell_type": "markdown",
      "metadata": {
        "id": "kyz1SfttnsKh"
      },
      "source": [
        "**Localizar diversas linhas e colunas**"
      ]
    },
    {
      "cell_type": "code",
      "metadata": {
        "colab": {
          "base_uri": "https://localhost:8080/",
          "height": 111
        },
        "id": "tkdgIP4rm_Lx",
        "outputId": "94807c6d-d0a1-4065-f3ac-28d34e8d5552"
      },
      "source": [
        "dataFrame_01.loc[['1ª linha', '3ª linha'], ['B', 'C']]"
      ],
      "execution_count": 81,
      "outputs": [
        {
          "output_type": "execute_result",
          "data": {
            "text/html": [
              "<div>\n",
              "<style scoped>\n",
              "    .dataframe tbody tr th:only-of-type {\n",
              "        vertical-align: middle;\n",
              "    }\n",
              "\n",
              "    .dataframe tbody tr th {\n",
              "        vertical-align: top;\n",
              "    }\n",
              "\n",
              "    .dataframe thead th {\n",
              "        text-align: right;\n",
              "    }\n",
              "</style>\n",
              "<table border=\"1\" class=\"dataframe\">\n",
              "  <thead>\n",
              "    <tr style=\"text-align: right;\">\n",
              "      <th></th>\n",
              "      <th>B</th>\n",
              "      <th>C</th>\n",
              "    </tr>\n",
              "  </thead>\n",
              "  <tbody>\n",
              "    <tr>\n",
              "      <th>1ª linha</th>\n",
              "      <td>-3</td>\n",
              "      <td>0</td>\n",
              "    </tr>\n",
              "    <tr>\n",
              "      <th>3ª linha</th>\n",
              "      <td>-1</td>\n",
              "      <td>20</td>\n",
              "    </tr>\n",
              "  </tbody>\n",
              "</table>\n",
              "</div>"
            ],
            "text/plain": [
              "          B   C\n",
              "1ª linha -3   0\n",
              "3ª linha -1  20"
            ]
          },
          "metadata": {
            "tags": []
          },
          "execution_count": 81
        }
      ]
    },
    {
      "cell_type": "markdown",
      "metadata": {
        "id": "Tmxm8jWZoCTf"
      },
      "source": [
        "**Localizar diversas linhas e colunas usando parâmetros numéricos\n",
        "através da posição da base de dados**"
      ]
    },
    {
      "cell_type": "markdown",
      "metadata": {
        "id": "ar07-zHuojaH"
      },
      "source": [
        "    DataFrame_01.iloc[2:3, 1:]\n",
        "                  linhas | colunas"
      ]
    },
    {
      "cell_type": "code",
      "metadata": {
        "colab": {
          "base_uri": "https://localhost:8080/",
          "height": 80
        },
        "id": "XX2HtbuRm_Gp",
        "outputId": "52e56fce-e39d-45fd-b773-0d7ba3ce92cb"
      },
      "source": [
        "dataFrame_01.iloc[2:3, 1:]"
      ],
      "execution_count": 84,
      "outputs": [
        {
          "output_type": "execute_result",
          "data": {
            "text/html": [
              "<div>\n",
              "<style scoped>\n",
              "    .dataframe tbody tr th:only-of-type {\n",
              "        vertical-align: middle;\n",
              "    }\n",
              "\n",
              "    .dataframe tbody tr th {\n",
              "        vertical-align: top;\n",
              "    }\n",
              "\n",
              "    .dataframe thead th {\n",
              "        text-align: right;\n",
              "    }\n",
              "</style>\n",
              "<table border=\"1\" class=\"dataframe\">\n",
              "  <thead>\n",
              "    <tr style=\"text-align: right;\">\n",
              "      <th></th>\n",
              "      <th>B</th>\n",
              "      <th>C</th>\n",
              "    </tr>\n",
              "  </thead>\n",
              "  <tbody>\n",
              "    <tr>\n",
              "      <th>3ª linha</th>\n",
              "      <td>-1</td>\n",
              "      <td>20</td>\n",
              "    </tr>\n",
              "  </tbody>\n",
              "</table>\n",
              "</div>"
            ],
            "text/plain": [
              "          B   C\n",
              "3ª linha -1  20"
            ]
          },
          "metadata": {
            "tags": []
          },
          "execution_count": 84
        }
      ]
    },
    {
      "cell_type": "code",
      "metadata": {
        "colab": {
          "base_uri": "https://localhost:8080/",
          "height": 80
        },
        "id": "b8Qnmy-gm_EB",
        "outputId": "15cc9063-e316-4dfd-bad6-c62ffc1cf504"
      },
      "source": [
        "dataFrame_01.iloc[:1, :2]"
      ],
      "execution_count": 85,
      "outputs": [
        {
          "output_type": "execute_result",
          "data": {
            "text/html": [
              "<div>\n",
              "<style scoped>\n",
              "    .dataframe tbody tr th:only-of-type {\n",
              "        vertical-align: middle;\n",
              "    }\n",
              "\n",
              "    .dataframe tbody tr th {\n",
              "        vertical-align: top;\n",
              "    }\n",
              "\n",
              "    .dataframe thead th {\n",
              "        text-align: right;\n",
              "    }\n",
              "</style>\n",
              "<table border=\"1\" class=\"dataframe\">\n",
              "  <thead>\n",
              "    <tr style=\"text-align: right;\">\n",
              "      <th></th>\n",
              "      <th>A</th>\n",
              "      <th>B</th>\n",
              "    </tr>\n",
              "  </thead>\n",
              "  <tbody>\n",
              "    <tr>\n",
              "      <th>1ª linha</th>\n",
              "      <td>1</td>\n",
              "      <td>-3</td>\n",
              "    </tr>\n",
              "  </tbody>\n",
              "</table>\n",
              "</div>"
            ],
            "text/plain": [
              "          A  B\n",
              "1ª linha  1 -3"
            ]
          },
          "metadata": {
            "tags": []
          },
          "execution_count": 85
        }
      ]
    },
    {
      "cell_type": "code",
      "metadata": {
        "colab": {
          "base_uri": "https://localhost:8080/",
          "height": 111
        },
        "id": "BZiLUvDLm--x",
        "outputId": "5eaed0a1-c48a-45c0-8ba2-a8baa6182140"
      },
      "source": [
        "dataFrame_01.iloc[1:, 2:3]"
      ],
      "execution_count": 90,
      "outputs": [
        {
          "output_type": "execute_result",
          "data": {
            "text/html": [
              "<div>\n",
              "<style scoped>\n",
              "    .dataframe tbody tr th:only-of-type {\n",
              "        vertical-align: middle;\n",
              "    }\n",
              "\n",
              "    .dataframe tbody tr th {\n",
              "        vertical-align: top;\n",
              "    }\n",
              "\n",
              "    .dataframe thead th {\n",
              "        text-align: right;\n",
              "    }\n",
              "</style>\n",
              "<table border=\"1\" class=\"dataframe\">\n",
              "  <thead>\n",
              "    <tr style=\"text-align: right;\">\n",
              "      <th></th>\n",
              "      <th>C</th>\n",
              "    </tr>\n",
              "  </thead>\n",
              "  <tbody>\n",
              "    <tr>\n",
              "      <th>2ª linha</th>\n",
              "      <td>10</td>\n",
              "    </tr>\n",
              "    <tr>\n",
              "      <th>3ª linha</th>\n",
              "      <td>20</td>\n",
              "    </tr>\n",
              "  </tbody>\n",
              "</table>\n",
              "</div>"
            ],
            "text/plain": [
              "           C\n",
              "2ª linha  10\n",
              "3ª linha  20"
            ]
          },
          "metadata": {
            "tags": []
          },
          "execution_count": 90
        }
      ]
    },
    {
      "cell_type": "code",
      "metadata": {
        "colab": {
          "base_uri": "https://localhost:8080/",
          "height": 80
        },
        "id": "QzrSYXAbm-8U",
        "outputId": "e9d2b1cd-3639-4df5-9e93-853636e17aed"
      },
      "source": [
        "dataFrame_01.iloc[1:2, 1:3]"
      ],
      "execution_count": 91,
      "outputs": [
        {
          "output_type": "execute_result",
          "data": {
            "text/html": [
              "<div>\n",
              "<style scoped>\n",
              "    .dataframe tbody tr th:only-of-type {\n",
              "        vertical-align: middle;\n",
              "    }\n",
              "\n",
              "    .dataframe tbody tr th {\n",
              "        vertical-align: top;\n",
              "    }\n",
              "\n",
              "    .dataframe thead th {\n",
              "        text-align: right;\n",
              "    }\n",
              "</style>\n",
              "<table border=\"1\" class=\"dataframe\">\n",
              "  <thead>\n",
              "    <tr style=\"text-align: right;\">\n",
              "      <th></th>\n",
              "      <th>B</th>\n",
              "      <th>C</th>\n",
              "    </tr>\n",
              "  </thead>\n",
              "  <tbody>\n",
              "    <tr>\n",
              "      <th>2ª linha</th>\n",
              "      <td>-2</td>\n",
              "      <td>10</td>\n",
              "    </tr>\n",
              "  </tbody>\n",
              "</table>\n",
              "</div>"
            ],
            "text/plain": [
              "          B   C\n",
              "2ª linha -2  10"
            ]
          },
          "metadata": {
            "tags": []
          },
          "execution_count": 91
        }
      ]
    },
    {
      "cell_type": "code",
      "metadata": {
        "colab": {
          "base_uri": "https://localhost:8080/",
          "height": 142
        },
        "id": "P-3cnYCom-5i",
        "outputId": "61fc3e80-e007-4e9b-f72f-1c1b3f792d09"
      },
      "source": [
        "dataFrame_01.iloc[:, 2:]"
      ],
      "execution_count": 99,
      "outputs": [
        {
          "output_type": "execute_result",
          "data": {
            "text/html": [
              "<div>\n",
              "<style scoped>\n",
              "    .dataframe tbody tr th:only-of-type {\n",
              "        vertical-align: middle;\n",
              "    }\n",
              "\n",
              "    .dataframe tbody tr th {\n",
              "        vertical-align: top;\n",
              "    }\n",
              "\n",
              "    .dataframe thead th {\n",
              "        text-align: right;\n",
              "    }\n",
              "</style>\n",
              "<table border=\"1\" class=\"dataframe\">\n",
              "  <thead>\n",
              "    <tr style=\"text-align: right;\">\n",
              "      <th></th>\n",
              "      <th>C</th>\n",
              "    </tr>\n",
              "  </thead>\n",
              "  <tbody>\n",
              "    <tr>\n",
              "      <th>1ª linha</th>\n",
              "      <td>0</td>\n",
              "    </tr>\n",
              "    <tr>\n",
              "      <th>2ª linha</th>\n",
              "      <td>10</td>\n",
              "    </tr>\n",
              "    <tr>\n",
              "      <th>3ª linha</th>\n",
              "      <td>20</td>\n",
              "    </tr>\n",
              "  </tbody>\n",
              "</table>\n",
              "</div>"
            ],
            "text/plain": [
              "           C\n",
              "1ª linha   0\n",
              "2ª linha  10\n",
              "3ª linha  20"
            ]
          },
          "metadata": {
            "tags": []
          },
          "execution_count": 99
        }
      ]
    },
    {
      "cell_type": "markdown",
      "metadata": {
        "id": "XXhSwLNHsmXM"
      },
      "source": [
        "**Verificando se há valores menores de 0 na base inteira**\n",
        "\n",
        "\n",
        "\n"
      ]
    },
    {
      "cell_type": "code",
      "metadata": {
        "colab": {
          "base_uri": "https://localhost:8080/",
          "height": 142
        },
        "id": "ROMj0muQm-2i",
        "outputId": "df906aab-5459-4a01-b9b9-1287185e2ee3"
      },
      "source": [
        "dataFrame_01 > 0"
      ],
      "execution_count": 100,
      "outputs": [
        {
          "output_type": "execute_result",
          "data": {
            "text/html": [
              "<div>\n",
              "<style scoped>\n",
              "    .dataframe tbody tr th:only-of-type {\n",
              "        vertical-align: middle;\n",
              "    }\n",
              "\n",
              "    .dataframe tbody tr th {\n",
              "        vertical-align: top;\n",
              "    }\n",
              "\n",
              "    .dataframe thead th {\n",
              "        text-align: right;\n",
              "    }\n",
              "</style>\n",
              "<table border=\"1\" class=\"dataframe\">\n",
              "  <thead>\n",
              "    <tr style=\"text-align: right;\">\n",
              "      <th></th>\n",
              "      <th>A</th>\n",
              "      <th>B</th>\n",
              "      <th>C</th>\n",
              "    </tr>\n",
              "  </thead>\n",
              "  <tbody>\n",
              "    <tr>\n",
              "      <th>1ª linha</th>\n",
              "      <td>True</td>\n",
              "      <td>False</td>\n",
              "      <td>False</td>\n",
              "    </tr>\n",
              "    <tr>\n",
              "      <th>2ª linha</th>\n",
              "      <td>True</td>\n",
              "      <td>False</td>\n",
              "      <td>True</td>\n",
              "    </tr>\n",
              "    <tr>\n",
              "      <th>3ª linha</th>\n",
              "      <td>True</td>\n",
              "      <td>False</td>\n",
              "      <td>True</td>\n",
              "    </tr>\n",
              "  </tbody>\n",
              "</table>\n",
              "</div>"
            ],
            "text/plain": [
              "             A      B      C\n",
              "1ª linha  True  False  False\n",
              "2ª linha  True  False   True\n",
              "3ª linha  True  False   True"
            ]
          },
          "metadata": {
            "tags": []
          },
          "execution_count": 100
        }
      ]
    },
    {
      "cell_type": "markdown",
      "metadata": {
        "id": "uNMv_ccas9fL"
      },
      "source": [
        "Nesse caso estamos verificando em toda a base de dados se há valores maiores\n",
        "que zero.\n",
        "\n",
        "Nesse contexto o pandas retorna se é verdadeiro ou false quanto a condição que\n",
        "passamos."
      ]
    },
    {
      "cell_type": "markdown",
      "metadata": {
        "id": "-ow4blQ5tBwb"
      },
      "source": [
        "**Filtrando dados na base de dados**"
      ]
    },
    {
      "cell_type": "code",
      "metadata": {
        "colab": {
          "base_uri": "https://localhost:8080/"
        },
        "id": "ubHQzPOOsUM5",
        "outputId": "33b35075-b7ea-47e5-a6bc-8c8a9976f313"
      },
      "source": [
        "dataFrame_01[dataFrame_01['A'] > 0]['C']"
      ],
      "execution_count": 101,
      "outputs": [
        {
          "output_type": "execute_result",
          "data": {
            "text/plain": [
              "1ª linha     0\n",
              "2ª linha    10\n",
              "3ª linha    20\n",
              "Name: C, dtype: int64"
            ]
          },
          "metadata": {
            "tags": []
          },
          "execution_count": 101
        }
      ]
    },
    {
      "cell_type": "markdown",
      "metadata": {
        "id": "blRsq0VmtWmp"
      },
      "source": [
        "Nesse caso estamos :\n",
        "- 1º Passando um parâmetro para verificar todos os casos maiores que 0 na coluna A\n",
        "- 2º Retornando apenas os valores da coluna C"
      ]
    },
    {
      "cell_type": "markdown",
      "metadata": {
        "id": "BtZmQvj9tkJY"
      },
      "source": [
        "**Filtrando dados na base de dados com parâmetros em variáveis**"
      ]
    },
    {
      "cell_type": "code",
      "metadata": {
        "colab": {
          "base_uri": "https://localhost:8080/"
        },
        "id": "4iwm8JPIsUKe",
        "outputId": "7e308674-c14e-461d-fead-59d8959d80a5"
      },
      "source": [
        "filtro = dataFrame_01['C'] > 0\n",
        "\n",
        "dataFrame_02 = dataFrame_01[filtro]\n",
        "dataFrame_02['A']"
      ],
      "execution_count": 103,
      "outputs": [
        {
          "output_type": "execute_result",
          "data": {
            "text/plain": [
              "2ª linha    2\n",
              "3ª linha    3\n",
              "Name: A, dtype: int64"
            ]
          },
          "metadata": {
            "tags": []
          },
          "execution_count": 103
        }
      ]
    },
    {
      "cell_type": "markdown",
      "metadata": {
        "id": "nMczPKUNt7zf"
      },
      "source": [
        "Nesse caso estamos :\n",
        "- 1º Criando uma variável na qual estamos passando como parâmetro todos os\n",
        "casos da coluna C maior que 0\n",
        "  * Lembrando que nesse caso o pandas irá retornar verdadeiro ou falso\n",
        "- 2º Criamos uma nova base de dados e passamos como filtro a variável definida na\n",
        "etapa 1\n",
        "- 3º Retornando apenas os valores da coluna A"
      ]
    },
    {
      "cell_type": "markdown",
      "metadata": {
        "id": "caEEhbUhuFDQ"
      },
      "source": [
        "**Filtrando os dados com diversos parâmetros e condições**"
      ]
    },
    {
      "cell_type": "code",
      "metadata": {
        "colab": {
          "base_uri": "https://localhost:8080/",
          "height": 111
        },
        "id": "ldSCq_YzsUIh",
        "outputId": "79498d10-922f-4e39-fc60-3da967cddd9c"
      },
      "source": [
        "dataFrame_01[\n",
        "             (dataFrame_01['A'] > 1) & (dataFrame_01['C'] > 0)\n",
        "]"
      ],
      "execution_count": 104,
      "outputs": [
        {
          "output_type": "execute_result",
          "data": {
            "text/html": [
              "<div>\n",
              "<style scoped>\n",
              "    .dataframe tbody tr th:only-of-type {\n",
              "        vertical-align: middle;\n",
              "    }\n",
              "\n",
              "    .dataframe tbody tr th {\n",
              "        vertical-align: top;\n",
              "    }\n",
              "\n",
              "    .dataframe thead th {\n",
              "        text-align: right;\n",
              "    }\n",
              "</style>\n",
              "<table border=\"1\" class=\"dataframe\">\n",
              "  <thead>\n",
              "    <tr style=\"text-align: right;\">\n",
              "      <th></th>\n",
              "      <th>A</th>\n",
              "      <th>B</th>\n",
              "      <th>C</th>\n",
              "    </tr>\n",
              "  </thead>\n",
              "  <tbody>\n",
              "    <tr>\n",
              "      <th>2ª linha</th>\n",
              "      <td>2</td>\n",
              "      <td>-2</td>\n",
              "      <td>10</td>\n",
              "    </tr>\n",
              "    <tr>\n",
              "      <th>3ª linha</th>\n",
              "      <td>3</td>\n",
              "      <td>-1</td>\n",
              "      <td>20</td>\n",
              "    </tr>\n",
              "  </tbody>\n",
              "</table>\n",
              "</div>"
            ],
            "text/plain": [
              "          A  B   C\n",
              "2ª linha  2 -2  10\n",
              "3ª linha  3 -1  20"
            ]
          },
          "metadata": {
            "tags": []
          },
          "execution_count": 104
        }
      ]
    },
    {
      "cell_type": "markdown",
      "metadata": {
        "id": "Z-kycKOhuYee"
      },
      "source": [
        "Nesse caso estamos filtrando todos os casos da coluna A maior que 1 e passando\n",
        "outro parâmetro para filtrar todos os casos da coluna C maior 0.\n"
      ]
    },
    {
      "cell_type": "markdown",
      "metadata": {
        "id": "_AK4SuFnuaut"
      },
      "source": [
        "**Transformando o index em uma coluna**"
      ]
    },
    {
      "cell_type": "code",
      "metadata": {
        "colab": {
          "base_uri": "https://localhost:8080/",
          "height": 142
        },
        "id": "4jjsJqV2sUCg",
        "outputId": "154f8549-fdf6-4d4d-c7e4-2a97910f9672"
      },
      "source": [
        "dataFrame_01.reset_index()"
      ],
      "execution_count": 105,
      "outputs": [
        {
          "output_type": "execute_result",
          "data": {
            "text/html": [
              "<div>\n",
              "<style scoped>\n",
              "    .dataframe tbody tr th:only-of-type {\n",
              "        vertical-align: middle;\n",
              "    }\n",
              "\n",
              "    .dataframe tbody tr th {\n",
              "        vertical-align: top;\n",
              "    }\n",
              "\n",
              "    .dataframe thead th {\n",
              "        text-align: right;\n",
              "    }\n",
              "</style>\n",
              "<table border=\"1\" class=\"dataframe\">\n",
              "  <thead>\n",
              "    <tr style=\"text-align: right;\">\n",
              "      <th></th>\n",
              "      <th>index</th>\n",
              "      <th>A</th>\n",
              "      <th>B</th>\n",
              "      <th>C</th>\n",
              "    </tr>\n",
              "  </thead>\n",
              "  <tbody>\n",
              "    <tr>\n",
              "      <th>0</th>\n",
              "      <td>1ª linha</td>\n",
              "      <td>1</td>\n",
              "      <td>-3</td>\n",
              "      <td>0</td>\n",
              "    </tr>\n",
              "    <tr>\n",
              "      <th>1</th>\n",
              "      <td>2ª linha</td>\n",
              "      <td>2</td>\n",
              "      <td>-2</td>\n",
              "      <td>10</td>\n",
              "    </tr>\n",
              "    <tr>\n",
              "      <th>2</th>\n",
              "      <td>3ª linha</td>\n",
              "      <td>3</td>\n",
              "      <td>-1</td>\n",
              "      <td>20</td>\n",
              "    </tr>\n",
              "  </tbody>\n",
              "</table>\n",
              "</div>"
            ],
            "text/plain": [
              "      index  A  B   C\n",
              "0  1ª linha  1 -3   0\n",
              "1  2ª linha  2 -2  10\n",
              "2  3ª linha  3 -1  20"
            ]
          },
          "metadata": {
            "tags": []
          },
          "execution_count": 105
        }
      ]
    },
    {
      "cell_type": "markdown",
      "metadata": {
        "id": "qrmjIaewulpV"
      },
      "source": [
        "Nesse caso transportamos o index das linhas para virar uma coluna na base de\n",
        "dados. Assim o index foi resetado e ficou como numérico a partir de agora.\n",
        "\n",
        "Se colocar o comando ``inplace=True`` entre os parênteses, esse comando será\n",
        "aplicado para a base de origem."
      ]
    },
    {
      "cell_type": "markdown",
      "metadata": {
        "id": "EE_MV1cHus05"
      },
      "source": [
        "# **Concatenar, Juntar e Mesclar**"
      ]
    },
    {
      "cell_type": "markdown",
      "metadata": {
        "id": "09ZYk1bjuwpi"
      },
      "source": [
        "**Criando as bases de dados para o exemplo**"
      ]
    },
    {
      "cell_type": "code",
      "metadata": {
        "colab": {
          "base_uri": "https://localhost:8080/"
        },
        "id": "_y-Pbk3msUAY",
        "outputId": "7f6bdf23-fa58-406d-eb64-fed06a43a671"
      },
      "source": [
        "# criando três dicionários\n",
        "\n",
        "dic_01 = {\n",
        "    'A': [1, 2, 3],\n",
        "    'B': [-32, -21, -15],\n",
        "    'C': [60, 10, 20],\n",
        "    'Chave': ['AA', 'BB', 'CC']\n",
        "}\n",
        "\n",
        "dic_01"
      ],
      "execution_count": 106,
      "outputs": [
        {
          "output_type": "execute_result",
          "data": {
            "text/plain": [
              "{'A': [1, 2, 3],\n",
              " 'B': [-32, -21, -15],\n",
              " 'C': [60, 10, 20],\n",
              " 'Chave': ['AA', 'BB', 'CC']}"
            ]
          },
          "metadata": {
            "tags": []
          },
          "execution_count": 106
        }
      ]
    },
    {
      "cell_type": "code",
      "metadata": {
        "colab": {
          "base_uri": "https://localhost:8080/"
        },
        "id": "L7d8P5YQsT9o",
        "outputId": "4ef182f4-7975-4a22-ac46-662634b3ce6d"
      },
      "source": [
        "dic_02 = {\n",
        "    'A': [6, 7, 8],\n",
        "    'B': [-39, -28, -17],\n",
        "    'C': [1000, 10, 60],\n",
        "    'Chave': ['AA', 'BB', 'CC']\n",
        "}\n",
        "\n",
        "dic_02"
      ],
      "execution_count": 107,
      "outputs": [
        {
          "output_type": "execute_result",
          "data": {
            "text/plain": [
              "{'A': [6, 7, 8],\n",
              " 'B': [-39, -28, -17],\n",
              " 'C': [1000, 10, 60],\n",
              " 'Chave': ['AA', 'BB', 'CC']}"
            ]
          },
          "metadata": {
            "tags": []
          },
          "execution_count": 107
        }
      ]
    },
    {
      "cell_type": "code",
      "metadata": {
        "colab": {
          "base_uri": "https://localhost:8080/"
        },
        "id": "hjdsdbOZsT6z",
        "outputId": "4f873e54-d19f-4a6e-e4d3-3452788ed125"
      },
      "source": [
        "dic_03 = {\n",
        "    'A': [11, 12, 13],\n",
        "    'B': [-39, -22, -11],\n",
        "    'C': [30, 10, 20],\n",
        "    'Chave': ['AA', 'BB', 'CC']\n",
        "}\n",
        "\n",
        "dic_03"
      ],
      "execution_count": 108,
      "outputs": [
        {
          "output_type": "execute_result",
          "data": {
            "text/plain": [
              "{'A': [11, 12, 13],\n",
              " 'B': [-39, -22, -11],\n",
              " 'C': [30, 10, 20],\n",
              " 'Chave': ['AA', 'BB', 'CC']}"
            ]
          },
          "metadata": {
            "tags": []
          },
          "execution_count": 108
        }
      ]
    },
    {
      "cell_type": "code",
      "metadata": {
        "id": "qdg2uA3rsT3W"
      },
      "source": [
        "# criando várias listas para serem os rótulos\n",
        "rotulo_01 = ['1ª linha', '2ª linha', '3ª linha']\n",
        "rotulo_02 = ['4ª linha', '5ª linha', '6ª linha']\n",
        "rotulo_03 = ['7ª linha', '8ª linha', '9ª linha']"
      ],
      "execution_count": 109,
      "outputs": []
    },
    {
      "cell_type": "code",
      "metadata": {
        "id": "FKxwE1KDv3H3"
      },
      "source": [
        "# estruturando as bases de dados\n",
        "dataFrame_01 = pd.DataFrame(dic_01, index=rotulo_01)\n",
        "dataFrame_02 = pd.DataFrame(dic_02, index=rotulo_03)\n",
        "dataFrame_03 = pd.DataFrame(dic_03, index=rotulo_03)"
      ],
      "execution_count": 110,
      "outputs": []
    },
    {
      "cell_type": "markdown",
      "metadata": {
        "id": "c6oUYH6Vwptx"
      },
      "source": [
        "**Agora, vamos visualizar os nossos data frames criados**"
      ]
    },
    {
      "cell_type": "code",
      "metadata": {
        "colab": {
          "base_uri": "https://localhost:8080/"
        },
        "id": "LqTukkh2v3FE",
        "outputId": "ad7aa47a-d453-4d47-b2b1-6bc158fa2bba"
      },
      "source": [
        "print(dataFrame_01)\n",
        "print('')\n",
        "print(dataFrame_02)\n",
        "print('')\n",
        "print(dataFrame_03)"
      ],
      "execution_count": 114,
      "outputs": [
        {
          "output_type": "stream",
          "text": [
            "          A   B   C Chave\n",
            "1ª linha  1 -32  60    AA\n",
            "2ª linha  2 -21  10    BB\n",
            "3ª linha  3 -15  20    CC\n",
            "\n",
            "          A   B     C Chave\n",
            "7ª linha  6 -39  1000    AA\n",
            "8ª linha  7 -28    10    BB\n",
            "9ª linha  8 -17    60    CC\n",
            "\n",
            "           A   B   C Chave\n",
            "7ª linha  11 -39  30    AA\n",
            "8ª linha  12 -22  10    BB\n",
            "9ª linha  13 -11  20    CC\n"
          ],
          "name": "stdout"
        }
      ]
    },
    {
      "cell_type": "markdown",
      "metadata": {
        "id": "Cb6Qm74QxXow"
      },
      "source": [
        "**Empilhando os dados**"
      ]
    },
    {
      "cell_type": "code",
      "metadata": {
        "colab": {
          "base_uri": "https://localhost:8080/",
          "height": 328
        },
        "id": "5eF9NY1tv3AP",
        "outputId": "39db261b-c313-4e8f-87bf-d9c1ee61fe62"
      },
      "source": [
        "pd.concat(\n",
        "    [dataFrame_01, dataFrame_02, dataFrame_03]\n",
        ")"
      ],
      "execution_count": 115,
      "outputs": [
        {
          "output_type": "execute_result",
          "data": {
            "text/html": [
              "<div>\n",
              "<style scoped>\n",
              "    .dataframe tbody tr th:only-of-type {\n",
              "        vertical-align: middle;\n",
              "    }\n",
              "\n",
              "    .dataframe tbody tr th {\n",
              "        vertical-align: top;\n",
              "    }\n",
              "\n",
              "    .dataframe thead th {\n",
              "        text-align: right;\n",
              "    }\n",
              "</style>\n",
              "<table border=\"1\" class=\"dataframe\">\n",
              "  <thead>\n",
              "    <tr style=\"text-align: right;\">\n",
              "      <th></th>\n",
              "      <th>A</th>\n",
              "      <th>B</th>\n",
              "      <th>C</th>\n",
              "      <th>Chave</th>\n",
              "    </tr>\n",
              "  </thead>\n",
              "  <tbody>\n",
              "    <tr>\n",
              "      <th>1ª linha</th>\n",
              "      <td>1</td>\n",
              "      <td>-32</td>\n",
              "      <td>60</td>\n",
              "      <td>AA</td>\n",
              "    </tr>\n",
              "    <tr>\n",
              "      <th>2ª linha</th>\n",
              "      <td>2</td>\n",
              "      <td>-21</td>\n",
              "      <td>10</td>\n",
              "      <td>BB</td>\n",
              "    </tr>\n",
              "    <tr>\n",
              "      <th>3ª linha</th>\n",
              "      <td>3</td>\n",
              "      <td>-15</td>\n",
              "      <td>20</td>\n",
              "      <td>CC</td>\n",
              "    </tr>\n",
              "    <tr>\n",
              "      <th>7ª linha</th>\n",
              "      <td>6</td>\n",
              "      <td>-39</td>\n",
              "      <td>1000</td>\n",
              "      <td>AA</td>\n",
              "    </tr>\n",
              "    <tr>\n",
              "      <th>8ª linha</th>\n",
              "      <td>7</td>\n",
              "      <td>-28</td>\n",
              "      <td>10</td>\n",
              "      <td>BB</td>\n",
              "    </tr>\n",
              "    <tr>\n",
              "      <th>9ª linha</th>\n",
              "      <td>8</td>\n",
              "      <td>-17</td>\n",
              "      <td>60</td>\n",
              "      <td>CC</td>\n",
              "    </tr>\n",
              "    <tr>\n",
              "      <th>7ª linha</th>\n",
              "      <td>11</td>\n",
              "      <td>-39</td>\n",
              "      <td>30</td>\n",
              "      <td>AA</td>\n",
              "    </tr>\n",
              "    <tr>\n",
              "      <th>8ª linha</th>\n",
              "      <td>12</td>\n",
              "      <td>-22</td>\n",
              "      <td>10</td>\n",
              "      <td>BB</td>\n",
              "    </tr>\n",
              "    <tr>\n",
              "      <th>9ª linha</th>\n",
              "      <td>13</td>\n",
              "      <td>-11</td>\n",
              "      <td>20</td>\n",
              "      <td>CC</td>\n",
              "    </tr>\n",
              "  </tbody>\n",
              "</table>\n",
              "</div>"
            ],
            "text/plain": [
              "           A   B     C Chave\n",
              "1ª linha   1 -32    60    AA\n",
              "2ª linha   2 -21    10    BB\n",
              "3ª linha   3 -15    20    CC\n",
              "7ª linha   6 -39  1000    AA\n",
              "8ª linha   7 -28    10    BB\n",
              "9ª linha   8 -17    60    CC\n",
              "7ª linha  11 -39    30    AA\n",
              "8ª linha  12 -22    10    BB\n",
              "9ª linha  13 -11    20    CC"
            ]
          },
          "metadata": {
            "tags": []
          },
          "execution_count": 115
        }
      ]
    },
    {
      "cell_type": "markdown",
      "metadata": {
        "id": "UoCvwdtLxlIX"
      },
      "source": [
        "**Função Mesclar permite que mescle os dados de diferentes base de\n",
        "dados.**\n",
        "\n",
        "**Essa função é semelhante a mesclagem de ``tabelas do SQL``**\n"
      ]
    },
    {
      "cell_type": "code",
      "metadata": {
        "colab": {
          "base_uri": "https://localhost:8080/",
          "height": 142
        },
        "id": "8HNbZWysv293",
        "outputId": "63de9ffe-e06b-4584-f425-64f49c22236a"
      },
      "source": [
        "pd.merge(\n",
        "    dataFrame_01, dataFrame_02, how='inner', on='Chave'\n",
        ")"
      ],
      "execution_count": 117,
      "outputs": [
        {
          "output_type": "execute_result",
          "data": {
            "text/html": [
              "<div>\n",
              "<style scoped>\n",
              "    .dataframe tbody tr th:only-of-type {\n",
              "        vertical-align: middle;\n",
              "    }\n",
              "\n",
              "    .dataframe tbody tr th {\n",
              "        vertical-align: top;\n",
              "    }\n",
              "\n",
              "    .dataframe thead th {\n",
              "        text-align: right;\n",
              "    }\n",
              "</style>\n",
              "<table border=\"1\" class=\"dataframe\">\n",
              "  <thead>\n",
              "    <tr style=\"text-align: right;\">\n",
              "      <th></th>\n",
              "      <th>A_x</th>\n",
              "      <th>B_x</th>\n",
              "      <th>C_x</th>\n",
              "      <th>Chave</th>\n",
              "      <th>A_y</th>\n",
              "      <th>B_y</th>\n",
              "      <th>C_y</th>\n",
              "    </tr>\n",
              "  </thead>\n",
              "  <tbody>\n",
              "    <tr>\n",
              "      <th>0</th>\n",
              "      <td>1</td>\n",
              "      <td>-32</td>\n",
              "      <td>60</td>\n",
              "      <td>AA</td>\n",
              "      <td>6</td>\n",
              "      <td>-39</td>\n",
              "      <td>1000</td>\n",
              "    </tr>\n",
              "    <tr>\n",
              "      <th>1</th>\n",
              "      <td>2</td>\n",
              "      <td>-21</td>\n",
              "      <td>10</td>\n",
              "      <td>BB</td>\n",
              "      <td>7</td>\n",
              "      <td>-28</td>\n",
              "      <td>10</td>\n",
              "    </tr>\n",
              "    <tr>\n",
              "      <th>2</th>\n",
              "      <td>3</td>\n",
              "      <td>-15</td>\n",
              "      <td>20</td>\n",
              "      <td>CC</td>\n",
              "      <td>8</td>\n",
              "      <td>-17</td>\n",
              "      <td>60</td>\n",
              "    </tr>\n",
              "  </tbody>\n",
              "</table>\n",
              "</div>"
            ],
            "text/plain": [
              "   A_x  B_x  C_x Chave  A_y  B_y   C_y\n",
              "0    1  -32   60    AA    6  -39  1000\n",
              "1    2  -21   10    BB    7  -28    10\n",
              "2    3  -15   20    CC    8  -17    60"
            ]
          },
          "metadata": {
            "tags": []
          },
          "execution_count": 117
        }
      ]
    },
    {
      "cell_type": "markdown",
      "metadata": {
        "id": "r0xG1FHtyCVl"
      },
      "source": [
        "O comando merge uni as colunas baseando em uma chave, muito similar ao SQL.\n",
        "O parâmetro ‘how’ há diversas forma:\n",
        "\n",
        "- ``inner`` = apenas os casos que localizou em ambos os lados\n",
        "- ``left`` = apenas os dados da base de dados do lado esquerdo\n",
        "- ``right`` = apenas os dados da base de dados do lado direito\n",
        "- ``outer`` = união das chaves em ambos os lados\n",
        "- ``cross`` = cria o produto cartesiano de ambos os quadros"
      ]
    },
    {
      "cell_type": "markdown",
      "metadata": {
        "id": "oelF6IsoyRPc"
      },
      "source": [
        "**Função Juntar combina as colunas de ambas as bases de dados**"
      ]
    },
    {
      "cell_type": "code",
      "metadata": {
        "id": "dyzpiKTsv28I"
      },
      "source": [
        "# criando dois dicionários\n",
        "\n",
        "dic_01 = {\n",
        "    'A': [1, 2, 3],\n",
        "    'B': [-32, -21, -15],\n",
        "    'C': [60, 10, 20],\n",
        "}\n",
        "\n",
        "dic_02 = {\n",
        "    'D': [6, 7, 8],\n",
        "    'E': [-39, -28, -17],\n",
        "    'F': [1000, 10, 60],\n",
        "}"
      ],
      "execution_count": 126,
      "outputs": []
    },
    {
      "cell_type": "code",
      "metadata": {
        "id": "ucsAiRDev256"
      },
      "source": [
        "# criando uma lista para serem os rótulos\n",
        "rotulo_01 = ['1ª linha', '2ª linha', '3ª linha']"
      ],
      "execution_count": 127,
      "outputs": []
    },
    {
      "cell_type": "code",
      "metadata": {
        "id": "Nli6_E33v2yj"
      },
      "source": [
        "# estruturando as bases de dados\n",
        "dataFrame_01 = pd.DataFrame(dic_01, index=rotulo_01)\n",
        "dataFrame_02 = pd.DataFrame(dic_02, index=rotulo_01)"
      ],
      "execution_count": 128,
      "outputs": []
    },
    {
      "cell_type": "code",
      "metadata": {
        "colab": {
          "base_uri": "https://localhost:8080/",
          "height": 142
        },
        "id": "Z70Q-5sZy9ga",
        "outputId": "32e6ae5c-4369-4187-a6a1-2d1ac5e50648"
      },
      "source": [
        "# aplicando a função join\n",
        "dataFrame_01.join(dataFrame_02)"
      ],
      "execution_count": 129,
      "outputs": [
        {
          "output_type": "execute_result",
          "data": {
            "text/html": [
              "<div>\n",
              "<style scoped>\n",
              "    .dataframe tbody tr th:only-of-type {\n",
              "        vertical-align: middle;\n",
              "    }\n",
              "\n",
              "    .dataframe tbody tr th {\n",
              "        vertical-align: top;\n",
              "    }\n",
              "\n",
              "    .dataframe thead th {\n",
              "        text-align: right;\n",
              "    }\n",
              "</style>\n",
              "<table border=\"1\" class=\"dataframe\">\n",
              "  <thead>\n",
              "    <tr style=\"text-align: right;\">\n",
              "      <th></th>\n",
              "      <th>A</th>\n",
              "      <th>B</th>\n",
              "      <th>C</th>\n",
              "      <th>D</th>\n",
              "      <th>E</th>\n",
              "      <th>F</th>\n",
              "    </tr>\n",
              "  </thead>\n",
              "  <tbody>\n",
              "    <tr>\n",
              "      <th>1ª linha</th>\n",
              "      <td>1</td>\n",
              "      <td>-32</td>\n",
              "      <td>60</td>\n",
              "      <td>6</td>\n",
              "      <td>-39</td>\n",
              "      <td>1000</td>\n",
              "    </tr>\n",
              "    <tr>\n",
              "      <th>2ª linha</th>\n",
              "      <td>2</td>\n",
              "      <td>-21</td>\n",
              "      <td>10</td>\n",
              "      <td>7</td>\n",
              "      <td>-28</td>\n",
              "      <td>10</td>\n",
              "    </tr>\n",
              "    <tr>\n",
              "      <th>3ª linha</th>\n",
              "      <td>3</td>\n",
              "      <td>-15</td>\n",
              "      <td>20</td>\n",
              "      <td>8</td>\n",
              "      <td>-17</td>\n",
              "      <td>60</td>\n",
              "    </tr>\n",
              "  </tbody>\n",
              "</table>\n",
              "</div>"
            ],
            "text/plain": [
              "          A   B   C  D   E     F\n",
              "1ª linha  1 -32  60  6 -39  1000\n",
              "2ª linha  2 -21  10  7 -28    10\n",
              "3ª linha  3 -15  20  8 -17    60"
            ]
          },
          "metadata": {
            "tags": []
          },
          "execution_count": 129
        }
      ]
    },
    {
      "cell_type": "markdown",
      "metadata": {
        "id": "04X8OReizrjZ"
      },
      "source": [
        "Colunas A,BC eram da base de\n",
        "dados 1 e as colunas ``D,E,F`` eram\n",
        "da base de dados 2. \n",
        "\n",
        "Assim o join uniu todas elas."
      ]
    },
    {
      "cell_type": "markdown",
      "metadata": {
        "id": "6_r8AVWfz2xO"
      },
      "source": [
        "**Final**\n",
        "\n",
        "Esse guia é super rápido e apenas uma introdução sobre o tema.\n",
        "\n",
        "- Guia da documentação caso queira mais detalhes\n",
        " - https://pandas.pydata.org/docs/reference/io.html\n"
      ]
    },
    {
      "cell_type": "code",
      "metadata": {
        "id": "hj1oi3r7y9e8"
      },
      "source": [
        ""
      ],
      "execution_count": null,
      "outputs": []
    },
    {
      "cell_type": "code",
      "metadata": {
        "id": "nlPwbxMHy9bL"
      },
      "source": [
        ""
      ],
      "execution_count": null,
      "outputs": []
    },
    {
      "cell_type": "code",
      "metadata": {
        "id": "mBu7GQAry9X7"
      },
      "source": [
        ""
      ],
      "execution_count": null,
      "outputs": []
    }
  ]
}