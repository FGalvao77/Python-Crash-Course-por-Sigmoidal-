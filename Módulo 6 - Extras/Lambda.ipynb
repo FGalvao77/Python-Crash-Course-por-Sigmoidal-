{
  "nbformat": 4,
  "nbformat_minor": 0,
  "metadata": {
    "colab": {
      "name": "Lambda.ipynb",
      "provenance": [],
      "collapsed_sections": []
    },
    "kernelspec": {
      "name": "python3",
      "display_name": "Python 3"
    },
    "language_info": {
      "name": "python"
    }
  },
  "cells": [
    {
      "cell_type": "code",
      "metadata": {
        "colab": {
          "base_uri": "https://localhost:8080/"
        },
        "id": "2QjWuhv4FQLW",
        "outputId": "bd2f2a32-7ad7-4505-9ef9-c6f2f4926867"
      },
      "source": [
        "# exemplo 1\n",
        "x = lambda a, b: a * b\n",
        "print(x(5, 6))\n",
        "# 30"
      ],
      "execution_count": null,
      "outputs": [
        {
          "output_type": "stream",
          "text": [
            "30\n"
          ],
          "name": "stdout"
        }
      ]
    },
    {
      "cell_type": "code",
      "metadata": {
        "id": "tNu9O5yFFYXD"
      },
      "source": [
        "# exemplo 2\n",
        "# criando uma lista\n",
        "items = range(1, 8)"
      ],
      "execution_count": null,
      "outputs": []
    },
    {
      "cell_type": "code",
      "metadata": {
        "colab": {
          "base_uri": "https://localhost:8080/"
        },
        "id": "sOJD2ryLFYUP",
        "outputId": "ad2edad3-7818-4d61-d958-f45372ffbfd9"
      },
      "source": [
        "# função lambda que multiplica cada número por 2\n",
        "mult_dois = list(map(lambda var: var * 2, items))\n",
        "mult_dois"
      ],
      "execution_count": null,
      "outputs": [
        {
          "output_type": "execute_result",
          "data": {
            "text/plain": [
              "[2, 4, 6, 8, 10, 12, 14]"
            ]
          },
          "metadata": {
            "tags": []
          },
          "execution_count": 5
        }
      ]
    },
    {
      "cell_type": "code",
      "metadata": {
        "id": "RJmkE0yCFYR3"
      },
      "source": [
        ""
      ],
      "execution_count": null,
      "outputs": []
    },
    {
      "cell_type": "code",
      "metadata": {
        "id": "T3oeLwljFYPP"
      },
      "source": [
        ""
      ],
      "execution_count": null,
      "outputs": []
    },
    {
      "cell_type": "code",
      "metadata": {
        "id": "VJStOwalFYMg"
      },
      "source": [
        ""
      ],
      "execution_count": null,
      "outputs": []
    }
  ]
}