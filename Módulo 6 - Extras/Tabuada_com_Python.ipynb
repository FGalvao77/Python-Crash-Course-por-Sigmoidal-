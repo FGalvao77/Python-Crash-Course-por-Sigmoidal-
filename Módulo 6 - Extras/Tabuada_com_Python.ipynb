{
  "nbformat": 4,
  "nbformat_minor": 0,
  "metadata": {
    "colab": {
      "name": "Tabuada com Python.ipynb",
      "provenance": [],
      "collapsed_sections": []
    },
    "kernelspec": {
      "name": "python3",
      "display_name": "Python 3"
    },
    "language_info": {
      "name": "python"
    }
  },
  "cells": [
    {
      "cell_type": "code",
      "metadata": {
        "colab": {
          "base_uri": "https://localhost:8080/"
        },
        "id": "oTxXKgEqaqu1",
        "outputId": "0f7f9dfc-308a-46d3-926f-032349cbd299"
      },
      "source": [
        "# código para gerar um tabuada conforme entrada do usuário\n",
        "x = input('Digite a tabuada que deseja: ')\n",
        "x = int(x)\n",
        "print(f'\\n\\tTABUADA DO {x}\\n')\n",
        "\n",
        "for i in range(11):\n",
        "  resultado = i * x\n",
        "  print(f'\\t{x} X', i, '=', resultado)"
      ],
      "execution_count": 1,
      "outputs": [
        {
          "output_type": "stream",
          "text": [
            "Digite a tabuada que deseja: 2\n",
            "\n",
            "\tTABUADA DO 2\n",
            "\n",
            "\t2 X 0 = 0\n",
            "\t2 X 1 = 2\n",
            "\t2 X 2 = 4\n",
            "\t2 X 3 = 6\n",
            "\t2 X 4 = 8\n",
            "\t2 X 5 = 10\n",
            "\t2 X 6 = 12\n",
            "\t2 X 7 = 14\n",
            "\t2 X 8 = 16\n",
            "\t2 X 9 = 18\n",
            "\t2 X 10 = 20\n"
          ],
          "name": "stdout"
        }
      ]
    }
  ]
}
