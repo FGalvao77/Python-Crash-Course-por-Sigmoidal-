{
  "nbformat": 4,
  "nbformat_minor": 0,
  "metadata": {
    "colab": {
      "name": "Convertendo tipo de dado.ipynb",
      "provenance": [],
      "collapsed_sections": []
    },
    "kernelspec": {
      "name": "python3",
      "display_name": "Python 3"
    },
    "language_info": {
      "name": "python"
    }
  },
  "cells": [
    {
      "cell_type": "code",
      "metadata": {
        "id": "M8974HKPHnJW"
      },
      "source": [
        "# importando a biblioteca \n",
        "import pandas as pd"
      ],
      "execution_count": null,
      "outputs": []
    },
    {
      "cell_type": "code",
      "metadata": {
        "id": "1TaHV62_HuI0"
      },
      "source": [
        "# exemplo 1\n",
        "nome = pd.Series(['João', 'Maria', 'Letícia','Roberto', 'Joaquim'])\n",
        "altura = pd.Series([1.80, 1.79, 1.76, 1.81, 1.75], dtype='object')\n",
        "idade = pd.Series([29, 24, 30, 20, 50], dtype='object')\n",
        "matriculado = pd.Series([True, True, False, True, False], dtype='object')"
      ],
      "execution_count": null,
      "outputs": []
    },
    {
      "cell_type": "code",
      "metadata": {
        "colab": {
          "base_uri": "https://localhost:8080/",
          "height": 204
        },
        "id": "09BVkAScHuFx",
        "outputId": "20032412-e33b-4cea-dc4e-aa2d30f5ed59"
      },
      "source": [
        "# instanciando os dados em um dataframe\n",
        "df = pd.DataFrame({\n",
        "    'nome': nome,\n",
        "    'altura': altura,\n",
        "    'idade': idade,\n",
        "    'matriculado': matriculado\n",
        "})\n",
        "\n",
        "# imprimindo o dataframe criado\n",
        "df"
      ],
      "execution_count": null,
      "outputs": [
        {
          "output_type": "execute_result",
          "data": {
            "text/html": [
              "<div>\n",
              "<style scoped>\n",
              "    .dataframe tbody tr th:only-of-type {\n",
              "        vertical-align: middle;\n",
              "    }\n",
              "\n",
              "    .dataframe tbody tr th {\n",
              "        vertical-align: top;\n",
              "    }\n",
              "\n",
              "    .dataframe thead th {\n",
              "        text-align: right;\n",
              "    }\n",
              "</style>\n",
              "<table border=\"1\" class=\"dataframe\">\n",
              "  <thead>\n",
              "    <tr style=\"text-align: right;\">\n",
              "      <th></th>\n",
              "      <th>nome</th>\n",
              "      <th>altura</th>\n",
              "      <th>idade</th>\n",
              "      <th>matriculado</th>\n",
              "    </tr>\n",
              "  </thead>\n",
              "  <tbody>\n",
              "    <tr>\n",
              "      <th>0</th>\n",
              "      <td>João</td>\n",
              "      <td>1.8</td>\n",
              "      <td>29</td>\n",
              "      <td>True</td>\n",
              "    </tr>\n",
              "    <tr>\n",
              "      <th>1</th>\n",
              "      <td>Maria</td>\n",
              "      <td>1.79</td>\n",
              "      <td>24</td>\n",
              "      <td>True</td>\n",
              "    </tr>\n",
              "    <tr>\n",
              "      <th>2</th>\n",
              "      <td>Letícia</td>\n",
              "      <td>1.76</td>\n",
              "      <td>30</td>\n",
              "      <td>False</td>\n",
              "    </tr>\n",
              "    <tr>\n",
              "      <th>3</th>\n",
              "      <td>Roberto</td>\n",
              "      <td>1.81</td>\n",
              "      <td>20</td>\n",
              "      <td>True</td>\n",
              "    </tr>\n",
              "    <tr>\n",
              "      <th>4</th>\n",
              "      <td>Joaquim</td>\n",
              "      <td>1.75</td>\n",
              "      <td>50</td>\n",
              "      <td>False</td>\n",
              "    </tr>\n",
              "  </tbody>\n",
              "</table>\n",
              "</div>"
            ],
            "text/plain": [
              "      nome altura idade matriculado\n",
              "0     João    1.8    29        True\n",
              "1    Maria   1.79    24        True\n",
              "2  Letícia   1.76    30       False\n",
              "3  Roberto   1.81    20        True\n",
              "4  Joaquim   1.75    50       False"
            ]
          },
          "metadata": {
            "tags": []
          },
          "execution_count": 40
        }
      ]
    },
    {
      "cell_type": "code",
      "metadata": {
        "colab": {
          "base_uri": "https://localhost:8080/"
        },
        "id": "4QeA7B7rHuDI",
        "outputId": "2650016e-4a8a-4fe6-c5a5-d75aad2494c3"
      },
      "source": [
        "# visualizando os tipos de dados no df\n",
        "df.dtypes"
      ],
      "execution_count": null,
      "outputs": [
        {
          "output_type": "execute_result",
          "data": {
            "text/plain": [
              "nome           object\n",
              "altura         object\n",
              "idade          object\n",
              "matriculado    object\n",
              "dtype: object"
            ]
          },
          "metadata": {
            "tags": []
          },
          "execution_count": 41
        }
      ]
    },
    {
      "cell_type": "code",
      "metadata": {
        "colab": {
          "base_uri": "https://localhost:8080/"
        },
        "id": "OmPz0Ze0HuAQ",
        "outputId": "2eeaf751-4da9-4299-97c1-31753a91a54d"
      },
      "source": [
        "# realizando a transformação dos tipos de dados do df\n",
        "novo_df = df.convert_dtypes(convert_boolean=False)\n",
        "novo_df.dtypes"
      ],
      "execution_count": null,
      "outputs": [
        {
          "output_type": "execute_result",
          "data": {
            "text/plain": [
              "nome            string\n",
              "altura         float64\n",
              "idade            Int64\n",
              "matriculado      Int64\n",
              "dtype: object"
            ]
          },
          "metadata": {
            "tags": []
          },
          "execution_count": 42
        }
      ]
    },
    {
      "cell_type": "code",
      "metadata": {
        "colab": {
          "base_uri": "https://localhost:8080/",
          "height": 204
        },
        "id": "RcVUAU_bHt6v",
        "outputId": "bb71f74f-799f-416c-9521-04f155a8ec8c"
      },
      "source": [
        "# visualizando o novo dataframe\n",
        "novo_df"
      ],
      "execution_count": null,
      "outputs": [
        {
          "output_type": "execute_result",
          "data": {
            "text/html": [
              "<div>\n",
              "<style scoped>\n",
              "    .dataframe tbody tr th:only-of-type {\n",
              "        vertical-align: middle;\n",
              "    }\n",
              "\n",
              "    .dataframe tbody tr th {\n",
              "        vertical-align: top;\n",
              "    }\n",
              "\n",
              "    .dataframe thead th {\n",
              "        text-align: right;\n",
              "    }\n",
              "</style>\n",
              "<table border=\"1\" class=\"dataframe\">\n",
              "  <thead>\n",
              "    <tr style=\"text-align: right;\">\n",
              "      <th></th>\n",
              "      <th>nome</th>\n",
              "      <th>altura</th>\n",
              "      <th>idade</th>\n",
              "      <th>matriculado</th>\n",
              "    </tr>\n",
              "  </thead>\n",
              "  <tbody>\n",
              "    <tr>\n",
              "      <th>0</th>\n",
              "      <td>João</td>\n",
              "      <td>1.80</td>\n",
              "      <td>29</td>\n",
              "      <td>1</td>\n",
              "    </tr>\n",
              "    <tr>\n",
              "      <th>1</th>\n",
              "      <td>Maria</td>\n",
              "      <td>1.79</td>\n",
              "      <td>24</td>\n",
              "      <td>1</td>\n",
              "    </tr>\n",
              "    <tr>\n",
              "      <th>2</th>\n",
              "      <td>Letícia</td>\n",
              "      <td>1.76</td>\n",
              "      <td>30</td>\n",
              "      <td>0</td>\n",
              "    </tr>\n",
              "    <tr>\n",
              "      <th>3</th>\n",
              "      <td>Roberto</td>\n",
              "      <td>1.81</td>\n",
              "      <td>20</td>\n",
              "      <td>1</td>\n",
              "    </tr>\n",
              "    <tr>\n",
              "      <th>4</th>\n",
              "      <td>Joaquim</td>\n",
              "      <td>1.75</td>\n",
              "      <td>50</td>\n",
              "      <td>0</td>\n",
              "    </tr>\n",
              "  </tbody>\n",
              "</table>\n",
              "</div>"
            ],
            "text/plain": [
              "      nome  altura  idade  matriculado\n",
              "0     João    1.80     29            1\n",
              "1    Maria    1.79     24            1\n",
              "2  Letícia    1.76     30            0\n",
              "3  Roberto    1.81     20            1\n",
              "4  Joaquim    1.75     50            0"
            ]
          },
          "metadata": {
            "tags": []
          },
          "execution_count": 43
        }
      ]
    },
    {
      "cell_type": "code",
      "metadata": {
        "id": "Os8lEy6OHt4e"
      },
      "source": [
        "# exemplo 2\n",
        "nome = pd.Series(['João', 'Maria', 'Letícia','Roberto', 'Joaquim'])\n",
        "altura = pd.Series([1.80, 1.79, 1.76, 1.81, 1.75], dtype='object')\n",
        "idade = pd.Series([29, 24, 30, 20, 50], dtype='object')\n",
        "matriculado = pd.Series(['Sim', 'Sim', 'Não', 'Sim', 'Não'], dtype='object')"
      ],
      "execution_count": null,
      "outputs": []
    },
    {
      "cell_type": "code",
      "metadata": {
        "colab": {
          "base_uri": "https://localhost:8080/",
          "height": 204
        },
        "id": "DuSsPELoHtyv",
        "outputId": "9e0c57b6-7215-47c3-8027-1e365e15543d"
      },
      "source": [
        "# instanciando os dados em um dataframe\n",
        "df = pd.DataFrame({\n",
        "    'nome': nome,\n",
        "    'altura': altura,\n",
        "    'idade': idade,\n",
        "    'matriculado': matriculado\n",
        "})\n",
        "\n",
        "# visualizando o dataframe criado\n",
        "df"
      ],
      "execution_count": null,
      "outputs": [
        {
          "output_type": "execute_result",
          "data": {
            "text/html": [
              "<div>\n",
              "<style scoped>\n",
              "    .dataframe tbody tr th:only-of-type {\n",
              "        vertical-align: middle;\n",
              "    }\n",
              "\n",
              "    .dataframe tbody tr th {\n",
              "        vertical-align: top;\n",
              "    }\n",
              "\n",
              "    .dataframe thead th {\n",
              "        text-align: right;\n",
              "    }\n",
              "</style>\n",
              "<table border=\"1\" class=\"dataframe\">\n",
              "  <thead>\n",
              "    <tr style=\"text-align: right;\">\n",
              "      <th></th>\n",
              "      <th>nome</th>\n",
              "      <th>altura</th>\n",
              "      <th>idade</th>\n",
              "      <th>matriculado</th>\n",
              "    </tr>\n",
              "  </thead>\n",
              "  <tbody>\n",
              "    <tr>\n",
              "      <th>0</th>\n",
              "      <td>João</td>\n",
              "      <td>1.8</td>\n",
              "      <td>29</td>\n",
              "      <td>Sim</td>\n",
              "    </tr>\n",
              "    <tr>\n",
              "      <th>1</th>\n",
              "      <td>Maria</td>\n",
              "      <td>1.79</td>\n",
              "      <td>24</td>\n",
              "      <td>Sim</td>\n",
              "    </tr>\n",
              "    <tr>\n",
              "      <th>2</th>\n",
              "      <td>Letícia</td>\n",
              "      <td>1.76</td>\n",
              "      <td>30</td>\n",
              "      <td>Não</td>\n",
              "    </tr>\n",
              "    <tr>\n",
              "      <th>3</th>\n",
              "      <td>Roberto</td>\n",
              "      <td>1.81</td>\n",
              "      <td>20</td>\n",
              "      <td>Sim</td>\n",
              "    </tr>\n",
              "    <tr>\n",
              "      <th>4</th>\n",
              "      <td>Joaquim</td>\n",
              "      <td>1.75</td>\n",
              "      <td>50</td>\n",
              "      <td>Não</td>\n",
              "    </tr>\n",
              "  </tbody>\n",
              "</table>\n",
              "</div>"
            ],
            "text/plain": [
              "      nome altura idade matriculado\n",
              "0     João    1.8    29         Sim\n",
              "1    Maria   1.79    24         Sim\n",
              "2  Letícia   1.76    30         Não\n",
              "3  Roberto   1.81    20         Sim\n",
              "4  Joaquim   1.75    50         Não"
            ]
          },
          "metadata": {
            "tags": []
          },
          "execution_count": 49
        }
      ]
    },
    {
      "cell_type": "code",
      "metadata": {
        "colab": {
          "base_uri": "https://localhost:8080/"
        },
        "id": "kV8PCm-wNn4a",
        "outputId": "2263e4ba-f28b-4c6f-e2ab-b83c6d4133dd"
      },
      "source": [
        "# visualizando os tipos de dados presentes no dataframe\n",
        "df.dtypes"
      ],
      "execution_count": null,
      "outputs": [
        {
          "output_type": "execute_result",
          "data": {
            "text/plain": [
              "nome           object\n",
              "altura         object\n",
              "idade          object\n",
              "matriculado    object\n",
              "dtype: object"
            ]
          },
          "metadata": {
            "tags": []
          },
          "execution_count": 50
        }
      ]
    },
    {
      "cell_type": "code",
      "metadata": {
        "colab": {
          "base_uri": "https://localhost:8080/"
        },
        "id": "S8vOmU25Nn1a",
        "outputId": "02a478bc-d094-4cc8-f820-e8f029f24cd3"
      },
      "source": [
        "# realizando a conversão dos tipos de dados \n",
        "novo_df = df.convert_dtypes(convert_boolean=False)\n",
        "novo_df.dtypes"
      ],
      "execution_count": null,
      "outputs": [
        {
          "output_type": "execute_result",
          "data": {
            "text/plain": [
              "nome            string\n",
              "altura         float64\n",
              "idade            Int64\n",
              "matriculado     string\n",
              "dtype: object"
            ]
          },
          "metadata": {
            "tags": []
          },
          "execution_count": 51
        }
      ]
    },
    {
      "cell_type": "code",
      "metadata": {
        "colab": {
          "base_uri": "https://localhost:8080/",
          "height": 204
        },
        "id": "WuP82_8JNnyh",
        "outputId": "b8f42695-4ee6-439d-9987-aa7d687e874a"
      },
      "source": [
        "# visualizando o novo dataframe\n",
        "novo_df"
      ],
      "execution_count": null,
      "outputs": [
        {
          "output_type": "execute_result",
          "data": {
            "text/html": [
              "<div>\n",
              "<style scoped>\n",
              "    .dataframe tbody tr th:only-of-type {\n",
              "        vertical-align: middle;\n",
              "    }\n",
              "\n",
              "    .dataframe tbody tr th {\n",
              "        vertical-align: top;\n",
              "    }\n",
              "\n",
              "    .dataframe thead th {\n",
              "        text-align: right;\n",
              "    }\n",
              "</style>\n",
              "<table border=\"1\" class=\"dataframe\">\n",
              "  <thead>\n",
              "    <tr style=\"text-align: right;\">\n",
              "      <th></th>\n",
              "      <th>nome</th>\n",
              "      <th>altura</th>\n",
              "      <th>idade</th>\n",
              "      <th>matriculado</th>\n",
              "    </tr>\n",
              "  </thead>\n",
              "  <tbody>\n",
              "    <tr>\n",
              "      <th>0</th>\n",
              "      <td>João</td>\n",
              "      <td>1.80</td>\n",
              "      <td>29</td>\n",
              "      <td>Sim</td>\n",
              "    </tr>\n",
              "    <tr>\n",
              "      <th>1</th>\n",
              "      <td>Maria</td>\n",
              "      <td>1.79</td>\n",
              "      <td>24</td>\n",
              "      <td>Sim</td>\n",
              "    </tr>\n",
              "    <tr>\n",
              "      <th>2</th>\n",
              "      <td>Letícia</td>\n",
              "      <td>1.76</td>\n",
              "      <td>30</td>\n",
              "      <td>Não</td>\n",
              "    </tr>\n",
              "    <tr>\n",
              "      <th>3</th>\n",
              "      <td>Roberto</td>\n",
              "      <td>1.81</td>\n",
              "      <td>20</td>\n",
              "      <td>Sim</td>\n",
              "    </tr>\n",
              "    <tr>\n",
              "      <th>4</th>\n",
              "      <td>Joaquim</td>\n",
              "      <td>1.75</td>\n",
              "      <td>50</td>\n",
              "      <td>Não</td>\n",
              "    </tr>\n",
              "  </tbody>\n",
              "</table>\n",
              "</div>"
            ],
            "text/plain": [
              "      nome  altura  idade matriculado\n",
              "0     João    1.80     29         Sim\n",
              "1    Maria    1.79     24         Sim\n",
              "2  Letícia    1.76     30         Não\n",
              "3  Roberto    1.81     20         Sim\n",
              "4  Joaquim    1.75     50         Não"
            ]
          },
          "metadata": {
            "tags": []
          },
          "execution_count": 52
        }
      ]
    },
    {
      "cell_type": "code",
      "metadata": {
        "colab": {
          "base_uri": "https://localhost:8080/",
          "height": 204
        },
        "id": "dcfAq-WF2tif",
        "outputId": "a77313c7-7636-421a-f307-7fc453d91bd9"
      },
      "source": [
        "# excluindo a primeira coluna do \"novo_df\" e instanciando em uma nova variável\n",
        "df_tratado = novo_df.iloc[:, 1:]\n",
        "\n",
        "# visualizando o \"df_tratado\"\n",
        "df_tratado"
      ],
      "execution_count": null,
      "outputs": [
        {
          "output_type": "execute_result",
          "data": {
            "text/html": [
              "<div>\n",
              "<style scoped>\n",
              "    .dataframe tbody tr th:only-of-type {\n",
              "        vertical-align: middle;\n",
              "    }\n",
              "\n",
              "    .dataframe tbody tr th {\n",
              "        vertical-align: top;\n",
              "    }\n",
              "\n",
              "    .dataframe thead th {\n",
              "        text-align: right;\n",
              "    }\n",
              "</style>\n",
              "<table border=\"1\" class=\"dataframe\">\n",
              "  <thead>\n",
              "    <tr style=\"text-align: right;\">\n",
              "      <th></th>\n",
              "      <th>altura</th>\n",
              "      <th>idade</th>\n",
              "      <th>matriculado</th>\n",
              "    </tr>\n",
              "  </thead>\n",
              "  <tbody>\n",
              "    <tr>\n",
              "      <th>0</th>\n",
              "      <td>1.80</td>\n",
              "      <td>29</td>\n",
              "      <td>Sim</td>\n",
              "    </tr>\n",
              "    <tr>\n",
              "      <th>1</th>\n",
              "      <td>1.79</td>\n",
              "      <td>24</td>\n",
              "      <td>Sim</td>\n",
              "    </tr>\n",
              "    <tr>\n",
              "      <th>2</th>\n",
              "      <td>1.76</td>\n",
              "      <td>30</td>\n",
              "      <td>Não</td>\n",
              "    </tr>\n",
              "    <tr>\n",
              "      <th>3</th>\n",
              "      <td>1.81</td>\n",
              "      <td>20</td>\n",
              "      <td>Sim</td>\n",
              "    </tr>\n",
              "    <tr>\n",
              "      <th>4</th>\n",
              "      <td>1.75</td>\n",
              "      <td>50</td>\n",
              "      <td>Não</td>\n",
              "    </tr>\n",
              "  </tbody>\n",
              "</table>\n",
              "</div>"
            ],
            "text/plain": [
              "   altura  idade matriculado\n",
              "0    1.80     29         Sim\n",
              "1    1.79     24         Sim\n",
              "2    1.76     30         Não\n",
              "3    1.81     20         Sim\n",
              "4    1.75     50         Não"
            ]
          },
          "metadata": {
            "tags": []
          },
          "execution_count": 53
        }
      ]
    },
    {
      "cell_type": "code",
      "metadata": {
        "colab": {
          "base_uri": "https://localhost:8080/"
        },
        "id": "ZpRQ9JB96DJQ",
        "outputId": "3dae37ef-612c-498c-9077-afb276f60394"
      },
      "source": [
        "# visualizando o tipo de dado presente em cada coluna\n",
        "# perceba que, na coluna \"matriculado\" o tipo de dado é uma \"string\"\n",
        "df_tratado.dtypes"
      ],
      "execution_count": null,
      "outputs": [
        {
          "output_type": "execute_result",
          "data": {
            "text/plain": [
              "altura         float64\n",
              "idade            Int64\n",
              "matriculado     string\n",
              "dtype: object"
            ]
          },
          "metadata": {
            "tags": []
          },
          "execution_count": 54
        }
      ]
    },
    {
      "cell_type": "code",
      "metadata": {
        "colab": {
          "base_uri": "https://localhost:8080/"
        },
        "id": "Ulk5hNeINnv7",
        "outputId": "446a1998-efda-46df-cdca-b4a469389692"
      },
      "source": [
        "# convertendo a variável categórica (da coluna \"matriculado\") para variável númerica\n",
        "# 0: Não\n",
        "# 1: Sim\n",
        "for col in df_tratado.select_dtypes(include='string').columns:\n",
        "  df_tratado[col] = df_tratado[col].astype('category')\n",
        "\n",
        "  # imprimindo o mapeamento\n",
        "  print(col, '\\t', dict(enumerate(df_tratado[col].cat.categories)), end='\\n\\n')\n",
        "\n",
        "  df_tratado[col] = df_tratado[col].cat.codes"
      ],
      "execution_count": null,
      "outputs": [
        {
          "output_type": "stream",
          "text": [
            "matriculado \t {0: 'Não', 1: 'Sim'}\n",
            "\n"
          ],
          "name": "stdout"
        }
      ]
    },
    {
      "cell_type": "code",
      "metadata": {
        "colab": {
          "base_uri": "https://localhost:8080/",
          "height": 204
        },
        "id": "tJ8xJSobNntT",
        "outputId": "8c037508-9b32-4864-c1f4-6fb9bb2deed7"
      },
      "source": [
        "# visualizando o \"df_tratado\" após a conversão da variável categórica para númerica\n",
        "df_tratado.head()"
      ],
      "execution_count": null,
      "outputs": [
        {
          "output_type": "execute_result",
          "data": {
            "text/html": [
              "<div>\n",
              "<style scoped>\n",
              "    .dataframe tbody tr th:only-of-type {\n",
              "        vertical-align: middle;\n",
              "    }\n",
              "\n",
              "    .dataframe tbody tr th {\n",
              "        vertical-align: top;\n",
              "    }\n",
              "\n",
              "    .dataframe thead th {\n",
              "        text-align: right;\n",
              "    }\n",
              "</style>\n",
              "<table border=\"1\" class=\"dataframe\">\n",
              "  <thead>\n",
              "    <tr style=\"text-align: right;\">\n",
              "      <th></th>\n",
              "      <th>altura</th>\n",
              "      <th>idade</th>\n",
              "      <th>matriculado</th>\n",
              "    </tr>\n",
              "  </thead>\n",
              "  <tbody>\n",
              "    <tr>\n",
              "      <th>0</th>\n",
              "      <td>1.80</td>\n",
              "      <td>29</td>\n",
              "      <td>1</td>\n",
              "    </tr>\n",
              "    <tr>\n",
              "      <th>1</th>\n",
              "      <td>1.79</td>\n",
              "      <td>24</td>\n",
              "      <td>1</td>\n",
              "    </tr>\n",
              "    <tr>\n",
              "      <th>2</th>\n",
              "      <td>1.76</td>\n",
              "      <td>30</td>\n",
              "      <td>0</td>\n",
              "    </tr>\n",
              "    <tr>\n",
              "      <th>3</th>\n",
              "      <td>1.81</td>\n",
              "      <td>20</td>\n",
              "      <td>1</td>\n",
              "    </tr>\n",
              "    <tr>\n",
              "      <th>4</th>\n",
              "      <td>1.75</td>\n",
              "      <td>50</td>\n",
              "      <td>0</td>\n",
              "    </tr>\n",
              "  </tbody>\n",
              "</table>\n",
              "</div>"
            ],
            "text/plain": [
              "   altura  idade  matriculado\n",
              "0    1.80     29            1\n",
              "1    1.79     24            1\n",
              "2    1.76     30            0\n",
              "3    1.81     20            1\n",
              "4    1.75     50            0"
            ]
          },
          "metadata": {
            "tags": []
          },
          "execution_count": 56
        }
      ]
    },
    {
      "cell_type": "code",
      "metadata": {
        "colab": {
          "base_uri": "https://localhost:8080/"
        },
        "id": "v5FtaP5oNnnp",
        "outputId": "1f6deaf9-fbb5-4321-e03f-e7f1d968cceb"
      },
      "source": [
        "# informações gerais do df\n",
        "df_tratado.info()"
      ],
      "execution_count": null,
      "outputs": [
        {
          "output_type": "stream",
          "text": [
            "<class 'pandas.core.frame.DataFrame'>\n",
            "RangeIndex: 5 entries, 0 to 4\n",
            "Data columns (total 3 columns):\n",
            " #   Column       Non-Null Count  Dtype  \n",
            "---  ------       --------------  -----  \n",
            " 0   altura       5 non-null      float64\n",
            " 1   idade        5 non-null      Int64  \n",
            " 2   matriculado  5 non-null      int8   \n",
            "dtypes: Int64(1), float64(1), int8(1)\n",
            "memory usage: 218.0 bytes\n"
          ],
          "name": "stdout"
        }
      ]
    },
    {
      "cell_type": "code",
      "metadata": {
        "id": "ct68AbrTNnkx",
        "colab": {
          "base_uri": "https://localhost:8080/"
        },
        "outputId": "68f8a02f-d92f-4000-fb5d-f58f11690c8f"
      },
      "source": [
        "# visualizando o tipo de dado em cada coluna\n",
        "df_tratado.dtypes"
      ],
      "execution_count": null,
      "outputs": [
        {
          "output_type": "execute_result",
          "data": {
            "text/plain": [
              "altura         float64\n",
              "idade            Int64\n",
              "matriculado       int8\n",
              "dtype: object"
            ]
          },
          "metadata": {
            "tags": []
          },
          "execution_count": 58
        }
      ]
    },
    {
      "cell_type": "code",
      "metadata": {
        "id": "qw3KFSylNniC"
      },
      "source": [
        ""
      ],
      "execution_count": null,
      "outputs": []
    },
    {
      "cell_type": "code",
      "metadata": {
        "id": "tQ6hUkhHJOGv",
        "colab": {
          "base_uri": "https://localhost:8080/"
        },
        "outputId": "6f4371be-3e56-4bdc-8f41-aac8f89f5e6a"
      },
      "source": [
        "!pip install r-cran"
      ],
      "execution_count": null,
      "outputs": [
        {
          "output_type": "stream",
          "text": [
            "\u001b[31mERROR: Could not find a version that satisfies the requirement r-cran (from versions: none)\u001b[0m\n",
            "\u001b[31mERROR: No matching distribution found for r-cran\u001b[0m\n"
          ],
          "name": "stdout"
        }
      ]
    },
    {
      "cell_type": "code",
      "metadata": {
        "id": "mj_PYKC_JODj"
      },
      "source": [
        ""
      ],
      "execution_count": null,
      "outputs": []
    },
    {
      "cell_type": "code",
      "metadata": {
        "id": "-Xo3ujFCJOAo"
      },
      "source": [
        ""
      ],
      "execution_count": null,
      "outputs": []
    }
  ]
}