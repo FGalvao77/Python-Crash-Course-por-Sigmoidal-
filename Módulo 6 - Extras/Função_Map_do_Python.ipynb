{
  "nbformat": 4,
  "nbformat_minor": 0,
  "metadata": {
    "colab": {
      "name": "Função Map do Python.ipynb",
      "provenance": [],
      "collapsed_sections": []
    },
    "kernelspec": {
      "name": "python3",
      "display_name": "Python 3"
    },
    "language_info": {
      "name": "python"
    }
  },
  "cells": [
    {
      "cell_type": "markdown",
      "metadata": {
        "id": "VeNzGbpfaCCL"
      },
      "source": [
        "## Como usar a função Map do Python\n",
        "\n",
        "  - https://www.digitalocean.com/community/tutorials/how-to-use-the-python-map-function-pt"
      ]
    },
    {
      "cell_type": "code",
      "metadata": {
        "colab": {
          "base_uri": "https://localhost:8080/"
        },
        "id": "rIFuCzKSZrgw",
        "outputId": "9b1b3ee0-6484-4fee-d8c2-e08c0f0aed02"
      },
      "source": [
        "# mapeando cada item com a função \"map\" e, imprimindo separado por vírgula\n",
        "def tips_digit(n):\n",
        "  return list(map(int, str(n)))\n",
        "\n",
        "print(tips_digit(2468))"
      ],
      "execution_count": 1,
      "outputs": [
        {
          "output_type": "stream",
          "text": [
            "[2, 4, 6, 8]\n"
          ],
          "name": "stdout"
        }
      ]
    },
    {
      "cell_type": "code",
      "metadata": {
        "colab": {
          "base_uri": "https://localhost:8080/"
        },
        "id": "lA6aZuaAaNTG",
        "outputId": "8021365b-5b75-4e01-dd03-e052a506377b"
      },
      "source": [
        "# também é possivel realizar com \"strings\"\n",
        "def tips_letters(n):\n",
        "  return list(map(str, str(n)))\n",
        "\n",
        "print(tips_letters('Fernando Galvão'))"
      ],
      "execution_count": 2,
      "outputs": [
        {
          "output_type": "stream",
          "text": [
            "['F', 'e', 'r', 'n', 'a', 'n', 'd', 'o', ' ', 'G', 'a', 'l', 'v', 'ã', 'o']\n"
          ],
          "name": "stdout"
        }
      ]
    },
    {
      "cell_type": "code",
      "metadata": {
        "colab": {
          "base_uri": "https://localhost:8080/"
        },
        "id": "fU6JcGSZaNQQ",
        "outputId": "c4b536ea-9a14-4e37-c87d-84172262d521"
      },
      "source": [
        "# podemos também mapear de uma variável\n",
        "fullName = 'Kátia Galvão'\n",
        "\n",
        "def tips_letters(n):\n",
        "  return list(map(str, str(n)))\n",
        "\n",
        "print(tips_letters(fullName))"
      ],
      "execution_count": 3,
      "outputs": [
        {
          "output_type": "stream",
          "text": [
            "['K', 'á', 't', 'i', 'a', ' ', 'G', 'a', 'l', 'v', 'ã', 'o']\n"
          ],
          "name": "stdout"
        }
      ]
    },
    {
      "cell_type": "code",
      "metadata": {
        "id": "7UlIj4T2aNN-"
      },
      "source": [
        "firstName = input(str('Digite o seu nome: ')).upper()\n",
        "lastName = input(str('Digite o seu sobrenome: ')).upper()\n",
        "fullName = firstName + ' ' + lastName\n",
        "# fullName"
      ],
      "execution_count": null,
      "outputs": []
    },
    {
      "cell_type": "code",
      "metadata": {
        "id": "YwGnBPlYaNLK"
      },
      "source": [
        "def tips_letters(n):\n",
        "  return tuple(map(str, str(n)))\n",
        "\n",
        "print(tips_letters(fullName))"
      ],
      "execution_count": null,
      "outputs": []
    }
  ]
}