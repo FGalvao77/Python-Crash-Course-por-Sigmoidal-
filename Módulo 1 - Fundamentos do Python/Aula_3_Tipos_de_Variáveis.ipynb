{
  "nbformat": 4,
  "nbformat_minor": 0,
  "metadata": {
    "colab": {
      "name": "Aula_3_Tipos_de_Variáveis.ipynb",
      "provenance": [],
      "collapsed_sections": []
    },
    "kernelspec": {
      "name": "python3",
      "display_name": "Python 3"
    }
  },
  "cells": [
    {
      "cell_type": "markdown",
      "metadata": {
        "id": "m3Xn_3hAFRmx"
      },
      "source": [
        "# Variáveis em Python\n",
        "\n",
        "Em Python, podemos associar valores a variáveis, para que sejam armazenados e facilmente acessados ao longo do seu código.\n",
        "\n",
        "Pense na variável como um \"nome\" para o objeto que estamos manipulando.\n",
        "\n",
        "Diferente de outras linguagens, as variáveis não precisam ser definidas anteriormente, podemos criá-las no momento da associação\n",
        "\n",
        "Para associarmos um valor a uma variáveis, basta usar o operador que indica associação `=`. \n"
      ]
    },
    {
      "cell_type": "code",
      "metadata": {
        "id": "fX7onpEQHcCk"
      },
      "source": [
        "x = 300"
      ],
      "execution_count": null,
      "outputs": []
    },
    {
      "cell_type": "markdown",
      "metadata": {
        "id": "YFg9LSbqHjjE"
      },
      "source": [
        "Após associarmos o valor 300 à variável `x`, podemos acessá-la utilizando a mesma, ou mesmo a função `print`."
      ]
    },
    {
      "cell_type": "code",
      "metadata": {
        "id": "M2LFABc3Hb_y"
      },
      "source": [
        "# chamando a variável diretamente\n",
        "x"
      ],
      "execution_count": null,
      "outputs": []
    },
    {
      "cell_type": "code",
      "metadata": {
        "id": "4aYbvdJzGJxR"
      },
      "source": [
        "# imprimindo a variável com print\n",
        "print(x)"
      ],
      "execution_count": null,
      "outputs": []
    },
    {
      "cell_type": "markdown",
      "metadata": {
        "id": "Unb_PdTxIVNR"
      },
      "source": [
        "Também podemos associar um novo valor a essa variável, para que a partir desse momento, ela assuma um novo valor."
      ]
    },
    {
      "cell_type": "code",
      "metadata": {
        "id": "YSClLFSAH3Ca"
      },
      "source": [
        "print(\"Valor inicial:\", x)\n",
        "\n",
        "# atribuir novo valor\n",
        "x = 100\n",
        "\n",
        "print(\"Valor novo:\", x)"
      ],
      "execution_count": null,
      "outputs": []
    },
    {
      "cell_type": "markdown",
      "metadata": {
        "id": "v2YuHg1iJlYS"
      },
      "source": [
        "## Tipos de Variáveis\n",
        "\n",
        "Além de utilizarmos `integers`, ou inteiros, podemos usar outros tipos de variáveis como `strings`, ou `floats`.\n",
        "\n",
        "Vamos ver na prática como isso fucniona."
      ]
    },
    {
      "cell_type": "markdown",
      "metadata": {
        "id": "82Dw7isSKSnG"
      },
      "source": [
        "### Integers\n",
        "Para utilizar inteiros, basta criar a variável como tal, sem valores decimais."
      ]
    },
    {
      "cell_type": "code",
      "metadata": {
        "id": "zX3CRTx6IfLV"
      },
      "source": [
        "# integers\n",
        "x = 50\n",
        "print(x)"
      ],
      "execution_count": null,
      "outputs": []
    },
    {
      "cell_type": "markdown",
      "metadata": {
        "id": "eF8QT6OFKdBF"
      },
      "source": [
        "### Floats\n",
        "Ao utilizar Floats, precisamos ter cuidado com uma detalhe. A vírgula, em Python, serve pra enumeração, e não para casas decimais.\n",
        "\n",
        "Para definir casas decimais, vamos utilizar o ponto `.`\n",
        "\n",
        "Para criar um float, basta associar à variável um número que possua casa decimal."
      ]
    },
    {
      "cell_type": "code",
      "metadata": {
        "id": "A7QseAg_J_vV"
      },
      "source": [
        "# float\n",
        "x = 25.0\n",
        "print(x)"
      ],
      "execution_count": null,
      "outputs": []
    },
    {
      "cell_type": "markdown",
      "metadata": {
        "id": "T1gTB698LGfN"
      },
      "source": [
        "### Strings\n",
        "Strings são nossa linguagem natural, utilizando caracteres e palavras.\n",
        "\n",
        "Para criar strings, precisamos colocar nosso conteúdo entre parênteses."
      ]
    },
    {
      "cell_type": "code",
      "metadata": {
        "id": "G_iJjopFKEDO"
      },
      "source": [
        "# string\n",
        "x = \"Data Science é a profissão mais sexy do mundo.\"\n",
        "print(x)"
      ],
      "execution_count": null,
      "outputs": []
    },
    {
      "cell_type": "markdown",
      "metadata": {
        "id": "WAbnkHfPLxNc"
      },
      "source": [
        "## Verificando o Tipo da Variável\n",
        "\n",
        "É claro que você vai sempre criar as variáveis da forma desejada, e seguindo os padrões para não encontrar erros ou problemas no seu código.\n",
        "\n",
        "Entretanto, não é incomum encontrarmos, por exemplo, números que estão em formato string, e por isso, se comportarão como tal, não permitindo operações matemáticas, por exemplo.\n",
        "\n",
        "Para que possamos descobrir o tipo das nossas variáveis, temos a função `type`."
      ]
    },
    {
      "cell_type": "code",
      "metadata": {
        "id": "u8kfv_-LKJTN"
      },
      "source": [
        "# imprimindo a variável\n",
        "x = 100.0\n",
        "print(x)\n",
        "\n",
        "# verificando o tipo\n",
        "type(x)"
      ],
      "execution_count": null,
      "outputs": []
    },
    {
      "cell_type": "markdown",
      "metadata": {
        "id": "2yKM4SuiMlSK"
      },
      "source": [
        "### Criando Variáveis a Partir de Variáveis\n",
        "\n",
        "Também podemos criar cópias das variáveis, associando novas variáveis a ela.\n",
        "\n",
        "Isso nos permite explorar a variável sem alterar a original."
      ]
    },
    {
      "cell_type": "code",
      "metadata": {
        "id": "aZiPLduUMWft"
      },
      "source": [
        "# criando uma variável através da variável original\n",
        "print(\"Variável x: \", x)\n",
        "\n",
        "y = x\n",
        "\n",
        "print(\"Variável y: \", y)"
      ],
      "execution_count": null,
      "outputs": []
    },
    {
      "cell_type": "markdown",
      "metadata": {
        "id": "Qn61cCs7WrNn"
      },
      "source": [
        "Podemos fazer isso com qualquer tipo de variável.\n",
        "\n",
        "Também podemos criar a nova variável a partir de uma operação feita com a variável original."
      ]
    },
    {
      "cell_type": "code",
      "metadata": {
        "id": "lCeGxQJQWoWV"
      },
      "source": [
        "# criando uma nova variável com operações\n",
        "x = 10\n",
        "\n",
        "y = x * 10\n",
        "\n",
        "print(y)"
      ],
      "execution_count": null,
      "outputs": []
    },
    {
      "cell_type": "markdown",
      "metadata": {
        "id": "EnPGkyAjZCeX"
      },
      "source": [
        "É importante entender que o relacionamento entre as duas acaba no momento da associação. \n",
        "\n",
        "Após isso, elas funcionam independentes uma da outra, portanto, alterações feitas em uma não afetam a outra."
      ]
    },
    {
      "cell_type": "code",
      "metadata": {
        "id": "Vcs6V2RJXYOy"
      },
      "source": [
        "# criando as variáveis\n",
        "print('Criando as Variáveis')\n",
        "x = 10\n",
        "\n",
        "y = x\n",
        "# resultado\n",
        "print('x:', x)\n",
        "print('y:', y)\n",
        "\n",
        "\n",
        "print('\\nTransformação x = y + 10')\n",
        "x = y + 10\n",
        "# resultado\n",
        "print ('Novo x:', x)\n",
        "print ('y:', y)\n",
        "\n",
        "\n",
        "print('\\nTransformação y = y/2')\n",
        "y = y/2\n",
        "\n",
        "# resultado\n",
        "print('x:', x)\n",
        "print('Novo y:', y)"
      ],
      "execution_count": null,
      "outputs": []
    },
    {
      "cell_type": "markdown",
      "metadata": {
        "id": "S-6iuoT3aPsx"
      },
      "source": [
        "## Exercícios\n",
        "\n",
        "Agora, vamos testar nosso conhecimento sobre as variáveis."
      ]
    },
    {
      "cell_type": "markdown",
      "metadata": {
        "id": "lExb7DuqaaJK"
      },
      "source": [
        "#### Exercício 1\n",
        "\n",
        "Crie uma variável do tipo `integer`, chamada x, e associe a ela sua idade."
      ]
    },
    {
      "cell_type": "code",
      "metadata": {
        "id": "IXoyJX5jZrKK",
        "colab": {
          "base_uri": "https://localhost:8080/"
        },
        "outputId": "ea375bd8-9b56-4b0d-c091-fc25226b1213"
      },
      "source": [
        "# resposta\n",
        "x = 43\n",
        "print('Idade:', x)"
      ],
      "execution_count": 1,
      "outputs": [
        {
          "output_type": "stream",
          "text": [
            "Idade: 43\n"
          ],
          "name": "stdout"
        }
      ]
    },
    {
      "cell_type": "code",
      "metadata": {
        "id": "HqyCczwUahSH"
      },
      "source": [
        "#@title Solução\n",
        "x = 36"
      ],
      "execution_count": 2,
      "outputs": []
    },
    {
      "cell_type": "markdown",
      "metadata": {
        "id": "RpC7_U1MavAS"
      },
      "source": [
        "#### Exercício 2\n",
        "\n",
        "Crie uma variável do tipo `float`, chamada y, e associe a ela o preço de uma barra de chocolate."
      ]
    },
    {
      "cell_type": "code",
      "metadata": {
        "id": "7w2Ldng8ar3p",
        "colab": {
          "base_uri": "https://localhost:8080/"
        },
        "outputId": "031a4cf2-73b0-46b6-a3b2-897c224b871d"
      },
      "source": [
        "# resposta\n",
        "y = 3.14\n",
        "type(y)"
      ],
      "execution_count": 3,
      "outputs": [
        {
          "output_type": "execute_result",
          "data": {
            "text/plain": [
              "float"
            ]
          },
          "metadata": {
            "tags": []
          },
          "execution_count": 3
        }
      ]
    },
    {
      "cell_type": "code",
      "metadata": {
        "id": "3tk87CuPbJgu"
      },
      "source": [
        "#@title Solução\n",
        "y = 2.99"
      ],
      "execution_count": 4,
      "outputs": []
    },
    {
      "cell_type": "markdown",
      "metadata": {
        "id": "sNmW-QU5bPpc"
      },
      "source": [
        "#### Exercício 3\n",
        "Crie uma variável do tipo `string`, chamada `nome` e associe a ela o seu nome."
      ]
    },
    {
      "cell_type": "code",
      "metadata": {
        "id": "qK_VecttbOVF",
        "colab": {
          "base_uri": "https://localhost:8080/"
        },
        "outputId": "c2380d42-5e64-4343-8de2-8a4189a43329"
      },
      "source": [
        "# resposta\n",
        "nome = 'Fernando'\n",
        "type(nome)"
      ],
      "execution_count": 18,
      "outputs": [
        {
          "output_type": "execute_result",
          "data": {
            "text/plain": [
              "str"
            ]
          },
          "metadata": {
            "tags": []
          },
          "execution_count": 18
        }
      ]
    },
    {
      "cell_type": "code",
      "metadata": {
        "id": "k95BQlXwbX2T",
        "cellView": "form"
      },
      "source": [
        "#@title Solução\n",
        "nome = \"Sigmoidal \""
      ],
      "execution_count": null,
      "outputs": []
    },
    {
      "cell_type": "markdown",
      "metadata": {
        "id": "sUWYLpJIcInn"
      },
      "source": [
        "#### Exercício 4\n",
        "\n",
        "Verifique o tipo das variáveis `x`, `y`, `nome`.\n",
        "\n",
        "Dica: A função print vai ajudar a fazer tudo em uma célula só."
      ]
    },
    {
      "cell_type": "code",
      "metadata": {
        "id": "_sEEXdzpbi5o",
        "colab": {
          "base_uri": "https://localhost:8080/"
        },
        "outputId": "ddbd568b-dff3-49c9-a698-c939867fa667"
      },
      "source": [
        "# resultado\n",
        "print('x:', type(x))\n",
        "print('y:', type(y))\n",
        "print('nome:', type(nome))"
      ],
      "execution_count": 8,
      "outputs": [
        {
          "output_type": "stream",
          "text": [
            "x: <class 'int'>\n",
            "y: <class 'float'>\n",
            "nome: <class 'str'>\n"
          ],
          "name": "stdout"
        }
      ]
    },
    {
      "cell_type": "code",
      "metadata": {
        "id": "PWDlgK9Jcz5J",
        "cellView": "form",
        "colab": {
          "base_uri": "https://localhost:8080/"
        },
        "outputId": "21a0d10b-1c01-47b0-88b3-5b3b78676b16"
      },
      "source": [
        "#@title Solução\n",
        "print('x:', type(x))\n",
        "print('y:', type(y))\n",
        "print('nome:', type(nome))"
      ],
      "execution_count": 7,
      "outputs": [
        {
          "output_type": "stream",
          "text": [
            "x: <class 'int'>\n",
            "y: <class 'float'>\n",
            "nome: <class 'str'>\n"
          ],
          "name": "stdout"
        }
      ]
    },
    {
      "cell_type": "markdown",
      "metadata": {
        "id": "B6U739zPdHLN"
      },
      "source": [
        "#### Exercício 5\n",
        "\n",
        "Crie uma variável que seja que calcule o ano em que você nasceu, utilizando operadores matemáticos e sua variável `x`."
      ]
    },
    {
      "cell_type": "code",
      "metadata": {
        "id": "Rt7ssCKGc754",
        "colab": {
          "base_uri": "https://localhost:8080/"
        },
        "outputId": "71d6d424-2875-4f8a-a801-66a5b9af1114"
      },
      "source": [
        "# resultado\n",
        "idade = 44\n",
        "ano_atual = 2021\n",
        "x = ano_atual - idade\n",
        "print('Você nasceu no ano de', x)"
      ],
      "execution_count": 10,
      "outputs": [
        {
          "output_type": "stream",
          "text": [
            "Você nasceu no ano de 1977\n"
          ],
          "name": "stdout"
        }
      ]
    },
    {
      "cell_type": "code",
      "metadata": {
        "id": "2lG8xjrCdXyS",
        "cellView": "form",
        "colab": {
          "base_uri": "https://localhost:8080/"
        },
        "outputId": "a8114f8d-f596-4612-9f68-96be9892e8d4"
      },
      "source": [
        "#@title Solução\n",
        "x = 2020 - x\n",
        "print(x)"
      ],
      "execution_count": 11,
      "outputs": [
        {
          "output_type": "stream",
          "text": [
            "43\n"
          ],
          "name": "stdout"
        }
      ]
    },
    {
      "cell_type": "markdown",
      "metadata": {
        "id": "cpjLvuX0do0e"
      },
      "source": [
        "### Exercício 6\n",
        "\n",
        "Crie uma variável para o preço de 3 barras de chocolate, usando a variável `y`."
      ]
    },
    {
      "cell_type": "code",
      "metadata": {
        "id": "I2Qa6YsXdg-n",
        "colab": {
          "base_uri": "https://localhost:8080/"
        },
        "outputId": "3c129748-86ff-4273-f31f-b3d3de4fdc57"
      },
      "source": [
        "# resultado\n",
        "barras_chocolote = 3 * y\n",
        "barras_chocolote"
      ],
      "execution_count": 13,
      "outputs": [
        {
          "output_type": "execute_result",
          "data": {
            "text/plain": [
              "8.97"
            ]
          },
          "metadata": {
            "tags": []
          },
          "execution_count": 13
        }
      ]
    },
    {
      "cell_type": "code",
      "metadata": {
        "id": "ModGVCTydxRv",
        "colab": {
          "base_uri": "https://localhost:8080/"
        },
        "outputId": "a13f5973-2e1e-4fa2-a031-adcfd2b5f598"
      },
      "source": [
        "#@title Solução\n",
        "y = y * 3\n",
        "print(y)"
      ],
      "execution_count": 14,
      "outputs": [
        {
          "output_type": "stream",
          "text": [
            "8.97\n"
          ],
          "name": "stdout"
        }
      ]
    },
    {
      "cell_type": "markdown",
      "metadata": {
        "id": "aZs_vY3Cd4fK"
      },
      "source": [
        "### Exercício 7\n",
        "Crie uma variável que contenha o seu nome 10 vezes, utilizando a variável `nome`."
      ]
    },
    {
      "cell_type": "code",
      "metadata": {
        "id": "q84wpuDzd1XL",
        "colab": {
          "base_uri": "https://localhost:8080/",
          "height": 35
        },
        "outputId": "2304d79b-1c03-466e-e07b-f71aba646fd0"
      },
      "source": [
        "# resultado\n",
        "nome = nome * 10\n",
        "nome"
      ],
      "execution_count": 19,
      "outputs": [
        {
          "output_type": "execute_result",
          "data": {
            "application/vnd.google.colaboratory.intrinsic+json": {
              "type": "string"
            },
            "text/plain": [
              "'FernandoFernandoFernandoFernandoFernandoFernandoFernandoFernandoFernandoFernando'"
            ]
          },
          "metadata": {
            "tags": []
          },
          "execution_count": 19
        }
      ]
    },
    {
      "cell_type": "code",
      "metadata": {
        "id": "rIniv6jMeCrV",
        "colab": {
          "base_uri": "https://localhost:8080/"
        },
        "outputId": "f2196a7a-6f54-46f8-a550-931025558804"
      },
      "source": [
        "#@title Solução\n",
        "nome = nome * 10\n",
        "print(nome)"
      ],
      "execution_count": 16,
      "outputs": [
        {
          "output_type": "stream",
          "text": [
            "FernandoFernandoFernandoFernandoFernandoFernandoFernandoFernandoFernandoFernando\n"
          ],
          "name": "stdout"
        }
      ]
    },
    {
      "cell_type": "markdown",
      "metadata": {
        "id": "UiAewuQhPveK"
      },
      "source": [
        "**Referências**\n",
        "\n",
        "- Notebook usado na aula\n",
        " - https://colab.research.google.com/drive/1gilKoTrzsQ2Y8L0U-aXtWQcaAfRFDOOQ?usp=sharing\n",
        "\n",
        "- Variables in Python (Real Python blog)\n",
        " - https://realpython.com/python-variables/\n",
        "\n",
        "- Basic Data Types in Python (Real Python blog)\n",
        " - https://realpython.com/python-data-types/"
      ]
    },
    {
      "cell_type": "code",
      "metadata": {
        "id": "cEWTrH0yeGVa"
      },
      "source": [
        ""
      ],
      "execution_count": null,
      "outputs": []
    }
  ]
}