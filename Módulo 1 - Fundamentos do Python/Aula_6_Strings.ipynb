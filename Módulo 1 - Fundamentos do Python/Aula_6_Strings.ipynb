{
  "nbformat": 4,
  "nbformat_minor": 0,
  "metadata": {
    "colab": {
      "name": "Strings",
      "provenance": [],
      "collapsed_sections": []
    },
    "kernelspec": {
      "name": "python3",
      "display_name": "Python 3"
    }
  },
  "cells": [
    {
      "cell_type": "markdown",
      "metadata": {
        "id": "CkHnujC02HJh",
        "colab_type": "text"
      },
      "source": [
        "# Strings\n",
        "\n",
        "Nesta aula conheceremos as *strings*, que são uma sequência de caracteres como números, letras e símbolos.\n",
        "\n",
        "## Strings\n",
        "\n",
        "Strings são caracteres declarados entre aspas (simples ou duplas), sendo que esses caracteres podem ser símbolos, números ou letras.\n",
        "\n",
        "Operações ou manipulações de *strings* são muito comuns, e com frequência você irá precisar trabalhá-las em seus projetos de *Data Science*. Vale ressaltar que o Python mostra o tipo *string* como sendo `str`:"
      ]
    },
    {
      "cell_type": "code",
      "metadata": {
        "id": "AB9azh_H3Hkl",
        "colab_type": "code",
        "colab": {
          "base_uri": "https://localhost:8080/",
          "height": 35
        },
        "outputId": "13a3cb82-dd6e-4bff-b0ee-59c6706adb3e"
      },
      "source": [
        "type(\"Carlos Melo\")"
      ],
      "execution_count": 1,
      "outputs": [
        {
          "output_type": "execute_result",
          "data": {
            "text/plain": [
              "str"
            ]
          },
          "metadata": {
            "tags": []
          },
          "execution_count": 1
        }
      ]
    },
    {
      "cell_type": "markdown",
      "metadata": {
        "id": "uWZ8wBre3Jk_",
        "colab_type": "text"
      },
      "source": [
        "Para imprimir *strings*, eu informo as mesmas dentro da função `print()`."
      ]
    },
    {
      "cell_type": "code",
      "metadata": {
        "id": "i7fXHlKz3vS6",
        "colab_type": "code",
        "outputId": "d2ba2786-39fa-4e4b-fc2d-0f2b64b18721",
        "colab": {
          "base_uri": "https://localhost:8080/",
          "height": 71
        }
      },
      "source": [
        "nome = \"Carlos\"\n",
        "sobrenome = \"Melo\"\n",
        "sufixo = \"Junior\"\n",
        "profissao = \"Piloto\"\n",
        "\n",
        "# imprimir nome completo\n",
        "print(\"Nome completo:\")\n",
        "print(nome, sobrenome, sufixo)\n",
        "\n",
        "# imprimir profissão\n",
        "print(\"Sua profissão é\", profissao + \".\")"
      ],
      "execution_count": 2,
      "outputs": [
        {
          "output_type": "stream",
          "text": [
            "Nome completo:\n",
            "Carlos Melo Junior\n",
            "Sua profissão é Piloto.\n"
          ],
          "name": "stdout"
        }
      ]
    },
    {
      "cell_type": "markdown",
      "metadata": {
        "id": "YP3MDpvp4BUO",
        "colab_type": "text"
      },
      "source": [
        "É possível acessar os caracteres individuais dentro de uma *string*. Para isso, basta informar a posição desejada entre colchetes.\n",
        "\n",
        "**Lembre-se sempre que a linguagem Python (assim como a maioria) começa com uma indexação em 0.** Veja como as posições da *string* `Carlos` estão distribuidas:\n",
        "\n",
        "| **0** | **1** | **2** | **3** | **4** | **5** |\n",
        "|:-----:|:-----:|:-----:|:-----:|:-----:|:-----:|\n",
        "| C     | a     | r     | l     | o     | s     |\n",
        "\n",
        "Uma dica, para acessar a última letra de uma *string* é só colocar `[-1]` ao final da mesma.\n"
      ]
    },
    {
      "cell_type": "code",
      "metadata": {
        "id": "SomdfCeS5G_-",
        "colab_type": "code",
        "outputId": "5692b348-5521-4fad-bdb6-e7f7dc134670",
        "colab": {
          "base_uri": "https://localhost:8080/",
          "height": 35
        }
      },
      "source": [
        "nome = \"Carlos\"\n",
        "\n",
        "# ver qual é a primeira letra da variável `nome`\n",
        "nome[0]"
      ],
      "execution_count": 3,
      "outputs": [
        {
          "output_type": "execute_result",
          "data": {
            "text/plain": [
              "'C'"
            ]
          },
          "metadata": {
            "tags": []
          },
          "execution_count": 3
        }
      ]
    },
    {
      "cell_type": "code",
      "metadata": {
        "id": "1GLcSOmw5Tnc",
        "colab_type": "code",
        "outputId": "b5c7bf5a-c869-4a3e-faa3-573658729165",
        "colab": {
          "base_uri": "https://localhost:8080/",
          "height": 35
        }
      },
      "source": [
        "# ver qual a última letra da variável `nome`\n",
        "nome[-1]"
      ],
      "execution_count": 7,
      "outputs": [
        {
          "output_type": "execute_result",
          "data": {
            "text/plain": [
              "'s'"
            ]
          },
          "metadata": {
            "tags": []
          },
          "execution_count": 7
        }
      ]
    },
    {
      "cell_type": "markdown",
      "metadata": {
        "id": "uBz-T_tk5nuV",
        "colab_type": "text"
      },
      "source": [
        "### Função  `len()`\n",
        "\n",
        "\n",
        "Para saber o tamanho de uma *string*, existe no Python uma função chamada `len()`, que irá sempre retornar um valor do tipo inteiro (`int`). Usá-la é muito simples e direto:"
      ]
    },
    {
      "cell_type": "code",
      "metadata": {
        "id": "QWjKTNXG6B-1",
        "colab_type": "code",
        "outputId": "c9b0ee0e-d5be-47c8-fe30-998b84941a61",
        "colab": {
          "base_uri": "https://localhost:8080/",
          "height": 35
        }
      },
      "source": [
        "# verificar o tamanho da sequência de um DNA\n",
        "dna = 'ATGCGGACCTAT'\n",
        "\n",
        "len(dna)"
      ],
      "execution_count": 8,
      "outputs": [
        {
          "output_type": "execute_result",
          "data": {
            "text/plain": [
              "12"
            ]
          },
          "metadata": {
            "tags": []
          },
          "execution_count": 8
        }
      ]
    },
    {
      "cell_type": "markdown",
      "metadata": {
        "id": "8_8c7E5pM4_D",
        "colab_type": "text"
      },
      "source": [
        "### Função `split()`\n",
        "\n",
        "A função `split()` serve para você separar *strings* baseando-se em um delimitador. Por exemplo, a variável nome da célula abaixo contém 3 nomes separados por vírgulas.\n",
        "\n",
        "Para eu extrair esses nomes, basta eu executar `nomes.split(',')`, e o Python vai me retornar uma lista com 3 itens.\n",
        "\n",
        "Não se preocupe. O conceito de listas será abordado mais para frente!"
      ]
    },
    {
      "cell_type": "code",
      "metadata": {
        "id": "cHMzFgI1NKD4",
        "colab_type": "code",
        "outputId": "535b8878-f7ba-41fe-cf73-e04065360bbb",
        "colab": {
          "base_uri": "https://localhost:8080/",
          "height": 35
        }
      },
      "source": [
        "nomes = \"Carlos,Fernanda,Theo\"\n",
        "\n",
        "nomes.split(\",\")"
      ],
      "execution_count": 15,
      "outputs": [
        {
          "output_type": "execute_result",
          "data": {
            "text/plain": [
              "['Carlos', 'Fernanda', 'Theo']"
            ]
          },
          "metadata": {
            "tags": []
          },
          "execution_count": 15
        }
      ]
    },
    {
      "cell_type": "markdown",
      "metadata": {
        "id": "AznUPY6GN2Ef",
        "colab_type": "text"
      },
      "source": [
        "### Função `replace()`\n",
        "\n",
        "Como o nome já diz, ela serve para substituir caracteres dentro de uma string.\n",
        "\n",
        "Imagine a situação que você importa uma tabela sua do Excel, e os valores monetários estão no sistema brasileiro,ou seja, as casas decimais estão separadas por vírgulas.\n",
        "\n",
        "Se eu quiser converter uma string do tipo `9,50` em um valor numérico, eu tenho que substituir a vírgula pelo ponto:"
      ]
    },
    {
      "cell_type": "code",
      "metadata": {
        "id": "hnan1bvbN6gu",
        "colab_type": "code",
        "colab": {}
      },
      "source": [
        "valor = \"9,50\""
      ],
      "execution_count": 0,
      "outputs": []
    },
    {
      "cell_type": "code",
      "metadata": {
        "id": "jl4aiAkcOx3q",
        "colab_type": "code",
        "outputId": "68d9b7a1-7c72-4e05-918d-6fb03795376b",
        "colab": {
          "base_uri": "https://localhost:8080/",
          "height": 35
        }
      },
      "source": [
        "float(valor.replace(\",\", \".\"))"
      ],
      "execution_count": 20,
      "outputs": [
        {
          "output_type": "execute_result",
          "data": {
            "text/plain": [
              "9.5"
            ]
          },
          "metadata": {
            "tags": []
          },
          "execution_count": 20
        }
      ]
    },
    {
      "cell_type": "markdown",
      "metadata": {
        "id": "3DXl0egTPKUf",
        "colab_type": "text"
      },
      "source": [
        "### Função `strip()`\n",
        "\n",
        "Remove ou espaços em branco ou caracteres indesejados. Pode ser usada tanto para remover espaços em branco no começo e final de uma *string*, quanto para remover caracteres indesejados."
      ]
    },
    {
      "cell_type": "code",
      "metadata": {
        "id": "L3WNVdSHPcgR",
        "colab_type": "code",
        "outputId": "9dd0d9b8-8bc1-43ca-ce0f-46868eba1fbc",
        "colab": {
          "base_uri": "https://localhost:8080/",
          "height": 35
        }
      },
      "source": [
        "nome = \"     Carlos Melo     \"\n",
        "nome.strip()"
      ],
      "execution_count": 24,
      "outputs": [
        {
          "output_type": "execute_result",
          "data": {
            "text/plain": [
              "'Carlos Melo'"
            ]
          },
          "metadata": {
            "tags": []
          },
          "execution_count": 24
        }
      ]
    },
    {
      "cell_type": "markdown",
      "metadata": {
        "id": "K-NCdAuzPqCn",
        "colab_type": "text"
      },
      "source": [
        "Voltando ao exemplo que usei na função `replace()`, imagine que quando você importou seus dados eles virem da seguinte forma: `R$ 9,00`.\n",
        "\n",
        "Se você quiser converter para um número, precisa antes eliminar os caracteres `R$ `"
      ]
    },
    {
      "cell_type": "code",
      "metadata": {
        "id": "WTBVx1_MOxxK",
        "colab_type": "code",
        "colab": {
          "base_uri": "https://localhost:8080/",
          "height": 35
        },
        "outputId": "fd582244-1927-4c48-aff2-4ca30262291d"
      },
      "source": [
        "\"R$ 9,50\".strip('R$ ')"
      ],
      "execution_count": 25,
      "outputs": [
        {
          "output_type": "execute_result",
          "data": {
            "text/plain": [
              "'9,50'"
            ]
          },
          "metadata": {
            "tags": []
          },
          "execution_count": 25
        }
      ]
    },
    {
      "cell_type": "code",
      "metadata": {
        "id": "NNdcdLZaP-J4",
        "colab_type": "code",
        "colab": {
          "base_uri": "https://localhost:8080/",
          "height": 35
        },
        "outputId": "37f65e04-0667-4624-fad1-34a0b8959854"
      },
      "source": [
        "\"R$ 9,50\".strip('R$ ').replace(',', '.')"
      ],
      "execution_count": 26,
      "outputs": [
        {
          "output_type": "execute_result",
          "data": {
            "text/plain": [
              "'9.50'"
            ]
          },
          "metadata": {
            "tags": []
          },
          "execution_count": 26
        }
      ]
    },
    {
      "cell_type": "code",
      "metadata": {
        "id": "2PLQynBSQF-s",
        "colab_type": "code",
        "colab": {
          "base_uri": "https://localhost:8080/",
          "height": 35
        },
        "outputId": "907ee709-7486-47e7-fd9c-3a2017d0d617"
      },
      "source": [
        "float(\"R$ 9,50\".strip('R$ ').replace(',', '.'))"
      ],
      "execution_count": 27,
      "outputs": [
        {
          "output_type": "execute_result",
          "data": {
            "text/plain": [
              "9.5"
            ]
          },
          "metadata": {
            "tags": []
          },
          "execution_count": 27
        }
      ]
    },
    {
      "cell_type": "markdown",
      "metadata": {
        "id": "ySjn4_qerQuV",
        "colab_type": "text"
      },
      "source": [
        "### Slicing\n",
        "O Python nos permite \"cortar\" as nossas strings, técnica chamada de `slicing`.\n",
        "\n",
        "Como exemplo, vamos usar a variável abaixo"
      ]
    },
    {
      "cell_type": "code",
      "metadata": {
        "id": "T9zSl6dmsKDZ",
        "colab_type": "code",
        "colab": {}
      },
      "source": [
        "nome = 'Carlos'"
      ],
      "execution_count": 0,
      "outputs": []
    },
    {
      "cell_type": "markdown",
      "metadata": {
        "id": "yLgE_lmMsNr7",
        "colab_type": "text"
      },
      "source": [
        "Para fazer o slicing, nós chamamos a variável a ser \"fatiada\", e colocamos entre colchetes o index de início e fim, separados por `:`.\n",
        "\n",
        "Lembre-se que a indexação em Python começa no zero, portanto:\n",
        "* [0] - C\n",
        "* [1] - a\n",
        "* [2] - r\n",
        "* [3] - l\n",
        "* [4] - o\n",
        "* [5] - s\n",
        "\n",
        "Também é importante saber que a posição final não é incluída. Ou seja, se chamarmos o slicing da seguinte forma:\n",
        "\n",
        "nome[2:4]\n",
        "\n",
        "teríamos como retorno as letras\n",
        "* [2] - r\n",
        "* [3] - l\n",
        "\n",
        "pois a letra `o` na posição quatro, não é incluída no slicing."
      ]
    },
    {
      "cell_type": "code",
      "metadata": {
        "id": "DbmKmqFtsi2l",
        "colab_type": "code",
        "outputId": "f255ec59-cdec-4bb4-e8fd-165e8f2ccfc1",
        "colab": {
          "base_uri": "https://localhost:8080/",
          "height": 35
        }
      },
      "source": [
        "# slicing da variável `nome`\n",
        "nome[2:4]"
      ],
      "execution_count": 33,
      "outputs": [
        {
          "output_type": "execute_result",
          "data": {
            "text/plain": [
              "'rl'"
            ]
          },
          "metadata": {
            "tags": []
          },
          "execution_count": 33
        }
      ]
    },
    {
      "cell_type": "markdown",
      "metadata": {
        "id": "P4U-VPX_tVKe",
        "colab_type": "text"
      },
      "source": [
        "Também podemos omitir uma das variáveis, e isso fará que o slicing comece desde o primeiro index, e termine no último."
      ]
    },
    {
      "cell_type": "code",
      "metadata": {
        "id": "Wdayk44ctf_0",
        "colab_type": "code",
        "outputId": "8241bf80-7527-4fd9-c6c7-40963472cde8",
        "colab": {
          "base_uri": "https://localhost:8080/",
          "height": 35
        }
      },
      "source": [
        "# slicing do começo ao 4\n",
        "nome[:3]"
      ],
      "execution_count": 34,
      "outputs": [
        {
          "output_type": "execute_result",
          "data": {
            "text/plain": [
              "'Car'"
            ]
          },
          "metadata": {
            "tags": []
          },
          "execution_count": 34
        }
      ]
    },
    {
      "cell_type": "code",
      "metadata": {
        "id": "dyArnh5StjcO",
        "colab_type": "code",
        "outputId": "c0a91f70-7913-4a1b-8f5f-122a14ed3158",
        "colab": {
          "base_uri": "https://localhost:8080/",
          "height": 35
        }
      },
      "source": [
        "# slicing do 2 ao fim\n",
        "nome[2:]"
      ],
      "execution_count": 35,
      "outputs": [
        {
          "output_type": "execute_result",
          "data": {
            "text/plain": [
              "'rlos'"
            ]
          },
          "metadata": {
            "tags": []
          },
          "execution_count": 35
        }
      ]
    },
    {
      "cell_type": "markdown",
      "metadata": {
        "id": "STzIbrrHtupA",
        "colab_type": "text"
      },
      "source": [
        "Lembre-se que podemos adicionar as strings. Podemos fazer isso também usando slicing."
      ]
    },
    {
      "cell_type": "code",
      "metadata": {
        "id": "o-bJyr7Ft-tM",
        "colab_type": "code",
        "outputId": "da722c7a-2233-4d89-eb50-34e8d5045720",
        "colab": {
          "base_uri": "https://localhost:8080/",
          "height": 89
        }
      },
      "source": [
        "print('Nome Completo: ', nome)\n",
        "print('Primeira parte: ', nome[:3])\n",
        "print('Segunda parte: ', nome[3:])\n",
        "print('Nome feito adicionando Slices: ', nome[:3] + nome[3:])"
      ],
      "execution_count": 36,
      "outputs": [
        {
          "output_type": "stream",
          "text": [
            "Nome Completo:  Carlos\n",
            "Primeira parte:  Car\n",
            "Segunda parte:  los\n",
            "Nome feito adicionando Slices:  Carlos\n"
          ],
          "name": "stdout"
        }
      ]
    },
    {
      "cell_type": "markdown",
      "metadata": {
        "id": "k4iZsmTju0FS",
        "colab_type": "text"
      },
      "source": [
        "Ainda falando de slices, nós também podemos definir um *step*, ou um passo de intervalo, para que os caracteres sejam pulados.\n",
        "\n",
        "Vamos ver como isso funciona na prática."
      ]
    },
    {
      "cell_type": "code",
      "metadata": {
        "id": "6OkCSg7Bt-qS",
        "colab_type": "code",
        "colab": {}
      },
      "source": [
        "# criando a variável\n",
        "num = '123456789'\n"
      ],
      "execution_count": 0,
      "outputs": []
    },
    {
      "cell_type": "markdown",
      "metadata": {
        "id": "in6-LXikxWWv",
        "colab_type": "text"
      },
      "source": [
        "Como temos 27 caracteres, isso significa que nossos índices vão do 0 ao 26, totalizando 27.\n",
        "\n",
        "Podemos usar o slicing para mostrar apenas os números ímpares, por exemplo, basta acrescentar um dígito extra, que é o step.\n",
        "\n",
        "A sintaxe fica da seguinte forma:\n",
        "\n",
        "> variável[index_início, index_final, step]"
      ]
    },
    {
      "cell_type": "code",
      "metadata": {
        "id": "lJCBFto8t-mD",
        "colab_type": "code",
        "outputId": "4b0671d6-3cef-4386-8a09-4e476b0d7835",
        "colab": {
          "base_uri": "https://localhost:8080/",
          "height": 35
        }
      },
      "source": [
        "# slicing da variável num, começando do primeiro caractere, indo até o último, em step 2, ou seja\n",
        "# mostra um, pula um\n",
        "num[::2]"
      ],
      "execution_count": 51,
      "outputs": [
        {
          "output_type": "execute_result",
          "data": {
            "text/plain": [
              "'13579'"
            ]
          },
          "metadata": {
            "tags": []
          },
          "execution_count": 51
        }
      ]
    },
    {
      "cell_type": "code",
      "metadata": {
        "id": "riDXQdASt-h9",
        "colab_type": "code",
        "outputId": "d10f8b60-870a-4e82-fb7a-c0da25a27e35",
        "colab": {
          "base_uri": "https://localhost:8080/",
          "height": 35
        }
      },
      "source": [
        "# para visualizarmos os pares, basta começar da posição 2\n",
        "# aqui temos dois `:`, pois indicamos o início, até (:) o final (:) e step 2.\n",
        "num[1::2]"
      ],
      "execution_count": 52,
      "outputs": [
        {
          "output_type": "execute_result",
          "data": {
            "text/plain": [
              "'2468'"
            ]
          },
          "metadata": {
            "tags": []
          },
          "execution_count": 52
        }
      ]
    },
    {
      "cell_type": "markdown",
      "metadata": {
        "id": "3fSBvaT60k5Q",
        "colab_type": "text"
      },
      "source": [
        "### Convertendo Strings\n",
        "\n",
        "Por padrão, podemos usar o Python para converter as strings em maíusculas, minúsculas, etc.\n",
        "\n",
        "Esses processos são bastante úteis ao tratarmos dados em formato string."
      ]
    },
    {
      "cell_type": "code",
      "metadata": {
        "id": "CfQn2sOZ01UQ",
        "colab_type": "code",
        "colab": {}
      },
      "source": [
        "# criando a variável a ser manipulada\n",
        "nome = \"josé Santos da Silva\""
      ],
      "execution_count": 0,
      "outputs": []
    },
    {
      "cell_type": "markdown",
      "metadata": {
        "id": "t0XYyrvX090s",
        "colab_type": "text"
      },
      "source": [
        "#### capitalize()\n",
        "\n",
        "Essa função transforma o primeiro caractere em maiúsculo."
      ]
    },
    {
      "cell_type": "code",
      "metadata": {
        "id": "6yxD1ELg1Jha",
        "colab_type": "code",
        "outputId": "e8c7053d-78bc-4724-b6e4-11b75280e183",
        "colab": {
          "base_uri": "https://localhost:8080/",
          "height": 35
        }
      },
      "source": [
        "nome.capitalize()"
      ],
      "execution_count": 45,
      "outputs": [
        {
          "output_type": "execute_result",
          "data": {
            "text/plain": [
              "'José santos da silva'"
            ]
          },
          "metadata": {
            "tags": []
          },
          "execution_count": 45
        }
      ]
    },
    {
      "cell_type": "markdown",
      "metadata": {
        "id": "qcT6MGNM1NbB",
        "colab_type": "text"
      },
      "source": [
        "#### lower()\n",
        "Essa função transforma todos os caracteres em minúsculo."
      ]
    },
    {
      "cell_type": "code",
      "metadata": {
        "id": "DFVQ5WHd1T6G",
        "colab_type": "code",
        "outputId": "2d7d74ee-c189-4afd-fbe7-515e9a54987a",
        "colab": {
          "base_uri": "https://localhost:8080/",
          "height": 35
        }
      },
      "source": [
        "nome.lower()"
      ],
      "execution_count": 46,
      "outputs": [
        {
          "output_type": "execute_result",
          "data": {
            "text/plain": [
              "'josé santos da silva'"
            ]
          },
          "metadata": {
            "tags": []
          },
          "execution_count": 46
        }
      ]
    },
    {
      "cell_type": "markdown",
      "metadata": {
        "id": "UKhq2br-1Wbh",
        "colab_type": "text"
      },
      "source": [
        "#### upper()\n",
        "Para tornar todas maiúsculas, basta usar essa função."
      ]
    },
    {
      "cell_type": "code",
      "metadata": {
        "id": "VNXRV0Hi1f56",
        "colab_type": "code",
        "outputId": "966f989d-45b7-4ac9-9f2a-5af33d3c7a8e",
        "colab": {
          "base_uri": "https://localhost:8080/",
          "height": 35
        }
      },
      "source": [
        "nome.upper()"
      ],
      "execution_count": 47,
      "outputs": [
        {
          "output_type": "execute_result",
          "data": {
            "text/plain": [
              "'JOSÉ SANTOS DA SILVA'"
            ]
          },
          "metadata": {
            "tags": []
          },
          "execution_count": 47
        }
      ]
    },
    {
      "cell_type": "markdown",
      "metadata": {
        "id": "_u6ERCaH1ieJ",
        "colab_type": "text"
      },
      "source": [
        "#### title()\n",
        "Essa função transforma a primeira letra de cada palavra em maiúscula."
      ]
    },
    {
      "cell_type": "code",
      "metadata": {
        "id": "g0UGyX6Q1h1g",
        "colab_type": "code",
        "outputId": "b0f6a97f-871e-4880-8960-a6b48e1b55cb",
        "colab": {
          "base_uri": "https://localhost:8080/",
          "height": 35
        }
      },
      "source": [
        "nome.title()"
      ],
      "execution_count": 48,
      "outputs": [
        {
          "output_type": "execute_result",
          "data": {
            "text/plain": [
              "'José Santos Da Silva'"
            ]
          },
          "metadata": {
            "tags": []
          },
          "execution_count": 48
        }
      ]
    },
    {
      "cell_type": "markdown",
      "metadata": {
        "id": "yggT9_7N1ts6",
        "colab_type": "text"
      },
      "source": [
        "#### swapcase()\n",
        "Aqui iremos inverter as coisas, transformando maiúsculas em minúsculas, e vice-versa."
      ]
    },
    {
      "cell_type": "code",
      "metadata": {
        "id": "O7kkYBfR11xA",
        "colab_type": "code",
        "outputId": "f1317886-f631-4ba7-fba9-7f12a61c3084",
        "colab": {
          "base_uri": "https://localhost:8080/",
          "height": 35
        }
      },
      "source": [
        "nome.swapcase()"
      ],
      "execution_count": 49,
      "outputs": [
        {
          "output_type": "execute_result",
          "data": {
            "text/plain": [
              "'JOSÉ sANTOS DA sILVA'"
            ]
          },
          "metadata": {
            "tags": []
          },
          "execution_count": 49
        }
      ]
    },
    {
      "cell_type": "markdown",
      "metadata": {
        "id": "vSoPOrap6xE1",
        "colab_type": "text"
      },
      "source": [
        "## Exercícios"
      ]
    },
    {
      "cell_type": "markdown",
      "metadata": {
        "id": "KD1ufBnNqEOw",
        "colab_type": "text"
      },
      "source": [
        "### Exercício 1\n",
        "\n",
        "Escreva seu nome e sobrenome, como nos exemplos acima, e imprima ele na tela usando a função `print()`:"
      ]
    },
    {
      "cell_type": "code",
      "metadata": {
        "id": "ehkKyhU_60_3",
        "colab_type": "code",
        "colab": {}
      },
      "source": [
        "# resposta\n"
      ],
      "execution_count": 0,
      "outputs": []
    },
    {
      "cell_type": "code",
      "metadata": {
        "id": "O6btoUeVqPKI",
        "colab_type": "code",
        "cellView": "form",
        "colab": {}
      },
      "source": [
        "#@title Solução\n",
        "print(\"Carlos Melo\")"
      ],
      "execution_count": 0,
      "outputs": []
    },
    {
      "cell_type": "markdown",
      "metadata": {
        "id": "HfLGXzjN7AuR",
        "colab_type": "text"
      },
      "source": [
        "### Exercícios 3\n",
        "Verifique o tamanho da *string* da variável sha1_hash abaixo:"
      ]
    },
    {
      "cell_type": "code",
      "metadata": {
        "id": "7ptSvRIL7FYw",
        "colab_type": "code",
        "colab": {}
      },
      "source": [
        "sha1_hash = \"b91552e0b2b2183e85a4371020ab6b9f4ef83ed0\""
      ],
      "execution_count": 0,
      "outputs": []
    },
    {
      "cell_type": "code",
      "metadata": {
        "id": "iwfqlKiPqoMv",
        "colab_type": "code",
        "colab": {}
      },
      "source": [
        "# resposta\n"
      ],
      "execution_count": 0,
      "outputs": []
    },
    {
      "cell_type": "code",
      "metadata": {
        "id": "B5dSSOkeqw70",
        "colab_type": "code",
        "cellView": "form",
        "colab": {}
      },
      "source": [
        "#@title Solução\n",
        "len(sha1_hash)"
      ],
      "execution_count": 0,
      "outputs": []
    },
    {
      "cell_type": "markdown",
      "metadata": {
        "id": "WFCUMU5m8LU7",
        "colab_type": "text"
      },
      "source": [
        "### Exercício 3\n",
        "\n",
        "Converta a string `85,00 Kg` em uma variável do tipo float."
      ]
    },
    {
      "cell_type": "code",
      "metadata": {
        "id": "2h8-qUKl7F2K",
        "colab_type": "code",
        "colab": {}
      },
      "source": [
        "# resposta\n"
      ],
      "execution_count": 0,
      "outputs": []
    },
    {
      "cell_type": "code",
      "metadata": {
        "id": "2LCRKm172RTk",
        "colab_type": "code",
        "cellView": "form",
        "colab": {}
      },
      "source": [
        "#@title Solução\n",
        "float('85,00 Kg'.strip(' Kg').replace(',', '.'))\n"
      ],
      "execution_count": 0,
      "outputs": []
    },
    {
      "cell_type": "markdown",
      "metadata": {
        "id": "EImg6boX21Nt",
        "colab_type": "text"
      },
      "source": [
        "#### Exercício 4\n",
        "\n",
        "Faça o que se pede com a variável em cada uma das células abaixo\n"
      ]
    },
    {
      "cell_type": "code",
      "metadata": {
        "id": "X-J6my5M2aI8",
        "colab_type": "code",
        "colab": {}
      },
      "source": [
        "# criando a variável\n",
        "x = 'Data, Science, é, demais!'\n"
      ],
      "execution_count": 0,
      "outputs": []
    },
    {
      "cell_type": "code",
      "metadata": {
        "id": "1yZ7sX2A20Z_",
        "colab_type": "code",
        "colab": {}
      },
      "source": [
        "# a) imprima a quantidade de caracteres na variável x\n"
      ],
      "execution_count": 0,
      "outputs": []
    },
    {
      "cell_type": "code",
      "metadata": {
        "id": "huRSUpiF3P-2",
        "colab_type": "code",
        "colab": {}
      },
      "source": [
        "# b) retire as vírgulas da variável\n"
      ],
      "execution_count": 0,
      "outputs": []
    },
    {
      "cell_type": "code",
      "metadata": {
        "id": "jlNekZmR3TXF",
        "colab_type": "code",
        "colab": {}
      },
      "source": [
        "# c) imprima apenas os 6 primeiros caracteres da variável\n"
      ],
      "execution_count": 0,
      "outputs": []
    },
    {
      "cell_type": "code",
      "metadata": {
        "id": "y8vxWdu03Z-u",
        "colab_type": "code",
        "colab": {}
      },
      "source": [
        "# d) imprima todos os caracteres, mostrando um e pulando um\n"
      ],
      "execution_count": 0,
      "outputs": []
    },
    {
      "cell_type": "code",
      "metadata": {
        "id": "Af-uSrbH3fjV",
        "colab_type": "code",
        "colab": {}
      },
      "source": [
        "# e) transforme todas as letras em maiúsculas\n"
      ],
      "execution_count": 0,
      "outputs": []
    },
    {
      "cell_type": "code",
      "metadata": {
        "id": "XbpQ7psZ3iqf",
        "colab_type": "code",
        "colab": {}
      },
      "source": [
        "# f) transforme todas as letras em minúsculas\n"
      ],
      "execution_count": 0,
      "outputs": []
    },
    {
      "cell_type": "code",
      "metadata": {
        "id": "2uG4HVX63l1W",
        "colab_type": "code",
        "cellView": "form",
        "colab": {}
      },
      "source": [
        "#@title Solução\n",
        "print(x)\n",
        "# a)\n",
        "print(len(x))\n",
        "\n",
        "# b)\n",
        "x = x.strip().replace(',', '')\n",
        "print(x)\n",
        "\n",
        "# c)\n",
        "print(x[:6])\n",
        "\n",
        "# d)\n",
        "print(x[::2])\n",
        "\n",
        "# e)\n",
        "print(x.upper())\n",
        "\n",
        "# f)\n",
        "print(x.lower())"
      ],
      "execution_count": 0,
      "outputs": []
    }
  ]
}