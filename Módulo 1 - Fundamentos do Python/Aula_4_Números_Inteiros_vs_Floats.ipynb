{
  "nbformat": 4,
  "nbformat_minor": 0,
  "metadata": {
    "colab": {
      "name": "Aula_4_Números_Inteiros_vs_Floats.ipynb",
      "provenance": [],
      "collapsed_sections": []
    },
    "kernelspec": {
      "name": "python3",
      "display_name": "Python 3"
    }
  },
  "cells": [
    {
      "cell_type": "markdown",
      "metadata": {
        "id": "5sWZ2auRITdD"
      },
      "source": [
        "#Inteiros e Floats\n",
        "\n",
        "Os números inteiros (como 5, 4, 33) são do tipo `int`, enquanto aqueles números que carregam uma parte fracional (como 5.5, 3.33, 3.14, 5.0) são do tipo `float`. No começo, lidar com tipos de números pode ser confuso, mas a prática vai fazer você entender.\n",
        "\n",
        "Para saber o tipo de uma variável, você pode usar a função `type`."
      ]
    },
    {
      "cell_type": "markdown",
      "metadata": {
        "id": "mmPSR5XBXk-m"
      },
      "source": [
        "No primeiro exemplo, vemos que o número 5 não possui parte fracional, por isso, é um inteiro."
      ]
    },
    {
      "cell_type": "code",
      "metadata": {
        "id": "BOXAIT6WIerI",
        "colab": {
          "base_uri": "https://localhost:8080/",
          "height": 35
        },
        "outputId": "df25aaff-05a0-40db-a3f6-ad6016911ad1"
      },
      "source": [
        "# verificando o tipo. Aqui, o 5 é inteiro.\n",
        "type(5) "
      ],
      "execution_count": null,
      "outputs": [
        {
          "output_type": "execute_result",
          "data": {
            "text/plain": [
              "int"
            ]
          },
          "metadata": {
            "tags": []
          },
          "execution_count": 1
        }
      ]
    },
    {
      "cell_type": "markdown",
      "metadata": {
        "id": "Do9sJwX3Xtj1"
      },
      "source": [
        "Quando adicionamos uma parte fracional, o número se torna um `float`."
      ]
    },
    {
      "cell_type": "code",
      "metadata": {
        "id": "b0K51PcpIqht",
        "colab": {
          "base_uri": "https://localhost:8080/",
          "height": 35
        },
        "outputId": "120697df-8310-41cf-e05a-cfa7df4b8dbb"
      },
      "source": [
        "# a variável abc representa o número 44.44, que tem parte fracional, portanto, float.\n",
        "abc = 44.44\n",
        "type(abc)"
      ],
      "execution_count": null,
      "outputs": [
        {
          "output_type": "execute_result",
          "data": {
            "text/plain": [
              "float"
            ]
          },
          "metadata": {
            "tags": []
          },
          "execution_count": 2
        }
      ]
    },
    {
      "cell_type": "markdown",
      "metadata": {
        "id": "L5D8QoV3X60R"
      },
      "source": [
        "Caso adicionemos parte fracional ao nosso 5 (`int`), ele passa a ser um `float`, mesmo que a parte fracional seja 0."
      ]
    },
    {
      "cell_type": "code",
      "metadata": {
        "id": "uHeeZGrLIrnq",
        "colab": {
          "base_uri": "https://localhost:8080/",
          "height": 35
        },
        "outputId": "c3cab3c6-9b73-4461-956e-b5a48788f720"
      },
      "source": [
        "# aqui o 5.0 é um float.\n",
        "type(5.0)"
      ],
      "execution_count": null,
      "outputs": [
        {
          "output_type": "execute_result",
          "data": {
            "text/plain": [
              "float"
            ]
          },
          "metadata": {
            "tags": []
          },
          "execution_count": 3
        }
      ]
    },
    {
      "cell_type": "markdown",
      "metadata": {
        "id": "uQPd4cb2YJlz"
      },
      "source": [
        "Em mais um exemplo podemos ver que pi é um número com parte fracional, portanto, `float`."
      ]
    },
    {
      "cell_type": "code",
      "metadata": {
        "id": "rpxJyY1DIscO",
        "colab": {
          "base_uri": "https://localhost:8080/",
          "height": 35
        },
        "outputId": "63cfb916-1934-440d-9f69-47262adcb8b1"
      },
      "source": [
        "pi = 3.14\n",
        "type(pi)"
      ],
      "execution_count": null,
      "outputs": [
        {
          "output_type": "execute_result",
          "data": {
            "text/plain": [
              "float"
            ]
          },
          "metadata": {
            "tags": []
          },
          "execution_count": 4
        }
      ]
    },
    {
      "cell_type": "markdown",
      "metadata": {
        "id": "IVUN-7zZYluI"
      },
      "source": [
        "Na documentação oficial do Python encontramos que ao fazer a divisão de números inteiros, temos por resultado um número `float`, mesmo que a divisão seja inteira."
      ]
    },
    {
      "cell_type": "code",
      "metadata": {
        "id": "sgZw4KvSIt0_",
        "colab": {
          "base_uri": "https://localhost:8080/",
          "height": 53
        },
        "outputId": "6b1d0bb4-6731-4af1-8680-f7506ebd6b80"
      },
      "source": [
        "# divisão de inteiros\n",
        "y = 3 / 3\n",
        "print(y)\n",
        "type(y)"
      ],
      "execution_count": null,
      "outputs": [
        {
          "output_type": "stream",
          "text": [
            "1.0\n"
          ],
          "name": "stdout"
        },
        {
          "output_type": "execute_result",
          "data": {
            "text/plain": [
              "float"
            ]
          },
          "metadata": {
            "tags": []
          },
          "execution_count": 5
        }
      ]
    },
    {
      "cell_type": "code",
      "metadata": {
        "id": "dfAPXlqXIu-g",
        "colab": {
          "base_uri": "https://localhost:8080/",
          "height": 71
        },
        "outputId": "7a147814-b410-4a97-c140-882be94627cf"
      },
      "source": [
        "# uma divisão SEMPRE vai retornar um float como resultado\n",
        "print(type(3 / 3))\n",
        "print(type(10.0 / 5))\n",
        "print(type(10.0 / 2.0))"
      ],
      "execution_count": null,
      "outputs": [
        {
          "output_type": "stream",
          "text": [
            "<class 'float'>\n",
            "<class 'float'>\n",
            "<class 'float'>\n"
          ],
          "name": "stdout"
        }
      ]
    },
    {
      "cell_type": "markdown",
      "metadata": {
        "id": "1KpYHK8dIwO-"
      },
      "source": [
        "Existem momentos em que você vai querer converter um `float` em `int`. Isso pode ser feito com `int()`. O mesmo vale para a operação contrário, bastando indicar a variável dentro dos parênteses."
      ]
    },
    {
      "cell_type": "code",
      "metadata": {
        "id": "B4-evh-ZIyzs",
        "colab": {
          "base_uri": "https://localhost:8080/",
          "height": 35
        },
        "outputId": "70af3316-51e7-4569-8474-2c66fa1b5e30"
      },
      "source": [
        "idade = 35.00\n",
        "type(idade)"
      ],
      "execution_count": null,
      "outputs": [
        {
          "output_type": "execute_result",
          "data": {
            "text/plain": [
              "float"
            ]
          },
          "metadata": {
            "tags": []
          },
          "execution_count": 7
        }
      ]
    },
    {
      "cell_type": "code",
      "metadata": {
        "id": "ttXnxK28I0YO",
        "colab": {
          "base_uri": "https://localhost:8080/",
          "height": 35
        },
        "outputId": "bf761120-bc0d-4d8f-b0e7-e88a5ed8d313"
      },
      "source": [
        "# converter\n",
        "idade = int(idade)\n",
        "type(idade)"
      ],
      "execution_count": null,
      "outputs": [
        {
          "output_type": "execute_result",
          "data": {
            "text/plain": [
              "int"
            ]
          },
          "metadata": {
            "tags": []
          },
          "execution_count": 8
        }
      ]
    },
    {
      "cell_type": "code",
      "metadata": {
        "id": "Z4h-aj4rI2lY",
        "colab": {
          "base_uri": "https://localhost:8080/",
          "height": 35
        },
        "outputId": "48d22b61-cfb0-477c-dcf9-fd18d1d6646e"
      },
      "source": [
        "float(3)"
      ],
      "execution_count": null,
      "outputs": [
        {
          "output_type": "execute_result",
          "data": {
            "text/plain": [
              "3.0"
            ]
          },
          "metadata": {
            "tags": []
          },
          "execution_count": 9
        }
      ]
    },
    {
      "cell_type": "markdown",
      "metadata": {
        "id": "0TzMUj6xI3lY"
      },
      "source": [
        "Existe ainda uma opção quando eu quero realizar uma divisão, porém quero ficar apenas com a parte inteira de um número, descartando toda a parte fracionária. Essa operação pode ser feita usando `//`."
      ]
    },
    {
      "cell_type": "code",
      "metadata": {
        "id": "vodOe_VNI5k2",
        "colab": {
          "base_uri": "https://localhost:8080/",
          "height": 53
        },
        "outputId": "e03ae91f-4aec-45ea-8243-f960e26abc82"
      },
      "source": [
        "print(11 / 3)  # divisão normal com /\n",
        "print(11 // 3) # divisão usando //"
      ],
      "execution_count": null,
      "outputs": [
        {
          "output_type": "stream",
          "text": [
            "3.6666666666666665\n",
            "3\n"
          ],
          "name": "stdout"
        }
      ]
    },
    {
      "cell_type": "markdown",
      "metadata": {
        "id": "9Hvlr-1HcquF"
      },
      "source": [
        "## Exercícios\n",
        "\n",
        "Agora que vimos um pouco mais sobre inteiros e floats, vamos praticar um pouco."
      ]
    },
    {
      "cell_type": "markdown",
      "metadata": {
        "id": "qGH4BlbEe9Ut"
      },
      "source": [
        "#### Exercício 1\n",
        "Transforme o resultado a divisão de inteiros em inteiro.\n",
        "\n",
        "$$\n",
        "\\begin{aligned}\n",
        "x & = 25 / 5\n",
        "\\end{aligned}\n",
        "$$"
      ]
    },
    {
      "cell_type": "code",
      "metadata": {
        "id": "mCopQuIOcSoC",
        "colab": {
          "base_uri": "https://localhost:8080/"
        },
        "outputId": "357e2be7-e969-4b16-f9ef-35436efde905"
      },
      "source": [
        "# resposta\n",
        "x = 25 / 5\n",
        "print(x, type(x))\n",
        "\n",
        "x = 25 // 5\n",
        "print(x, type(x))"
      ],
      "execution_count": 5,
      "outputs": [
        {
          "output_type": "stream",
          "text": [
            "5.0 <class 'float'>\n",
            "5 <class 'int'>\n"
          ],
          "name": "stdout"
        }
      ]
    },
    {
      "cell_type": "code",
      "metadata": {
        "id": "DcQqM81MhT60",
        "cellView": "form",
        "colab": {
          "base_uri": "https://localhost:8080/"
        },
        "outputId": "242d1227-e072-4097-9292-ca57585eb259"
      },
      "source": [
        "#@title Solução\n",
        "x = 25/5\n",
        "print('Resultado como float: ', x)\n",
        "print('Tipo: ', type(x))\n",
        "#transformando em int\n",
        "x = int(x)\n",
        "print('Resultado como integer: ', x)\n",
        "print('Tipo: ', type(x))"
      ],
      "execution_count": 2,
      "outputs": [
        {
          "output_type": "stream",
          "text": [
            "Resultado como float:  5.0\n",
            "Tipo:  <class 'float'>\n",
            "Resultado como integer:  5\n",
            "Tipo:  <class 'int'>\n"
          ],
          "name": "stdout"
        }
      ]
    },
    {
      "cell_type": "markdown",
      "metadata": {
        "id": "Rl3RIqLkic6f"
      },
      "source": [
        "#### Exercício 2\n",
        "Use a função `type()` para descobrir os tipos das seguintes variáveis:"
      ]
    },
    {
      "cell_type": "code",
      "metadata": {
        "id": "lkgNPyX3iqM4"
      },
      "source": [
        "# variáveis\n",
        "x = 33\n",
        "y = 33/3\n",
        "z = 33.5"
      ],
      "execution_count": 6,
      "outputs": []
    },
    {
      "cell_type": "code",
      "metadata": {
        "id": "yCWRX2fIlEfN",
        "colab": {
          "base_uri": "https://localhost:8080/"
        },
        "outputId": "90aa5a5d-f557-403e-af7e-43a2c3b79c03"
      },
      "source": [
        "# resposta\n",
        "print(type(x))\n",
        "print(type(y))\n",
        "print(type(z))"
      ],
      "execution_count": 7,
      "outputs": [
        {
          "output_type": "stream",
          "text": [
            "<class 'int'>\n",
            "<class 'float'>\n",
            "<class 'float'>\n"
          ],
          "name": "stdout"
        }
      ]
    },
    {
      "cell_type": "code",
      "metadata": {
        "id": "ddDmJbpth06P",
        "cellView": "form",
        "colab": {
          "base_uri": "https://localhost:8080/"
        },
        "outputId": "6803ff2d-285d-4200-a520-f8f82bc31c76"
      },
      "source": [
        "#@title Solução\n",
        "print(type(x))\n",
        "print(type(y))\n",
        "print(type(z))"
      ],
      "execution_count": 8,
      "outputs": [
        {
          "output_type": "stream",
          "text": [
            "<class 'int'>\n",
            "<class 'float'>\n",
            "<class 'float'>\n"
          ],
          "name": "stdout"
        }
      ]
    },
    {
      "cell_type": "markdown",
      "metadata": {
        "id": "DN10x95sk5d9"
      },
      "source": [
        "#### Exercício 3\n",
        "Usando as variáveis do exercício anterior, transforme todas elas em `int`."
      ]
    },
    {
      "cell_type": "code",
      "metadata": {
        "id": "4QQUchCTlYVG",
        "colab": {
          "base_uri": "https://localhost:8080/"
        },
        "outputId": "4722bf3d-a51c-471b-8380-957c73b1bf26"
      },
      "source": [
        "# resposta\n",
        "x = int(x)\n",
        "y = int(y)\n",
        "z = int(z)\n",
        "\n",
        "print(type(x))\n",
        "print(type(y))\n",
        "print(type(z))"
      ],
      "execution_count": 9,
      "outputs": [
        {
          "output_type": "stream",
          "text": [
            "<class 'int'>\n",
            "<class 'int'>\n",
            "<class 'int'>\n"
          ],
          "name": "stdout"
        }
      ]
    },
    {
      "cell_type": "code",
      "metadata": {
        "id": "eeq1gh-Mkx8V",
        "cellView": "form",
        "colab": {
          "base_uri": "https://localhost:8080/"
        },
        "outputId": "e1baac01-f722-4da3-b993-92f8cf639246"
      },
      "source": [
        "#@title Solução\n",
        "x = int(x)\n",
        "y = int(y)\n",
        "z = int(z)\n",
        "\n",
        "# conferindo os tipos\n",
        "print(type(x))\n",
        "print(type(y))\n",
        "print(type(z))"
      ],
      "execution_count": 10,
      "outputs": [
        {
          "output_type": "stream",
          "text": [
            "<class 'int'>\n",
            "<class 'int'>\n",
            "<class 'int'>\n"
          ],
          "name": "stdout"
        }
      ]
    },
    {
      "cell_type": "markdown",
      "metadata": {
        "id": "O-bubRqplXrU"
      },
      "source": [
        "#### Exercício 3\n",
        "Usando as variáveis do exercício anterior, transforme todas elas em `float`."
      ]
    },
    {
      "cell_type": "code",
      "metadata": {
        "id": "lkKomdl4lhKE",
        "colab": {
          "base_uri": "https://localhost:8080/"
        },
        "outputId": "5f51e3b0-fd35-47f3-bf0e-f97892262679"
      },
      "source": [
        "# resposta\n",
        "x = float(x)\n",
        "y = float(y)\n",
        "z = float(z)\n",
        "\n",
        "print(type(x))\n",
        "print(type(y))\n",
        "print(type(z))"
      ],
      "execution_count": 11,
      "outputs": [
        {
          "output_type": "stream",
          "text": [
            "<class 'float'>\n",
            "<class 'float'>\n",
            "<class 'float'>\n"
          ],
          "name": "stdout"
        }
      ]
    },
    {
      "cell_type": "code",
      "metadata": {
        "id": "sfcdCbJBlDe8",
        "cellView": "form",
        "colab": {
          "base_uri": "https://localhost:8080/"
        },
        "outputId": "702ebb9f-f51d-44b4-afa0-abf36ee2b255"
      },
      "source": [
        "#@title Solução\n",
        "x = float(x)\n",
        "y = float(y)\n",
        "z = float(z)\n",
        "\n",
        "# conferindo os tipos\n",
        "print(type(x))\n",
        "print(type(y))\n",
        "print(type(z))"
      ],
      "execution_count": 12,
      "outputs": [
        {
          "output_type": "stream",
          "text": [
            "<class 'float'>\n",
            "<class 'float'>\n",
            "<class 'float'>\n"
          ],
          "name": "stdout"
        }
      ]
    },
    {
      "cell_type": "markdown",
      "metadata": {
        "id": "l5191XQmS_F0"
      },
      "source": [
        "**Referências**\n",
        "\n",
        "- Notebook usado na aula\n",
        " - https://colab.research.google.com/drive/1aWTVNHtzX1YY-BZ2JMXxbvJQfN5QDBIk?usp=sharing\n",
        "\n",
        "- Documentação oficial de tipos numéricos\n",
        " - https://docs.python.org/3/library/stdtypes.html#numeric-types-int-float-complex"
      ]
    },
    {
      "cell_type": "code",
      "metadata": {
        "id": "9BxBW7Fjld8k"
      },
      "source": [
        ""
      ],
      "execution_count": null,
      "outputs": []
    }
  ]
}