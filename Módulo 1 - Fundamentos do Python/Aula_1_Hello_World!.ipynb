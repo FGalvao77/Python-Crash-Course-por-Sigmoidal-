{
  "nbformat": 4,
  "nbformat_minor": 0,
  "metadata": {
    "colab": {
      "name": "Aula 1 - Hello World!.ipynb",
      "provenance": [],
      "collapsed_sections": []
    },
    "kernelspec": {
      "name": "python3",
      "display_name": "Python 3"
    },
    "language_info": {
      "name": "python"
    }
  },
  "cells": [
    {
      "cell_type": "code",
      "metadata": {
        "colab": {
          "base_uri": "https://localhost:8080/"
        },
        "id": "S1b5poll21AZ",
        "outputId": "345ef9c1-f8e1-4f5b-c965-f02b1ae2e8df"
      },
      "source": [
        "# imprimindo \"Hello, World!\"\n",
        "print('Hello, World!')"
      ],
      "execution_count": 1,
      "outputs": [
        {
          "output_type": "stream",
          "text": [
            "Hello, World!\n"
          ],
          "name": "stdout"
        }
      ]
    },
    {
      "cell_type": "code",
      "metadata": {
        "colab": {
          "base_uri": "https://localhost:8080/"
        },
        "id": "2zbA6aOD26yF",
        "outputId": "0c24d516-e8b5-46b4-a7cb-7dfafd496648"
      },
      "source": [
        "# imprimindo uma mensagem de idade\n",
        "print('Eu tenho', 43, 'anos.')"
      ],
      "execution_count": 2,
      "outputs": [
        {
          "output_type": "stream",
          "text": [
            "Eu tenho 43 anos.\n"
          ],
          "name": "stdout"
        }
      ]
    },
    {
      "cell_type": "code",
      "metadata": {
        "id": "OokGK1e-26vN"
      },
      "source": [
        "# instanciando duas variáveis - mensagem e nome\n",
        "mensagem = \"Hello, \"\n",
        "nome = \"Fernando\""
      ],
      "execution_count": 3,
      "outputs": []
    },
    {
      "cell_type": "code",
      "metadata": {
        "colab": {
          "base_uri": "https://localhost:8080/"
        },
        "id": "-GHNU6oR26rk",
        "outputId": "f4aebb6d-1e5f-44d0-99d6-2d8bbd0e65c5"
      },
      "source": [
        "# concatenando as variáveis e imprimindo-as\n",
        "print(mensagem + nome +'!')"
      ],
      "execution_count": 8,
      "outputs": [
        {
          "output_type": "stream",
          "text": [
            "Hello, Fernando!\n"
          ],
          "name": "stdout"
        }
      ]
    },
    {
      "cell_type": "code",
      "metadata": {
        "id": "Vjzfog-o26oz"
      },
      "source": [
        ""
      ],
      "execution_count": null,
      "outputs": []
    }
  ]
}