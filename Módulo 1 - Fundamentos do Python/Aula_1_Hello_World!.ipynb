{
  "nbformat": 4,
  "nbformat_minor": 0,
  "metadata": {
    "colab": {
      "name": "Aula_1_Hello_World!.ipynb",
      "provenance": [],
      "collapsed_sections": []
    },
    "kernelspec": {
      "name": "python3",
      "display_name": "Python 3"
    },
    "language_info": {
      "name": "python"
    }
  },
  "cells": [
    {
      "cell_type": "markdown",
      "metadata": {
        "id": "J3kmjRfcLzPR"
      },
      "source": [
        "**Bem-vindo!**\n",
        "\n",
        "\n",
        "Python é umas das linguagens de programação mais usadas no mundo hoje em dia, e sua curva de aprendizado a torna ainda mais interessante para iniciantes. Sua grande e ativa comunidade, bem como a grande quantidade de bibliotecas, a tornam a principal ferramenta do Cientista de Dados.\n",
        "\n",
        "**Referências**\n",
        "\n",
        "- Documentação e Tutorial oficiais da linguagem Python\n",
        " - https://docs.python.org/3/\n",
        "\n",
        "- 5 motivos para você aprender Python​\n",
        " - http://sigmoidal.ai/5-motivos-para-voce-aprender-python/\n",
        "\n",
        "- Gráfico de evolução das linguagens de programação em popularidade (1965 a 2019)​\n",
        " - https://www.youtube.com/watch?v=Og847HVwRSI"
      ]
    },
    {
      "cell_type": "markdown",
      "metadata": {
        "id": "Ar8S_pubMd1V"
      },
      "source": [
        "**Ambiente Google Colab**\n",
        "\n",
        "\n",
        "Nessa aula, conhecemos um pouco mais o ambiente do ​Google Colab e começamos a utilizar a linguagem Python, conhecendo algumas de suas propriedades e funcionalidades.\n",
        "\n",
        "- links:\n",
        " - Google colab: https://colab.research.google.com/\n",
        "\n",
        " - Python: https://docs.python.org/3/"
      ]
    },
    {
      "cell_type": "markdown",
      "metadata": {
        "id": "Uq3EZy0RM5x0"
      },
      "source": [
        "**Hello, World!**\n",
        "\n",
        "    print(\"Hello, World!\")\n",
        "\n",
        "Bem vindo ao mundo do Python.\n",
        "\n",
        "Esta aula é apenas para te dar as boas-vindas de qualquer linguagem de programação: o famoso Hello, World!"
      ]
    },
    {
      "cell_type": "code",
      "metadata": {
        "colab": {
          "base_uri": "https://localhost:8080/"
        },
        "id": "S1b5poll21AZ",
        "outputId": "345ef9c1-f8e1-4f5b-c965-f02b1ae2e8df"
      },
      "source": [
        "# imprimindo \"Hello, World!\"\n",
        "print('Hello, World!')"
      ],
      "execution_count": null,
      "outputs": [
        {
          "output_type": "stream",
          "text": [
            "Hello, World!\n"
          ],
          "name": "stdout"
        }
      ]
    },
    {
      "cell_type": "code",
      "metadata": {
        "colab": {
          "base_uri": "https://localhost:8080/"
        },
        "id": "2zbA6aOD26yF",
        "outputId": "0c24d516-e8b5-46b4-a7cb-7dfafd496648"
      },
      "source": [
        "# imprimindo uma mensagem de idade\n",
        "print('Eu tenho', 43, 'anos.')"
      ],
      "execution_count": null,
      "outputs": [
        {
          "output_type": "stream",
          "text": [
            "Eu tenho 43 anos.\n"
          ],
          "name": "stdout"
        }
      ]
    },
    {
      "cell_type": "code",
      "metadata": {
        "id": "OokGK1e-26vN"
      },
      "source": [
        "# instanciando duas variáveis - mensagem e nome\n",
        "mensagem = \"Hello, \"\n",
        "nome = \"Fernando\""
      ],
      "execution_count": null,
      "outputs": []
    },
    {
      "cell_type": "code",
      "metadata": {
        "colab": {
          "base_uri": "https://localhost:8080/"
        },
        "id": "-GHNU6oR26rk",
        "outputId": "f4aebb6d-1e5f-44d0-99d6-2d8bbd0e65c5"
      },
      "source": [
        "# concatenando as variáveis e imprimindo-as\n",
        "print(mensagem + nome +'!')"
      ],
      "execution_count": null,
      "outputs": [
        {
          "output_type": "stream",
          "text": [
            "Hello, Fernando!\n"
          ],
          "name": "stdout"
        }
      ]
    },
    {
      "cell_type": "code",
      "metadata": {
        "id": "Vjzfog-o26oz"
      },
      "source": [
        ""
      ],
      "execution_count": null,
      "outputs": []
    }
  ]
}