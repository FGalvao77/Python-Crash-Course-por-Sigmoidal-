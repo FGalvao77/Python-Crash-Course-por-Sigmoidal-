{
  "nbformat": 4,
  "nbformat_minor": 0,
  "metadata": {
    "colab": {
      "name": "Tipos_de_Variáveis.ipynb",
      "provenance": [],
      "collapsed_sections": []
    },
    "kernelspec": {
      "name": "python3",
      "display_name": "Python 3"
    }
  },
  "cells": [
    {
      "cell_type": "markdown",
      "metadata": {
        "id": "m3Xn_3hAFRmx"
      },
      "source": [
        "# Variáveis em Python\n",
        "\n",
        "Em Python, podemos associar valores a variáveis, para que sejam armazenados e facilmente acessados ao longo do seu código.\n",
        "\n",
        "Pense na variável como um \"nome\" para o objeto que estamos manipulando.\n",
        "\n",
        "Diferente de outras linguagens, as variáveis não precisam ser definidas anteriormente, podemos criá-las no momento da associação\n",
        "\n",
        "Para associarmos um valor a uma variáveis, basta usar o operador que indica associação `=`. \n"
      ]
    },
    {
      "cell_type": "code",
      "metadata": {
        "id": "fX7onpEQHcCk"
      },
      "source": [
        "x = 300"
      ],
      "execution_count": 1,
      "outputs": []
    },
    {
      "cell_type": "markdown",
      "metadata": {
        "id": "YFg9LSbqHjjE"
      },
      "source": [
        "Após associarmos o valor 300 à variável `x`, podemos acessá-la utilizando a mesma, ou mesmo a função `print`."
      ]
    },
    {
      "cell_type": "code",
      "metadata": {
        "id": "M2LFABc3Hb_y",
        "colab": {
          "base_uri": "https://localhost:8080/"
        },
        "outputId": "cf8de75f-8594-4247-9849-43cd47f9527c"
      },
      "source": [
        "# chamando a variável diretamente\n",
        "x"
      ],
      "execution_count": 2,
      "outputs": [
        {
          "output_type": "execute_result",
          "data": {
            "text/plain": [
              "300"
            ]
          },
          "metadata": {
            "tags": []
          },
          "execution_count": 2
        }
      ]
    },
    {
      "cell_type": "code",
      "metadata": {
        "id": "4aYbvdJzGJxR",
        "colab": {
          "base_uri": "https://localhost:8080/"
        },
        "outputId": "90e9c7d7-014a-4af3-e010-0310d1b6676b"
      },
      "source": [
        "# imprimindo a variável com print\n",
        "print(x)"
      ],
      "execution_count": 3,
      "outputs": [
        {
          "output_type": "stream",
          "text": [
            "300\n"
          ],
          "name": "stdout"
        }
      ]
    },
    {
      "cell_type": "markdown",
      "metadata": {
        "id": "Unb_PdTxIVNR"
      },
      "source": [
        "Também podemos associar um novo valor a essa variável, para que a partir desse momento, ela assuma um novo valor."
      ]
    },
    {
      "cell_type": "code",
      "metadata": {
        "id": "YSClLFSAH3Ca",
        "colab": {
          "base_uri": "https://localhost:8080/"
        },
        "outputId": "350061c3-78ff-4eb4-d7fd-d9a128c3e033"
      },
      "source": [
        "print(\"Valor inicial:\", x)\n",
        "\n",
        "# atribuir novo valor\n",
        "x = 100\n",
        "\n",
        "print(\"Valor novo:\", x)"
      ],
      "execution_count": 4,
      "outputs": [
        {
          "output_type": "stream",
          "text": [
            "Valor inicial: 300\n",
            "Valor novo: 100\n"
          ],
          "name": "stdout"
        }
      ]
    },
    {
      "cell_type": "markdown",
      "metadata": {
        "id": "v2YuHg1iJlYS"
      },
      "source": [
        "## Tipos de Variáveis\n",
        "\n",
        "Além de utilizarmos `integers`, ou inteiros, podemos usar outros tipos de variáveis como `strings`, ou `floats`.\n",
        "\n",
        "Vamos ver na prática como isso funciona."
      ]
    },
    {
      "cell_type": "markdown",
      "metadata": {
        "id": "82Dw7isSKSnG"
      },
      "source": [
        "### Integers\n",
        "Para utilizar inteiros, basta criar a variável como tal, sem valores decimais."
      ]
    },
    {
      "cell_type": "code",
      "metadata": {
        "id": "zX3CRTx6IfLV",
        "colab": {
          "base_uri": "https://localhost:8080/"
        },
        "outputId": "5b3caf4f-3cfd-4f99-cf1a-6abd02cc17d1"
      },
      "source": [
        "# integers\n",
        "x = 50\n",
        "print(x)"
      ],
      "execution_count": 5,
      "outputs": [
        {
          "output_type": "stream",
          "text": [
            "50\n"
          ],
          "name": "stdout"
        }
      ]
    },
    {
      "cell_type": "markdown",
      "metadata": {
        "id": "eF8QT6OFKdBF"
      },
      "source": [
        "### Floats\n",
        "Ao utilizar Floats, precisamos ter cuidado com uma detalhe. A vírgula, em Python, serve pra enumeração, e não para casas decimais.\n",
        "\n",
        "Para definir casas decimais, vamos utilizar o ponto `.`\n",
        "\n",
        "Para criar um float, basta associar à variável um número que possua casa decimal."
      ]
    },
    {
      "cell_type": "code",
      "metadata": {
        "id": "A7QseAg_J_vV",
        "colab": {
          "base_uri": "https://localhost:8080/"
        },
        "outputId": "c3e2e7f3-09b6-4502-bf72-59f8b1d5aa81"
      },
      "source": [
        "# float\n",
        "x = 25.0\n",
        "print(x)"
      ],
      "execution_count": 7,
      "outputs": [
        {
          "output_type": "stream",
          "text": [
            "25.0\n"
          ],
          "name": "stdout"
        }
      ]
    },
    {
      "cell_type": "markdown",
      "metadata": {
        "id": "T1gTB698LGfN"
      },
      "source": [
        "### Strings\n",
        "Strings são nossa linguagem natural, utilizando caracteres e palavras.\n",
        "\n",
        "Para criar strings, precisamos colocar nosso conteúdo entre parênteses."
      ]
    },
    {
      "cell_type": "code",
      "metadata": {
        "id": "G_iJjopFKEDO",
        "colab": {
          "base_uri": "https://localhost:8080/"
        },
        "outputId": "cf8d8632-5201-4e44-eb4b-f3f9e0508cb1"
      },
      "source": [
        "# string\n",
        "x = \"Data Science é a profissão mais sexy do mundo.\"\n",
        "print(x)"
      ],
      "execution_count": 8,
      "outputs": [
        {
          "output_type": "stream",
          "text": [
            "Data Science é a profissão mais sexy do mundo.\n"
          ],
          "name": "stdout"
        }
      ]
    },
    {
      "cell_type": "markdown",
      "metadata": {
        "id": "WAbnkHfPLxNc"
      },
      "source": [
        "## Verificando o Tipo da Variável\n",
        "\n",
        "É claro que você vai sempre criar as variáveis da forma desejada, e seguindo os padrões para não encontrar erros ou problemas no seu código.\n",
        "\n",
        "Entretanto, não é incomum encontrarmos, por exemplo, números que estão em formato string, e por isso, se comportarão como tal, não permitindo operações matemáticas, por exemplo.\n",
        "\n",
        "Para que possamos descobrir o tipo das nossas variáveis, temos a função `type`."
      ]
    },
    {
      "cell_type": "code",
      "metadata": {
        "id": "u8kfv_-LKJTN",
        "colab": {
          "base_uri": "https://localhost:8080/"
        },
        "outputId": "bbe9c31e-bd49-4ad3-da6b-7eeae77b3710"
      },
      "source": [
        "# imprimindo a variável\n",
        "x = 100.0\n",
        "print(x)\n",
        "\n",
        "# verificando o tipo\n",
        "type(x)"
      ],
      "execution_count": 9,
      "outputs": [
        {
          "output_type": "stream",
          "text": [
            "100.0\n"
          ],
          "name": "stdout"
        },
        {
          "output_type": "execute_result",
          "data": {
            "text/plain": [
              "float"
            ]
          },
          "metadata": {
            "tags": []
          },
          "execution_count": 9
        }
      ]
    },
    {
      "cell_type": "markdown",
      "metadata": {
        "id": "2yKM4SuiMlSK"
      },
      "source": [
        "### Criando Variáveis a Partir de Variáveis\n",
        "\n",
        "Também podemos criar cópias das variáveis, associando novas variáveis a ela.\n",
        "\n",
        "Isso nos permite explorar a variável sem alterar a original."
      ]
    },
    {
      "cell_type": "code",
      "metadata": {
        "id": "aZiPLduUMWft",
        "colab": {
          "base_uri": "https://localhost:8080/"
        },
        "outputId": "0cbc9b4e-4c4f-486e-8ffb-40c5cc4e572d"
      },
      "source": [
        "# criando uma variável através da variável original\n",
        "print(\"Variável x: \", x)\n",
        "\n",
        "y = x\n",
        "\n",
        "print(\"Variável y: \", y)"
      ],
      "execution_count": 10,
      "outputs": [
        {
          "output_type": "stream",
          "text": [
            "Variável x:  100.0\n",
            "Variável y:  100.0\n"
          ],
          "name": "stdout"
        }
      ]
    },
    {
      "cell_type": "markdown",
      "metadata": {
        "id": "Qn61cCs7WrNn"
      },
      "source": [
        "Podemos fazer isso com qualquer tipo de variável.\n",
        "\n",
        "Também podemos criar a nova variável a partir de uma operação feita com a variável original."
      ]
    },
    {
      "cell_type": "code",
      "metadata": {
        "id": "lCeGxQJQWoWV",
        "colab": {
          "base_uri": "https://localhost:8080/"
        },
        "outputId": "195e20ba-094f-4d3f-d0a7-592de4f41214"
      },
      "source": [
        "# criando uma nova variável com operações\n",
        "x = 10\n",
        "\n",
        "y = x * 10\n",
        "\n",
        "print(y)"
      ],
      "execution_count": 11,
      "outputs": [
        {
          "output_type": "stream",
          "text": [
            "100\n"
          ],
          "name": "stdout"
        }
      ]
    },
    {
      "cell_type": "markdown",
      "metadata": {
        "id": "EnPGkyAjZCeX"
      },
      "source": [
        "É importante entender que o relacionamento entre as duas acaba no momento da associação. \n",
        "\n",
        "Após isso, elas funcionam independentes uma da outra, portanto, alterações feitas em uma não afetam a outra."
      ]
    },
    {
      "cell_type": "code",
      "metadata": {
        "id": "Vcs6V2RJXYOy",
        "colab": {
          "base_uri": "https://localhost:8080/"
        },
        "outputId": "b6659807-eead-44b4-c27b-5e0812364e8b"
      },
      "source": [
        "# criando as variáveis\n",
        "print('Criando as Variáveis')\n",
        "x = 10\n",
        "\n",
        "y = x\n",
        "# resultado\n",
        "print('x:', x)\n",
        "print('y:', y)\n",
        "\n",
        "\n",
        "print('\\nTransformação x = y + 10')\n",
        "x = y + 10\n",
        "# resultado\n",
        "print ('Novo x:', x)\n",
        "print ('y:', y)\n",
        "\n",
        "\n",
        "print('\\nTransformação y = y / 2')\n",
        "y = y/2\n",
        "\n",
        "# resultado\n",
        "print('x:', x)\n",
        "print('Novo y:', y)"
      ],
      "execution_count": 14,
      "outputs": [
        {
          "output_type": "stream",
          "text": [
            "Criando as Variáveis\n",
            "x: 10\n",
            "y: 10\n",
            "\n",
            "Transformação x = y + 10\n",
            "Novo x: 20\n",
            "y: 10\n",
            "\n",
            "Transformação y = y / 2\n",
            "x: 20\n",
            "Novo y: 5.0\n"
          ],
          "name": "stdout"
        }
      ]
    },
    {
      "cell_type": "markdown",
      "metadata": {
        "id": "S-6iuoT3aPsx"
      },
      "source": [
        "## Exercícios\n",
        "\n",
        "Agora, vamos testar nosso conhecimento sobre as variáveis."
      ]
    },
    {
      "cell_type": "markdown",
      "metadata": {
        "id": "lExb7DuqaaJK"
      },
      "source": [
        "#### Exercício 1\n",
        "\n",
        "Crie uma variável do tipo `integer`, chamada x, e associe a ela sua idade."
      ]
    },
    {
      "cell_type": "code",
      "metadata": {
        "id": "IXoyJX5jZrKK",
        "colab": {
          "base_uri": "https://localhost:8080/"
        },
        "outputId": "3137ddf5-8313-4be2-8d18-632d820da372"
      },
      "source": [
        "# resposta\n",
        "x = 43\n",
        "print(f'Tenho {x} anos. \\nEssa variável é do tipo {type(x)}')"
      ],
      "execution_count": 23,
      "outputs": [
        {
          "output_type": "stream",
          "text": [
            "Tenho 43 anos. \n",
            "Essa variável é do tipo <class 'int'>\n"
          ],
          "name": "stdout"
        }
      ]
    },
    {
      "cell_type": "code",
      "metadata": {
        "id": "HqyCczwUahSH"
      },
      "source": [
        "#@title Solução\n",
        "x = 36"
      ],
      "execution_count": 20,
      "outputs": []
    },
    {
      "cell_type": "markdown",
      "metadata": {
        "id": "RpC7_U1MavAS"
      },
      "source": [
        "#### Exercício 2\n",
        "\n",
        "Crie uma variável do tipo `float`, chamada y, e associe a ela o preço de uma barra de chocolate."
      ]
    },
    {
      "cell_type": "code",
      "metadata": {
        "id": "7w2Ldng8ar3p",
        "colab": {
          "base_uri": "https://localhost:8080/"
        },
        "outputId": "2fd9e06a-ebf2-4b40-df93-955a88fdb299"
      },
      "source": [
        "# resposta\n",
        "y = 5.00\n",
        "print(f'Preço da barra de chocolate é {y}')\n",
        "print(type(y))"
      ],
      "execution_count": 48,
      "outputs": [
        {
          "output_type": "stream",
          "text": [
            "Preço da barra de chocolate é 5.0\n",
            "<class 'float'>\n"
          ],
          "name": "stdout"
        }
      ]
    },
    {
      "cell_type": "code",
      "metadata": {
        "id": "3tk87CuPbJgu",
        "cellView": "form"
      },
      "source": [
        "#@title Solução\n",
        "y = 2.99"
      ],
      "execution_count": 26,
      "outputs": []
    },
    {
      "cell_type": "markdown",
      "metadata": {
        "id": "sNmW-QU5bPpc"
      },
      "source": [
        "#### Exercício 3\n",
        "Crie uma variável do tipo `string`, chamada `nome` e associe a ela o seu nome."
      ]
    },
    {
      "cell_type": "code",
      "metadata": {
        "id": "qK_VecttbOVF",
        "colab": {
          "base_uri": "https://localhost:8080/"
        },
        "outputId": "256c919c-addd-409f-f27b-04cf1d722502"
      },
      "source": [
        "# resposta\n",
        "nome = 'Fernando'\n",
        "print('Meu nome é', nome)\n",
        "print(type(nome))"
      ],
      "execution_count": 29,
      "outputs": [
        {
          "output_type": "stream",
          "text": [
            "Meu nome é Fernando\n",
            "<class 'str'>\n"
          ],
          "name": "stdout"
        }
      ]
    },
    {
      "cell_type": "code",
      "metadata": {
        "id": "k95BQlXwbX2T",
        "cellView": "form"
      },
      "source": [
        "#@title Solução\n",
        "nome = \"Sigmoidal \""
      ],
      "execution_count": null,
      "outputs": []
    },
    {
      "cell_type": "markdown",
      "metadata": {
        "id": "sUWYLpJIcInn"
      },
      "source": [
        "#### Exercício 4\n",
        "\n",
        "Verifique o tipo das variáveis `x`, `y`, `nome`.\n",
        "\n",
        "Dica: A função print vai ajudar a fazer tudo em uma célula só."
      ]
    },
    {
      "cell_type": "code",
      "metadata": {
        "id": "_sEEXdzpbi5o",
        "colab": {
          "base_uri": "https://localhost:8080/"
        },
        "outputId": "9ad0fae1-f0f3-44f5-c419-1e78dcad35dc"
      },
      "source": [
        "# resultado\n",
        "print(f'Tipo de variável. \\n\\tx: {type(x)} \\n\\ty: {type(y)} \\n\\tnome: {type(nome)}')"
      ],
      "execution_count": 37,
      "outputs": [
        {
          "output_type": "stream",
          "text": [
            "Tipo de variável. \n",
            "\tx: <class 'int'> \n",
            "\ty: <class 'float'> \n",
            "\tnome: <class 'str'>\n"
          ],
          "name": "stdout"
        }
      ]
    },
    {
      "cell_type": "code",
      "metadata": {
        "id": "PWDlgK9Jcz5J",
        "cellView": "form",
        "colab": {
          "base_uri": "https://localhost:8080/"
        },
        "outputId": "ff372019-10f6-47c9-ea95-c2ecfbb4267f"
      },
      "source": [
        "#@title Solução\n",
        "print('x:', type(x))\n",
        "print('y:', type(y))\n",
        "print('nome:', type(nome))"
      ],
      "execution_count": 35,
      "outputs": [
        {
          "output_type": "stream",
          "text": [
            "x: <class 'int'>\n",
            "y: <class 'float'>\n",
            "nome: <class 'str'>\n"
          ],
          "name": "stdout"
        }
      ]
    },
    {
      "cell_type": "markdown",
      "metadata": {
        "id": "B6U739zPdHLN"
      },
      "source": [
        "#### Exercício 5\n",
        "\n",
        "Crie uma variável que seja que calcule o ano em que você nasceu, utilizando operadores matemáticos e sua variável `x`."
      ]
    },
    {
      "cell_type": "code",
      "metadata": {
        "id": "Rt7ssCKGc754",
        "colab": {
          "base_uri": "https://localhost:8080/"
        },
        "outputId": "1c24d6d2-37a9-4c3c-d106-57ab29920885"
      },
      "source": [
        "# resultado\n",
        "x = 44\n",
        "ano_atual = 2021\n",
        "ano_nascimento = ano_atual - x\n",
        "print('Meu ano de nascimento é', ano_nascimento)"
      ],
      "execution_count": 44,
      "outputs": [
        {
          "output_type": "stream",
          "text": [
            "Meu ano de nascimento é 1977\n"
          ],
          "name": "stdout"
        }
      ]
    },
    {
      "cell_type": "code",
      "metadata": {
        "id": "2lG8xjrCdXyS",
        "colab": {
          "base_uri": "https://localhost:8080/"
        },
        "outputId": "86c4b064-70a6-4453-ac03-f7303b1a7e32"
      },
      "source": [
        "#@title Solução\n",
        "x = 2020 - x\n",
        "print(x)"
      ],
      "execution_count": 45,
      "outputs": [
        {
          "output_type": "stream",
          "text": [
            "1976\n"
          ],
          "name": "stdout"
        }
      ]
    },
    {
      "cell_type": "markdown",
      "metadata": {
        "id": "cpjLvuX0do0e"
      },
      "source": [
        "### Exercício 6\n",
        "\n",
        "Crie uma variável para o preço de 3 barras de chocolate, usando a variável `y`."
      ]
    },
    {
      "cell_type": "code",
      "metadata": {
        "id": "I2Qa6YsXdg-n",
        "colab": {
          "base_uri": "https://localhost:8080/"
        },
        "outputId": "5a48fbd9-05a7-4694-8a49-2600faca2f81"
      },
      "source": [
        "# resultado\n",
        "total_barras_chocolate = y * 3\n",
        "total_barras_chocolate"
      ],
      "execution_count": 49,
      "outputs": [
        {
          "output_type": "execute_result",
          "data": {
            "text/plain": [
              "15.0"
            ]
          },
          "metadata": {
            "tags": []
          },
          "execution_count": 49
        }
      ]
    },
    {
      "cell_type": "code",
      "metadata": {
        "id": "ModGVCTydxRv",
        "cellView": "form"
      },
      "source": [
        "#@title Solução\n",
        "y = y * 3\n",
        "print(y)"
      ],
      "execution_count": null,
      "outputs": []
    },
    {
      "cell_type": "markdown",
      "metadata": {
        "id": "aZs_vY3Cd4fK"
      },
      "source": [
        "### Exercício 7\n",
        "Crie uma variável que contenha o seu nome 10 vezes, utilizando a variável `nome`."
      ]
    },
    {
      "cell_type": "code",
      "metadata": {
        "id": "q84wpuDzd1XL",
        "colab": {
          "base_uri": "https://localhost:8080/",
          "height": 35
        },
        "outputId": "38b26c5b-f641-4049-d83f-6693062b2575"
      },
      "source": [
        "# resultado\n",
        "nomeNome = nome * 10\n",
        "nomeNome"
      ],
      "execution_count": 51,
      "outputs": [
        {
          "output_type": "execute_result",
          "data": {
            "application/vnd.google.colaboratory.intrinsic+json": {
              "type": "string"
            },
            "text/plain": [
              "'FernandoFernandoFernandoFernandoFernandoFernandoFernandoFernandoFernandoFernando'"
            ]
          },
          "metadata": {
            "tags": []
          },
          "execution_count": 51
        }
      ]
    },
    {
      "cell_type": "code",
      "metadata": {
        "id": "rIniv6jMeCrV",
        "cellView": "form",
        "colab": {
          "base_uri": "https://localhost:8080/"
        },
        "outputId": "0979cfac-8275-4ae1-b1ab-9dc373194da5"
      },
      "source": [
        "#@title Solução\n",
        "nome = nome * 10\n",
        "print(nome)"
      ],
      "execution_count": 52,
      "outputs": [
        {
          "output_type": "stream",
          "text": [
            "FernandoFernandoFernandoFernandoFernandoFernandoFernandoFernandoFernandoFernando\n"
          ],
          "name": "stdout"
        }
      ]
    },
    {
      "cell_type": "code",
      "metadata": {
        "id": "cEWTrH0yeGVa"
      },
      "source": [
        ""
      ],
      "execution_count": null,
      "outputs": []
    }
  ]
}