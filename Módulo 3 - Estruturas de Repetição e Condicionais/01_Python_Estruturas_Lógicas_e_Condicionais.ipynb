{
  "nbformat": 4,
  "nbformat_minor": 0,
  "metadata": {
    "colab": {
      "name": "01_Python_Estruturas_Lógicas_e_Condicionais.ipynb",
      "provenance": [],
      "collapsed_sections": []
    },
    "kernelspec": {
      "name": "python3",
      "display_name": "Python 3"
    }
  },
  "cells": [
    {
      "cell_type": "markdown",
      "metadata": {
        "id": "sZ5OjtVEoFUF"
      },
      "source": [
        "# Estruturas de Repetição e Condicionais\n",
        "\n",
        "Nesta aula, você irá aprender algumas das principais estruturas lógicas e condicionais, que irão agregar muitas funcionalidades para o seu código.\n",
        "\n",
        "Obviamente, as estruturas existentes são bem mais extensas que as apresentadas aqui. Porém, aqui você terá uma visão geral daquelas que fazem mais sentido neste momento, com foco sempre no curso Data Science na Prática.\n",
        "\n",
        "É importante ressaltar que a identação é muito importante aqui, pois podemos encontrar erros simplesmente por não ter feito a identação corretamente. Portanto, muita atenção ao criar essas estruturas."
      ]
    },
    {
      "cell_type": "markdown",
      "metadata": {
        "id": "mbfYlMXJoV-f"
      },
      "source": [
        "### If Statement\n",
        "\n",
        "Faz uma análise baseada em condições. Pode rodar ou pular frações de códigos, dependendo se a condição recebe um `True` ou `False`."
      ]
    },
    {
      "cell_type": "code",
      "metadata": {
        "id": "m7c_LRMxpCdB",
        "colab": {
          "base_uri": "https://localhost:8080/"
        },
        "outputId": "4ede33de-6ad9-484b-fed0-6da6386dd1e2"
      },
      "source": [
        "carlos = 35\n",
        "\n",
        "if carlos >= 18:\n",
        "    print(\"Pode comprar bebida.\")\n",
        "else:\n",
        "    print(\"Não pode comprar bebida.\")"
      ],
      "execution_count": 1,
      "outputs": [
        {
          "output_type": "stream",
          "text": [
            "Pode comprar bebida.\n"
          ],
          "name": "stdout"
        }
      ]
    },
    {
      "cell_type": "code",
      "metadata": {
        "id": "0Bn4A19GpcL3",
        "colab": {
          "base_uri": "https://localhost:8080/"
        },
        "outputId": "6b8320ce-ad81-4e9d-fd0b-6d1e70758262"
      },
      "source": [
        "pedro = 17\n",
        "\n",
        "if pedro >= 18:\n",
        "    print(\"Pode comprar bebida.\")\n",
        "else:\n",
        "    print(\"Não pode comprar bebida.\")"
      ],
      "execution_count": 2,
      "outputs": [
        {
          "output_type": "stream",
          "text": [
            "Não pode comprar bebida.\n"
          ],
          "name": "stdout"
        }
      ]
    },
    {
      "cell_type": "code",
      "metadata": {
        "id": "iTFHgrTvpeyU",
        "colab": {
          "base_uri": "https://localhost:8080/"
        },
        "outputId": "2a605f36-cf57-4ddc-f6c0-0ef10b5fc4bd"
      },
      "source": [
        "carlos_idade = 35\n",
        "carlos_cnh = True\n",
        "carlos_pontos_cnh = 16\n",
        "\n",
        "if carlos_idade >= 18 and carlos_cnh and carlos_pontos_cnh < 20:\n",
        "    print(\"Pode alugar carro!\")\n",
        "else:\n",
        "    print(\"Não pode alugar carro.\")"
      ],
      "execution_count": 6,
      "outputs": [
        {
          "output_type": "stream",
          "text": [
            "Pode alugar carro!\n"
          ],
          "name": "stdout"
        }
      ]
    },
    {
      "cell_type": "code",
      "metadata": {
        "id": "VnwUp9F9qSXZ",
        "colab": {
          "base_uri": "https://localhost:8080/"
        },
        "outputId": "ec19e123-1598-4865-d9a0-f012d3fe7669"
      },
      "source": [
        "saldo = 100.00\n",
        "compra_efetuada = 25.90\n",
        "\n",
        "print(\"Saldo Inicial:\", saldo)\n",
        "if compra_efetuada:\n",
        "    saldo = saldo - compra_efetuada\n",
        "    print(\"Saldo Atual:\", saldo)"
      ],
      "execution_count": 8,
      "outputs": [
        {
          "output_type": "stream",
          "text": [
            "Saldo Inicial: 100.0\n",
            "Saldo Atual: 74.1\n"
          ],
          "name": "stdout"
        }
      ]
    },
    {
      "cell_type": "markdown",
      "metadata": {
        "id": "yjmePENrrSmt"
      },
      "source": [
        "### For Loops\n",
        "\n",
        "Permite que você repita pedaçõs de códigos, evitando que você tenha que repetir códigos manualmente. Permite que você execute uma determinada ação até que uma determinada condição tenha sido atingida."
      ]
    },
    {
      "cell_type": "code",
      "metadata": {
        "id": "VcHnzvgJr1qO",
        "colab": {
          "base_uri": "https://localhost:8080/"
        },
        "outputId": "1d48d289-3a3b-41b4-ca1a-d090cdfe2a56"
      },
      "source": [
        "for i in range(10):\n",
        "    print(i)"
      ],
      "execution_count": 9,
      "outputs": [
        {
          "output_type": "stream",
          "text": [
            "0\n",
            "1\n",
            "2\n",
            "3\n",
            "4\n",
            "5\n",
            "6\n",
            "7\n",
            "8\n",
            "9\n"
          ],
          "name": "stdout"
        }
      ]
    },
    {
      "cell_type": "code",
      "metadata": {
        "colab": {
          "base_uri": "https://localhost:8080/"
        },
        "id": "uruO_VNKL-fV",
        "outputId": "ac74703a-9747-494e-b465-51876ffd9972"
      },
      "source": [
        "# nesse exemplo instanciamos o range para começar do 0 até o 11\n",
        "# com dois passos - ele vai pular de dois em dois\n",
        "for i in range(0, 11, 2):\n",
        "  print(i)"
      ],
      "execution_count": 10,
      "outputs": [
        {
          "output_type": "stream",
          "text": [
            "0\n",
            "2\n",
            "4\n",
            "6\n",
            "8\n",
            "10\n"
          ],
          "name": "stdout"
        }
      ]
    },
    {
      "cell_type": "code",
      "metadata": {
        "id": "6UDVWn7erUKD",
        "colab": {
          "base_uri": "https://localhost:8080/",
          "height": 89
        },
        "outputId": "dcbc3e47-0f15-4d98-c565-ecbbc49d0cfa"
      },
      "source": [
        "lista_convidados = [\"Carlos\", \"Fernanda\", \"Theo\", \"Snow\"]\n",
        "\n",
        "for i in lista_convidados:\n",
        "    print(i)"
      ],
      "execution_count": null,
      "outputs": [
        {
          "output_type": "stream",
          "text": [
            "Carlos\n",
            "Fernanda\n",
            "Theo\n",
            "Snow\n"
          ],
          "name": "stdout"
        }
      ]
    },
    {
      "cell_type": "code",
      "metadata": {
        "id": "I4meWtCjsEXA",
        "colab": {
          "base_uri": "https://localhost:8080/"
        },
        "outputId": "fc110279-53ce-44a3-d3f6-a02526785717"
      },
      "source": [
        "for i in range(11):\n",
        "    resultado = i * 8\n",
        "    print(\"8 x\", i, \"=\", resultado)"
      ],
      "execution_count": 18,
      "outputs": [
        {
          "output_type": "stream",
          "text": [
            "8 x 0 = 0\n",
            "8 x 1 = 8\n",
            "8 x 2 = 16\n",
            "8 x 3 = 24\n",
            "8 x 4 = 32\n",
            "8 x 5 = 40\n",
            "8 x 6 = 48\n",
            "8 x 7 = 56\n",
            "8 x 8 = 64\n",
            "8 x 9 = 72\n",
            "8 x 10 = 80\n"
          ],
          "name": "stdout"
        }
      ]
    },
    {
      "cell_type": "code",
      "metadata": {
        "colab": {
          "base_uri": "https://localhost:8080/"
        },
        "id": "R89mHAI7M1Tj",
        "outputId": "103456f7-f5e1-4924-be34-56df51a18cb2"
      },
      "source": [
        "x = input('Digite a tabúada que deseja: ')\n",
        "x = int(x)\n",
        "print(f'\\n\\tTABÚADA DO {x}\\n')\n",
        "\n",
        "for i in range(11):\n",
        "  resultado = i * x\n",
        "  print(f'\\t{x} X', i, '=', resultado)"
      ],
      "execution_count": 43,
      "outputs": [
        {
          "output_type": "stream",
          "text": [
            "Digite a tabúada que deseja: 7\n",
            "\n",
            "\tTABÚADA DO 7\n",
            "\n",
            "\t7 X 0 = 0\n",
            "\t7 X 1 = 7\n",
            "\t7 X 2 = 14\n",
            "\t7 X 3 = 21\n",
            "\t7 X 4 = 28\n",
            "\t7 X 5 = 35\n",
            "\t7 X 6 = 42\n",
            "\t7 X 7 = 49\n",
            "\t7 X 8 = 56\n",
            "\t7 X 9 = 63\n",
            "\t7 X 10 = 70\n"
          ],
          "name": "stdout"
        }
      ]
    },
    {
      "cell_type": "markdown",
      "metadata": {
        "id": "X-utqQV7sVFK"
      },
      "source": [
        "### While Loops\n",
        "\n",
        "Similar ao `for` *loop*, o `while` *loop* cria uma repetição em cima de determinada ação. No entanto, enquanto no *for* nós indicávamos a quantidade de vezes que determinada ação deveria ser executada, o *while* continua repetindo uma ação até que determinada condição de parada seja atingida."
      ]
    },
    {
      "cell_type": "code",
      "metadata": {
        "id": "CJ_NljR_tE_p",
        "colab": {
          "base_uri": "https://localhost:8080/"
        },
        "outputId": "a0c40952-f773-4b15-e795-7651645db450"
      },
      "source": [
        "saldo = 300.00\n",
        "preco_pizza = 80.50\n",
        "\n",
        "counter = 0\n",
        "while saldo > preco_pizza:\n",
        "    counter = counter + 1\n",
        "    saldo = saldo - preco_pizza\n",
        "\n",
        "print(\"Você comprou\", counter, \"pizzas!\")\n",
        "print(\"Saldo remanescente: \", saldo)"
      ],
      "execution_count": 44,
      "outputs": [
        {
          "output_type": "stream",
          "text": [
            "Você comprou 3 pizzas!\n",
            "Saldo remanescente:  58.5\n"
          ],
          "name": "stdout"
        }
      ]
    },
    {
      "cell_type": "code",
      "metadata": {
        "id": "6J9CfXKutysb",
        "colab": {
          "base_uri": "https://localhost:8080/"
        },
        "outputId": "d9b3e19c-f89b-493e-9b4b-1b0d40cf921d"
      },
      "source": [
        "validade_yakult = 10\n",
        "\n",
        "while validade_yakult > 0:\n",
        "    print(\"[+] Produto na validade. Faltam\", validade_yakult, \"dias.\")\n",
        "    validade_yakult -= 1\n",
        "\n",
        "print(\"[-] ATENÇÃO: Yogurt vencido. Faltam\", validade_yakult, \"dias.\")"
      ],
      "execution_count": 45,
      "outputs": [
        {
          "output_type": "stream",
          "text": [
            "[+] Produto na validade. Faltam 10 dias.\n",
            "[+] Produto na validade. Faltam 9 dias.\n",
            "[+] Produto na validade. Faltam 8 dias.\n",
            "[+] Produto na validade. Faltam 7 dias.\n",
            "[+] Produto na validade. Faltam 6 dias.\n",
            "[+] Produto na validade. Faltam 5 dias.\n",
            "[+] Produto na validade. Faltam 4 dias.\n",
            "[+] Produto na validade. Faltam 3 dias.\n",
            "[+] Produto na validade. Faltam 2 dias.\n",
            "[+] Produto na validade. Faltam 1 dias.\n",
            "[-] ATENÇÃO: Yogurt vencido. Faltam 0 dias.\n"
          ],
          "name": "stdout"
        }
      ]
    },
    {
      "cell_type": "markdown",
      "metadata": {
        "id": "ObJ8s4032qQ_"
      },
      "source": [
        "## Exercícios\n",
        "Agora estamos prontos para colocar a mão na massa e criar algumas estruturas condicionais.\n"
      ]
    },
    {
      "cell_type": "markdown",
      "metadata": {
        "id": "v4NYJnMa467s"
      },
      "source": [
        "### Exercício 1\n",
        "Crie uma estrutura condicional para verificar se a pessoa pode alugar um carro."
      ]
    },
    {
      "cell_type": "code",
      "metadata": {
        "id": "ySFtnZNnubyS",
        "colab": {
          "base_uri": "https://localhost:8080/"
        },
        "outputId": "2f01a879-24e4-4f0f-9254-9f8e86c34c11"
      },
      "source": [
        "# resposta\n",
        "idade = 25\n",
        "cnh = True\n",
        "ptsCnh = 0\n",
        "\n",
        "if idade >= 15 and cnh == True and ptsCnh < 21:\n",
        "  print('Você pode alugar um carro ;)')\n",
        "\n",
        "else:\n",
        "  print('Infelizmente você não pode alugar um carro!')\n",
        "\n",
        "\n"
      ],
      "execution_count": 47,
      "outputs": [
        {
          "output_type": "stream",
          "text": [
            "Você pode alugar um carro ;)\n"
          ],
          "name": "stdout"
        }
      ]
    },
    {
      "cell_type": "code",
      "metadata": {
        "id": "F5SWy7g75skL",
        "colab": {
          "base_uri": "https://localhost:8080/"
        },
        "outputId": "cd19b97b-2d05-43cb-9a4f-7e2023670903"
      },
      "source": [
        "#@title Solução\n",
        "idade= 25\n",
        "cnh = True\n",
        "\n",
        "if idade >= 21 & cnh == True:\n",
        "  print(\"Você pode alugar um carro.\")\n",
        "else:\n",
        "  print(\"Você não pode alugar um carro.\")"
      ],
      "execution_count": 46,
      "outputs": [
        {
          "output_type": "stream",
          "text": [
            "Você pode alugar um carro.\n"
          ],
          "name": "stdout"
        }
      ]
    },
    {
      "cell_type": "markdown",
      "metadata": {
        "id": "7uzqD0Gg7U01"
      },
      "source": [
        "### Exercício 2\n",
        "Crie uma lista com 5 elementos, e crie uma estrutura condicional para listar todos os items da lista."
      ]
    },
    {
      "cell_type": "code",
      "metadata": {
        "id": "wWADidSy6hMx",
        "colab": {
          "base_uri": "https://localhost:8080/"
        },
        "outputId": "c5560c1b-0c7d-4218-d5d7-97945032dec3"
      },
      "source": [
        "# resposta\n",
        "\n",
        "nomes = ['Fernando', 'Kátia', 'Sara', 'Eloah', 'Mel']\n",
        "\n",
        "for i in nomes:\n",
        "  print(i)\n"
      ],
      "execution_count": 50,
      "outputs": [
        {
          "output_type": "stream",
          "text": [
            "Fernando\n",
            "Kátia\n",
            "Sara\n",
            "Eloah\n",
            "Mel\n"
          ],
          "name": "stdout"
        }
      ]
    },
    {
      "cell_type": "code",
      "metadata": {
        "id": "UbaRLJVS98Ib",
        "colab": {
          "base_uri": "https://localhost:8080/"
        },
        "outputId": "da644e54-7f50-459a-d8ed-6919ca23d9b2"
      },
      "source": [
        "#@title Solução\n",
        "frutas = ['Banana', 'Laranja', 'Macã', 'Abacaxi', 'Morango']\n",
        "\n",
        "for i in frutas:\n",
        "  print(i)"
      ],
      "execution_count": 49,
      "outputs": [
        {
          "output_type": "stream",
          "text": [
            "Banana\n",
            "Laranja\n",
            "Macã\n",
            "Abacaxi\n",
            "Morango\n"
          ],
          "name": "stdout"
        }
      ]
    },
    {
      "cell_type": "markdown",
      "metadata": {
        "id": "PQwcMhc2_afi"
      },
      "source": [
        "### Exercício 3\n",
        "Crie uma estrutura condicional para calcular os dias até o final do mês."
      ]
    },
    {
      "cell_type": "code",
      "metadata": {
        "id": "gwmGPceN-Gkn",
        "colab": {
          "base_uri": "https://localhost:8080/"
        },
        "outputId": "78688d66-36f7-4cc5-8366-2b7d7e94e6d4"
      },
      "source": [
        "# resposta\n",
        "\n",
        "qtdDiasMes = 30\n",
        "dataHoje = 12\n",
        "\n",
        "faltaDiasFimMes = qtdDiasMes - dataHoje\n",
        "\n",
        "while faltaDiasFimMes > 0:\n",
        "  print('Faltam', faltaDiasFimMes, 'dias para o fim do mês!')\n",
        "  faltaDiasFimMes -= 1\n",
        "\n",
        "print('Início do novo mês!')"
      ],
      "execution_count": 57,
      "outputs": [
        {
          "output_type": "stream",
          "text": [
            "Faltam 18 dias para o fim do mês!\n",
            "Faltam 17 dias para o fim do mês!\n",
            "Faltam 16 dias para o fim do mês!\n",
            "Faltam 15 dias para o fim do mês!\n",
            "Faltam 14 dias para o fim do mês!\n",
            "Faltam 13 dias para o fim do mês!\n",
            "Faltam 12 dias para o fim do mês!\n",
            "Faltam 11 dias para o fim do mês!\n",
            "Faltam 10 dias para o fim do mês!\n",
            "Faltam 9 dias para o fim do mês!\n",
            "Faltam 8 dias para o fim do mês!\n",
            "Faltam 7 dias para o fim do mês!\n",
            "Faltam 6 dias para o fim do mês!\n",
            "Faltam 5 dias para o fim do mês!\n",
            "Faltam 4 dias para o fim do mês!\n",
            "Faltam 3 dias para o fim do mês!\n",
            "Faltam 2 dias para o fim do mês!\n",
            "Faltam 1 dias para o fim do mês!\n",
            "Início do novo mês!\n"
          ],
          "name": "stdout"
        }
      ]
    },
    {
      "cell_type": "code",
      "metadata": {
        "colab": {
          "base_uri": "https://localhost:8080/"
        },
        "id": "gopDjpwvUOis",
        "outputId": "6fa8bfad-be82-46c1-bdea-209829d0ab67"
      },
      "source": [
        "# outra solução\n",
        "\n",
        "diaAtual = input('Digite o dia do mês hoje: ')\n",
        "qtdDiasMes = input('Digite a quantidade de dias do mês corrente: ')\n",
        "print('')\n",
        "\n",
        "faltaDiasFimMes = int(qtdDiasMes) - int(diaAtual)\n",
        "faltaDiasFimMes\n",
        "\n",
        "while faltaDiasFimMes > 0:\n",
        "  print(f'\\tFaltam {faltaDiasFimMes} dia(s) para acabar o mês!')\n",
        "  faltaDiasFimMes -= 1\n",
        "\n",
        "print('\\n\\tInício do novo mês!')"
      ],
      "execution_count": 65,
      "outputs": [
        {
          "output_type": "stream",
          "text": [
            "Digite o dia do mês hoje: 16\n",
            "Digite a quantidade de dias do mês corrente: 31\n",
            "\n",
            "\tFaltam 15 dia(s) para acabar o mês!\n",
            "\tFaltam 14 dia(s) para acabar o mês!\n",
            "\tFaltam 13 dia(s) para acabar o mês!\n",
            "\tFaltam 12 dia(s) para acabar o mês!\n",
            "\tFaltam 11 dia(s) para acabar o mês!\n",
            "\tFaltam 10 dia(s) para acabar o mês!\n",
            "\tFaltam 9 dia(s) para acabar o mês!\n",
            "\tFaltam 8 dia(s) para acabar o mês!\n",
            "\tFaltam 7 dia(s) para acabar o mês!\n",
            "\tFaltam 6 dia(s) para acabar o mês!\n",
            "\tFaltam 5 dia(s) para acabar o mês!\n",
            "\tFaltam 4 dia(s) para acabar o mês!\n",
            "\tFaltam 3 dia(s) para acabar o mês!\n",
            "\tFaltam 2 dia(s) para acabar o mês!\n",
            "\tFaltam 1 dia(s) para acabar o mês!\n",
            "\n",
            "\tInício do novo mês!\n"
          ],
          "name": "stdout"
        }
      ]
    },
    {
      "cell_type": "code",
      "metadata": {
        "id": "iIB8Zjag_q3r"
      },
      "source": [
        "#@title Solução\n",
        "data = 9\n",
        "\n",
        "while data > 0:\n",
        "    print(\"Faltam\", data, \"dias para o fim do mês.\")\n",
        "    data -= 1\n",
        "\n",
        "print(\"Início do novo mês!\")"
      ],
      "execution_count": null,
      "outputs": []
    },
    {
      "cell_type": "code",
      "metadata": {
        "id": "azptzq2QAm5X"
      },
      "source": [
        ""
      ],
      "execution_count": null,
      "outputs": []
    }
  ]
}