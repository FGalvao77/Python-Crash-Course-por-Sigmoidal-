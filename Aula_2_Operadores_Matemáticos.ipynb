{
  "nbformat": 4,
  "nbformat_minor": 0,
  "metadata": {
    "colab": {
      "name": "Aula 2 - Operadores Matemáticos.ipynb",
      "provenance": [],
      "collapsed_sections": [],
      "authorship_tag": "ABX9TyNdy9XRCSJgAUrRomnPx78M"
    },
    "kernelspec": {
      "name": "python3",
      "display_name": "Python 3"
    },
    "language_info": {
      "name": "python"
    }
  },
  "cells": [
    {
      "cell_type": "markdown",
      "metadata": {
        "id": "iArjw_dE6FkV"
      },
      "source": [
        "Os operadores aritméticos do Python são:\n",
        "\n",
        "    + Adição\n",
        "    - Subtração\n",
        "    * Multiplicação\n",
        "    / Divisão\n",
        "    ** Exponenciação\n",
        "    // Divisão (resultado inteiro)\n",
        "    % Resto da divisão\n",
        "\n",
        "Vamos ver exemplos de uso desses operadores."
      ]
    },
    {
      "cell_type": "code",
      "metadata": {
        "colab": {
          "base_uri": "https://localhost:8080/"
        },
        "id": "MA_bAqPO4xEZ",
        "outputId": "0af9323b-9e23-41a0-e56c-15104eed1cd0"
      },
      "source": [
        "# adição\n",
        "5 + 7"
      ],
      "execution_count": 1,
      "outputs": [
        {
          "output_type": "execute_result",
          "data": {
            "text/plain": [
              "12"
            ]
          },
          "metadata": {
            "tags": []
          },
          "execution_count": 1
        }
      ]
    },
    {
      "cell_type": "code",
      "metadata": {
        "colab": {
          "base_uri": "https://localhost:8080/"
        },
        "id": "QoJTAMfm4-27",
        "outputId": "9dbbd0a4-00fc-41d1-ec59-00523f638b22"
      },
      "source": [
        "# subtração\n",
        "12 - 27"
      ],
      "execution_count": 2,
      "outputs": [
        {
          "output_type": "execute_result",
          "data": {
            "text/plain": [
              "-15"
            ]
          },
          "metadata": {
            "tags": []
          },
          "execution_count": 2
        }
      ]
    },
    {
      "cell_type": "code",
      "metadata": {
        "colab": {
          "base_uri": "https://localhost:8080/"
        },
        "id": "8PjcBwuK4-0G",
        "outputId": "bc2bf0f6-0d57-4be3-af62-ea9b376400e0"
      },
      "source": [
        "# multiplicação\n",
        "8 * 9"
      ],
      "execution_count": 3,
      "outputs": [
        {
          "output_type": "execute_result",
          "data": {
            "text/plain": [
              "72"
            ]
          },
          "metadata": {
            "tags": []
          },
          "execution_count": 3
        }
      ]
    },
    {
      "cell_type": "code",
      "metadata": {
        "colab": {
          "base_uri": "https://localhost:8080/"
        },
        "id": "K17bCAWK4-yO",
        "outputId": "571de4f9-f6f8-4368-c5d8-b709d54b406f"
      },
      "source": [
        "# divisão\n",
        "7 / 2"
      ],
      "execution_count": 8,
      "outputs": [
        {
          "output_type": "execute_result",
          "data": {
            "text/plain": [
              "3.5"
            ]
          },
          "metadata": {
            "tags": []
          },
          "execution_count": 8
        }
      ]
    },
    {
      "cell_type": "code",
      "metadata": {
        "colab": {
          "base_uri": "https://localhost:8080/"
        },
        "id": "gUfeT8TT4-vC",
        "outputId": "1d3ce1c1-13ad-4bd7-a26e-db9915623d7e"
      },
      "source": [
        "# exponenciação\n",
        "2 ** 4"
      ],
      "execution_count": 6,
      "outputs": [
        {
          "output_type": "execute_result",
          "data": {
            "text/plain": [
              "16"
            ]
          },
          "metadata": {
            "tags": []
          },
          "execution_count": 6
        }
      ]
    },
    {
      "cell_type": "code",
      "metadata": {
        "colab": {
          "base_uri": "https://localhost:8080/"
        },
        "id": "ufwqDFFd4-sT",
        "outputId": "39a82ad2-521e-4d32-9bb4-9ad0ba4d5370"
      },
      "source": [
        "# divisão (resultado inteiro)\n",
        "7 // 2"
      ],
      "execution_count": 7,
      "outputs": [
        {
          "output_type": "execute_result",
          "data": {
            "text/plain": [
              "3"
            ]
          },
          "metadata": {
            "tags": []
          },
          "execution_count": 7
        }
      ]
    },
    {
      "cell_type": "code",
      "metadata": {
        "colab": {
          "base_uri": "https://localhost:8080/"
        },
        "id": "nBaF44Ms7WZa",
        "outputId": "adbbd6af-8571-4284-bf0d-22432684917c"
      },
      "source": [
        "# resto da divisão\n",
        "7 % 2"
      ],
      "execution_count": 9,
      "outputs": [
        {
          "output_type": "execute_result",
          "data": {
            "text/plain": [
              "1"
            ]
          },
          "metadata": {
            "tags": []
          },
          "execution_count": 9
        }
      ]
    }
  ]
}