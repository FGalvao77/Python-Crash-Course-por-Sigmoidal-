{
  "nbformat": 4,
  "nbformat_minor": 0,
  "metadata": {
    "colab": {
      "name": "01_Funções.ipynb",
      "provenance": [],
      "collapsed_sections": []
    },
    "kernelspec": {
      "name": "python3",
      "display_name": "Python 3"
    }
  },
  "cells": [
    {
      "cell_type": "code",
      "metadata": {
        "id": "1LgKXX7wiftk",
        "colab": {
          "base_uri": "https://localhost:8080/"
        },
        "outputId": "1380bdf8-862e-4c0a-e785-cae205da007d"
      },
      "source": [
        "a = 34\n",
        " \n",
        "def imprimir_variavel():\n",
        "    a = 12\n",
        "    print(a)\n",
        " \n",
        "print(a)\n",
        "imprimir_variavel()\n",
        "print(a)"
      ],
      "execution_count": null,
      "outputs": [
        {
          "output_type": "stream",
          "text": [
            "34\n",
            "12\n",
            "34\n"
          ],
          "name": "stdout"
        }
      ]
    },
    {
      "cell_type": "code",
      "metadata": {
        "id": "mutr-TnKlbjv"
      },
      "source": [
        "def elevar_quadrado(numero):\n",
        "    resultado = numero ** 2\n",
        "    return resultado"
      ],
      "execution_count": null,
      "outputs": []
    },
    {
      "cell_type": "code",
      "metadata": {
        "id": "VncsKQcelbba"
      },
      "source": [
        "meu_valor_calculado = elevar_quadrado(5)"
      ],
      "execution_count": null,
      "outputs": []
    },
    {
      "cell_type": "code",
      "metadata": {
        "id": "4NrlrFTXiuRv",
        "colab": {
          "base_uri": "https://localhost:8080/"
        },
        "outputId": "1e823c02-f9ce-4041-b9b9-28c7a0217328"
      },
      "source": [
        "meu_valor_calculado"
      ],
      "execution_count": null,
      "outputs": [
        {
          "output_type": "execute_result",
          "data": {
            "text/plain": [
              "25"
            ]
          },
          "metadata": {
            "tags": []
          },
          "execution_count": 4
        }
      ]
    },
    {
      "cell_type": "code",
      "metadata": {
        "id": "zJrljEQljOI4"
      },
      "source": [
        "def calcular():\n",
        "  a = 2\n",
        "  b = 3\n",
        "  \n",
        "  soma = a + b\n",
        "  \n",
        "  print(soma)\n",
        "\n",
        "calcular()\n",
        "\n",
        "print(soma)"
      ],
      "execution_count": null,
      "outputs": []
    },
    {
      "cell_type": "code",
      "metadata": {
        "id": "Ze7f6M1un6vF"
      },
      "source": [
        "def verificar_motorista(idade, cnh):\n",
        "    verificacao = (idade >= 18) and (cnh)\n",
        "    return verificacao"
      ],
      "execution_count": null,
      "outputs": []
    },
    {
      "cell_type": "code",
      "metadata": {
        "id": "KkVXbxcUoSW0",
        "colab": {
          "base_uri": "https://localhost:8080/"
        },
        "outputId": "4966aef4-14fa-4571-df33-f7968980f3cc"
      },
      "source": [
        "verificar_motorista(23, True)"
      ],
      "execution_count": null,
      "outputs": [
        {
          "output_type": "execute_result",
          "data": {
            "text/plain": [
              "True"
            ]
          },
          "metadata": {
            "tags": []
          },
          "execution_count": 7
        }
      ]
    },
    {
      "cell_type": "code",
      "metadata": {
        "colab": {
          "base_uri": "https://localhost:8080/"
        },
        "id": "ZbRZEwq7hNqg",
        "outputId": "f0913dfe-c07a-4775-b65f-5b29c703f3bb"
      },
      "source": [
        "verificar_motorista(18, False)"
      ],
      "execution_count": null,
      "outputs": [
        {
          "output_type": "execute_result",
          "data": {
            "text/plain": [
              "False"
            ]
          },
          "metadata": {
            "tags": []
          },
          "execution_count": 14
        }
      ]
    },
    {
      "cell_type": "code",
      "metadata": {
        "id": "_yGpKgN1on_t"
      },
      "source": [
        "elevar = lambda x: x ** 2 "
      ],
      "execution_count": null,
      "outputs": []
    },
    {
      "cell_type": "code",
      "metadata": {
        "id": "2ukm14FIo6u3",
        "colab": {
          "base_uri": "https://localhost:8080/"
        },
        "outputId": "5bde43fa-7908-4215-c40f-a9ab688d12de"
      },
      "source": [
        "elevar(5)"
      ],
      "execution_count": null,
      "outputs": [
        {
          "output_type": "execute_result",
          "data": {
            "text/plain": [
              "25"
            ]
          },
          "metadata": {
            "tags": []
          },
          "execution_count": 16
        }
      ]
    },
    {
      "cell_type": "code",
      "metadata": {
        "colab": {
          "base_uri": "https://localhost:8080/"
        },
        "id": "a282mpjlheGR",
        "outputId": "0624faca-a2b8-4398-b0de-ab33c006f53f"
      },
      "source": [
        "elevar(4)"
      ],
      "execution_count": null,
      "outputs": [
        {
          "output_type": "execute_result",
          "data": {
            "text/plain": [
              "16"
            ]
          },
          "metadata": {
            "tags": []
          },
          "execution_count": 17
        }
      ]
    },
    {
      "cell_type": "code",
      "metadata": {
        "id": "BkQNTFBKpG5P"
      },
      "source": [
        "df.colunaA.apply(lambda x: x ** 2)"
      ],
      "execution_count": null,
      "outputs": []
    },
    {
      "cell_type": "markdown",
      "metadata": {
        "id": "oTvA852NjURa"
      },
      "source": [
        "# Exercícios"
      ]
    },
    {
      "cell_type": "markdown",
      "metadata": {
        "id": "UpGkAmmimHrp"
      },
      "source": [
        "**Escreva uma função que imprima o seu nome na tela**"
      ]
    },
    {
      "cell_type": "code",
      "metadata": {
        "id": "XFPNg56JmOYC",
        "colab": {
          "base_uri": "https://localhost:8080/"
        },
        "outputId": "ae02dea8-8656-4439-e236-527a3c9d8326"
      },
      "source": [
        "def printingYourName():\n",
        "  print('Fernando Galvão')\n",
        "\n",
        "printingYourName()"
      ],
      "execution_count": null,
      "outputs": [
        {
          "output_type": "stream",
          "text": [
            "Fernando Galvão\n"
          ],
          "name": "stdout"
        }
      ]
    },
    {
      "cell_type": "code",
      "metadata": {
        "id": "I9JP1OSai6vF"
      },
      "source": [
        "def printingYourName(nome, sobrenome):\n",
        "  fullName = nome + ' ' + sobrenome\n",
        "  return fullName.title()"
      ],
      "execution_count": null,
      "outputs": []
    },
    {
      "cell_type": "code",
      "metadata": {
        "colab": {
          "base_uri": "https://localhost:8080/"
        },
        "id": "r1nQb2xyjDQi",
        "outputId": "d5550132-28c8-4e84-dfcd-220890ce93a8"
      },
      "source": [
        "user_01 = printingYourName('fernando', 'galvão')\n",
        "print(user_01)"
      ],
      "execution_count": null,
      "outputs": [
        {
          "output_type": "stream",
          "text": [
            "Fernando Galvão\n"
          ],
          "name": "stdout"
        }
      ]
    },
    {
      "cell_type": "code",
      "metadata": {
        "colab": {
          "base_uri": "https://localhost:8080/",
          "height": 35
        },
        "id": "QWc38f4WkWlK",
        "outputId": "2a72a978-c492-43fd-b355-38b3b216b997"
      },
      "source": [
        "user_02 = printingYourName('kátia', 'galvão')\n",
        "user_02"
      ],
      "execution_count": null,
      "outputs": [
        {
          "output_type": "execute_result",
          "data": {
            "application/vnd.google.colaboratory.intrinsic+json": {
              "type": "string"
            },
            "text/plain": [
              "'Kátia Galvão'"
            ]
          },
          "metadata": {
            "tags": []
          },
          "execution_count": 51
        }
      ]
    },
    {
      "cell_type": "code",
      "metadata": {
        "colab": {
          "base_uri": "https://localhost:8080/",
          "height": 35
        },
        "id": "ZOPniIYykqzG",
        "outputId": "891381f6-d76c-42f8-ddd0-cec048c8adc5"
      },
      "source": [
        "user_03 = printingYourName('sara', 'galvão')\n",
        "user_03"
      ],
      "execution_count": null,
      "outputs": [
        {
          "output_type": "execute_result",
          "data": {
            "application/vnd.google.colaboratory.intrinsic+json": {
              "type": "string"
            },
            "text/plain": [
              "'Sara Galvão'"
            ]
          },
          "metadata": {
            "tags": []
          },
          "execution_count": 52
        }
      ]
    },
    {
      "cell_type": "code",
      "metadata": {
        "colab": {
          "base_uri": "https://localhost:8080/",
          "height": 35
        },
        "id": "Lzqu1sjqkx0V",
        "outputId": "2ee65012-b80f-4437-8a53-9f07d5125791"
      },
      "source": [
        "user_04 = printingYourName('eloah', 'galvão')\n",
        "user_04"
      ],
      "execution_count": null,
      "outputs": [
        {
          "output_type": "execute_result",
          "data": {
            "application/vnd.google.colaboratory.intrinsic+json": {
              "type": "string"
            },
            "text/plain": [
              "'Eloah Galvão'"
            ]
          },
          "metadata": {
            "tags": []
          },
          "execution_count": 53
        }
      ]
    },
    {
      "cell_type": "code",
      "metadata": {
        "colab": {
          "base_uri": "https://localhost:8080/"
        },
        "id": "V5xyJhR_k5ls",
        "outputId": "ca5d3e99-2278-4f6b-8220-27958905b65b"
      },
      "source": [
        "print(f'{user_01} \\n{user_02} \\n{user_03} \\n{user_04}')"
      ],
      "execution_count": null,
      "outputs": [
        {
          "output_type": "stream",
          "text": [
            "Fernando Galvão \n",
            "Kátia Galvão \n",
            "Sara Galvão \n",
            "Eloah Galvão\n"
          ],
          "name": "stdout"
        }
      ]
    },
    {
      "cell_type": "code",
      "metadata": {
        "id": "gIusTVv1mPG6",
        "colab": {
          "base_uri": "https://localhost:8080/"
        },
        "outputId": "5079f34e-dfab-4856-9221-319299d2c478"
      },
      "source": [
        "#@title\n",
        "def imprimir_nome():\n",
        "    print(\"Nome de Sobrenome\")\n",
        "\n",
        "\n",
        "imprimir_nome()"
      ],
      "execution_count": null,
      "outputs": [
        {
          "output_type": "stream",
          "text": [
            "Nome de Sobrenome\n"
          ],
          "name": "stdout"
        }
      ]
    },
    {
      "cell_type": "markdown",
      "metadata": {
        "id": "s4GrKFUfmTiX"
      },
      "source": [
        "**Escreva uma função que some 3 números informados no argumento**"
      ]
    },
    {
      "cell_type": "code",
      "metadata": {
        "id": "fFYW3uYem-aJ"
      },
      "source": [
        "def soma(x, y, z):\n",
        "  resultado = x + y + z\n",
        "  return resultado"
      ],
      "execution_count": null,
      "outputs": []
    },
    {
      "cell_type": "code",
      "metadata": {
        "colab": {
          "base_uri": "https://localhost:8080/"
        },
        "id": "HRgrCPgTl3ao",
        "outputId": "7d2d0125-eb4c-491c-9345-1ad5a1e323d3"
      },
      "source": [
        "print(soma(7,5,3))"
      ],
      "execution_count": null,
      "outputs": [
        {
          "output_type": "stream",
          "text": [
            "15\n"
          ],
          "name": "stdout"
        }
      ]
    },
    {
      "cell_type": "code",
      "metadata": {
        "colab": {
          "base_uri": "https://localhost:8080/"
        },
        "id": "cxuFAt5BmGhI",
        "outputId": "fe78c9ed-448e-4d1c-f3c7-b4f700e23312"
      },
      "source": [
        "num_01 = input('Digite o primeiro número: ')\n",
        "num_02 = input('Digite o segundo número: ')\n",
        "num_03 = input('Digite o terceiro número: ')\n",
        "\n",
        "def somarNumeros(num_01, num_02, num_03):\n",
        "  resposta = int(num_01) + int(num_02) + int(num_03)\n",
        "  return resposta\n",
        "\n",
        "print(f'\\nA soma dos números {num_01} + {num_02} + {num_03} é {somarNumeros(num_01, num_02, num_03)}')"
      ],
      "execution_count": null,
      "outputs": [
        {
          "output_type": "stream",
          "text": [
            "Digite o primeiro número: 3\n",
            "Digite o segundo número: 7\n",
            "Digite o terceiro número: 2\n",
            "\n",
            "A soma dos números 3 + 7 + 2 é 12\n"
          ],
          "name": "stdout"
        }
      ]
    },
    {
      "cell_type": "code",
      "metadata": {
        "id": "Z-KVUcyDmZxM",
        "colab": {
          "base_uri": "https://localhost:8080/"
        },
        "outputId": "724baef9-459a-4988-d27a-87a8c46e9ccc"
      },
      "source": [
        "#@title\n",
        "def somar_numeros(a, b, c):\n",
        "    resultado = a + b + c\n",
        "    return resultado\n",
        "\n",
        "\n",
        "somar_numeros(4, 8, 1)"
      ],
      "execution_count": null,
      "outputs": [
        {
          "output_type": "execute_result",
          "data": {
            "text/plain": [
              "13"
            ]
          },
          "metadata": {
            "tags": []
          },
          "execution_count": 61
        }
      ]
    },
    {
      "cell_type": "markdown",
      "metadata": {
        "id": "zKxdbAnymutN"
      },
      "source": [
        "**Escreva uma função que retorne o tamanho de qualquer palavra**"
      ]
    },
    {
      "cell_type": "code",
      "metadata": {
        "id": "HPGgm11bm9oD",
        "colab": {
          "base_uri": "https://localhost:8080/"
        },
        "outputId": "b5fde8ac-c7be-4aac-f334-9e0ac1f89d60"
      },
      "source": [
        "def tamanhoStr(frase):\n",
        "  return len(frase)\n",
        "\n",
        "tamanhoStr('Python é fantástico!')"
      ],
      "execution_count": null,
      "outputs": [
        {
          "output_type": "execute_result",
          "data": {
            "text/plain": [
              "20"
            ]
          },
          "metadata": {
            "tags": []
          },
          "execution_count": 69
        }
      ]
    },
    {
      "cell_type": "code",
      "metadata": {
        "colab": {
          "base_uri": "https://localhost:8080/"
        },
        "id": "JGnacFyxom6v",
        "outputId": "750fd37b-49de-493d-f888-70d3c30895a2"
      },
      "source": [
        "tamanho = input('Digite a frase e/ou palavra: ')\n",
        "\n",
        "def verificarQtdCaracter(tamanho):\n",
        "  return len(tamanho)\n",
        "\n",
        "print(f'\\nA frase e/ou a palavra possui {verificarQtdCaracter(tamanho)} caractere(s).')"
      ],
      "execution_count": null,
      "outputs": [
        {
          "output_type": "stream",
          "text": [
            "Digite a frase e/ou palavra: python\n",
            "\n",
            "A frase e/ou a palavra possui 6 caractere(s).\n"
          ],
          "name": "stdout"
        }
      ]
    },
    {
      "cell_type": "code",
      "metadata": {
        "id": "BTeKehB5nCgx",
        "colab": {
          "base_uri": "https://localhost:8080/"
        },
        "outputId": "d00fef48-daa3-4317-a6b3-0b4b74ecccb5"
      },
      "source": [
        "#@title\n",
        "def tamanho_string(palavra):\n",
        "    return len(palavra)\n",
        "\n",
        "\n",
        "tamanho_string(\"Teste de funcao\")"
      ],
      "execution_count": null,
      "outputs": [
        {
          "output_type": "execute_result",
          "data": {
            "text/plain": [
              "15"
            ]
          },
          "metadata": {
            "tags": []
          },
          "execution_count": 68
        }
      ]
    },
    {
      "cell_type": "markdown",
      "metadata": {
        "id": "Y1lEKQTonNCC"
      },
      "source": [
        "**Escreva uma função que verifica se alguém é maior de 18 anos e se possui habilitação.**"
      ]
    },
    {
      "cell_type": "code",
      "metadata": {
        "id": "ZqDlYl3NnXSO",
        "colab": {
          "base_uri": "https://localhost:8080/"
        },
        "outputId": "09b74dde-3bed-4331-ae28-a42a37969ed4"
      },
      "source": [
        "def verificarMotorista(idade, cnh):\n",
        "  verificado = (idade >= 18) and (cnh)\n",
        "  return verificado\n",
        "\n",
        "verificarMotorista(25, True)"
      ],
      "execution_count": 28,
      "outputs": [
        {
          "output_type": "execute_result",
          "data": {
            "text/plain": [
              "True"
            ]
          },
          "metadata": {
            "tags": []
          },
          "execution_count": 28
        }
      ]
    },
    {
      "cell_type": "code",
      "metadata": {
        "id": "U4wpMXLLrWPC",
        "colab": {
          "base_uri": "https://localhost:8080/"
        },
        "outputId": "a157fed3-38f4-47c1-a9c5-b8606c55e4ff"
      },
      "source": [
        "suaIdade = input('Digite a sua idade: ')\n",
        "possuiCNH = input('Possui CNH? (digite SIM ou NÃO): ').lower()\n",
        " \n",
        "suaIdade = int(suaIdade)\n",
        "\n",
        "def verificarMotorista(suaIdade, possuiCNH):\n",
        "  verificado = (suaIdade >= 18) and (possuiCNH == 'sim')\n",
        "\n",
        "  if verificado == True:\n",
        "    print('\\n\\tVocê pode dirigir ;)')\n",
        "  else:\n",
        "    print('\\n\\tVocê não pode dirigir :(')\n",
        "\n",
        "verificarMotorista(suaIdade, possuiCNH)"
      ],
      "execution_count": 100,
      "outputs": [
        {
          "output_type": "stream",
          "text": [
            "Digite a sua idade: 25\n",
            "Possui CNH? (digite SIM ou NÃO): sim\n",
            "\n",
            "\tVocê pode dirigir ;)\n"
          ],
          "name": "stdout"
        }
      ]
    },
    {
      "cell_type": "code",
      "metadata": {
        "id": "m5JNjOQ5nXj0"
      },
      "source": [
        "#@title\n",
        "def checar_motorista(idade, cnh):\n",
        "    verificacao = (idade >= 18) and (cnh)\n",
        "    return verificacao\n",
        "\n",
        "\n",
        "checar_motorista(23, False)"
      ],
      "execution_count": null,
      "outputs": []
    },
    {
      "cell_type": "code",
      "metadata": {
        "id": "F0p7-Sx_cnhB"
      },
      "source": [
        ""
      ],
      "execution_count": null,
      "outputs": []
    }
  ]
}