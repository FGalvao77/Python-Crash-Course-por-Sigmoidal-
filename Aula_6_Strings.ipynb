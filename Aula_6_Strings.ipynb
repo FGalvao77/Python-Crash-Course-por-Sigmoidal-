{
  "nbformat": 4,
  "nbformat_minor": 0,
  "metadata": {
    "colab": {
      "name": "Strings.ipynb",
      "provenance": [],
      "collapsed_sections": []
    },
    "kernelspec": {
      "name": "python3",
      "display_name": "Python 3"
    }
  },
  "cells": [
    {
      "cell_type": "markdown",
      "metadata": {
        "id": "CkHnujC02HJh"
      },
      "source": [
        "# Strings\n",
        "\n",
        "Nesta aula conheceremos as *strings*, que são uma sequência de caracteres como números, letras e símbolos.\n",
        "\n",
        "## Strings\n",
        "\n",
        "Strings são caracteres declarados entre aspas (simples ou duplas), sendo que esses caracteres podem ser símbolos, números ou letras.\n",
        "\n",
        "Operações ou manipulações de *strings* são muito comuns, e com frequência você irá precisar trabalhá-las em seus projetos de *Data Science*. Vale ressaltar que o Python mostra o tipo *string* como sendo `str`:"
      ]
    },
    {
      "cell_type": "code",
      "metadata": {
        "id": "AB9azh_H3Hkl",
        "colab": {
          "base_uri": "https://localhost:8080/"
        },
        "outputId": "fac8c29d-813c-4acc-ab9b-2ae721a964ae"
      },
      "source": [
        "type('Fernando Galvão')"
      ],
      "execution_count": 2,
      "outputs": [
        {
          "output_type": "execute_result",
          "data": {
            "text/plain": [
              "str"
            ]
          },
          "metadata": {
            "tags": []
          },
          "execution_count": 2
        }
      ]
    },
    {
      "cell_type": "markdown",
      "metadata": {
        "id": "uWZ8wBre3Jk_"
      },
      "source": [
        "Para imprimir *strings*, eu informo as mesmas dentro da função `print()`."
      ]
    },
    {
      "cell_type": "code",
      "metadata": {
        "id": "i7fXHlKz3vS6",
        "colab": {
          "base_uri": "https://localhost:8080/"
        },
        "outputId": "e47c0b79-3a14-4621-e495-b9b03f487f90"
      },
      "source": [
        "nome = 'Fernando'\n",
        "nome_do_meio = 'Cesar'\n",
        "sobrenome = 'Galvão'\n",
        "profissao = \"'Treinando para ser um futuro data scientist'\"\n",
        "\n",
        "# imprimir nome completo\n",
        "print(\"Nome completo:\", nome, nome_do_meio, sobrenome)\n",
        "# print(nome, nome_do_meio, sobrenome)\n",
        "\n",
        "# imprimir profissão\n",
        "print(\"Sua profissão é:\", profissao + \".\")"
      ],
      "execution_count": 8,
      "outputs": [
        {
          "output_type": "stream",
          "text": [
            "Nome completo: Fernando Cesar Galvão\n",
            "Sua profissão é: 'Treinando para ser um futuro data scientist'.\n"
          ],
          "name": "stdout"
        }
      ]
    },
    {
      "cell_type": "markdown",
      "metadata": {
        "id": "YP3MDpvp4BUO"
      },
      "source": [
        "É possível acessar os caracteres individuais dentro de uma *string*. Para isso, basta informar a posição desejada entre colchetes.\n",
        "\n",
        "**Lembre-se sempre que a linguagem Python (assim como a maioria) começa com uma indexação em 0.** Veja como as posições da *string* `Fernando` estão distribuidas:\n",
        "\n",
        "| **0** | **1** | **2** | **3** | **4** | **5** | **6** | **7** |\n",
        "|:-----:|:-----:|:-----:|:-----:|:-----:|:-----:|:-----:|:-----:|\n",
        "| F     | e     | r     | n     | a     | n     | d     | o     |\n",
        "\n",
        "Uma dica, para acessar a última letra de uma *string* é só colocar `[-1]` ao final da mesma.\n"
      ]
    },
    {
      "cell_type": "code",
      "metadata": {
        "id": "SomdfCeS5G_-",
        "colab": {
          "base_uri": "https://localhost:8080/",
          "height": 35
        },
        "outputId": "d7bc611d-e831-4fa0-d41c-e629d5d071cf"
      },
      "source": [
        "nome = 'Fernando'\n",
        "\n",
        "# ver qual é a primeira letra da variável `nome`\n",
        "nome[0]"
      ],
      "execution_count": 10,
      "outputs": [
        {
          "output_type": "execute_result",
          "data": {
            "application/vnd.google.colaboratory.intrinsic+json": {
              "type": "string"
            },
            "text/plain": [
              "'F'"
            ]
          },
          "metadata": {
            "tags": []
          },
          "execution_count": 10
        }
      ]
    },
    {
      "cell_type": "code",
      "metadata": {
        "id": "1GLcSOmw5Tnc",
        "colab": {
          "base_uri": "https://localhost:8080/",
          "height": 35
        },
        "outputId": "cc9c89f6-be1a-48db-d820-dc32bec34663"
      },
      "source": [
        "# ver qual a última letra da variável `nome`\n",
        "nome[-1]"
      ],
      "execution_count": 11,
      "outputs": [
        {
          "output_type": "execute_result",
          "data": {
            "application/vnd.google.colaboratory.intrinsic+json": {
              "type": "string"
            },
            "text/plain": [
              "'o'"
            ]
          },
          "metadata": {
            "tags": []
          },
          "execution_count": 11
        }
      ]
    },
    {
      "cell_type": "code",
      "metadata": {
        "colab": {
          "base_uri": "https://localhost:8080/"
        },
        "id": "8DnHJONVjrcD",
        "outputId": "8b4a5910-99b9-4ac9-bb64-00aa06ba57d9"
      },
      "source": [
        "# podemos também acessar o conjunto de caracteres da variável 'nome'\n",
        "# essa técnica é conhecida como slicing e veremos com mais detalhes a frente\n",
        "\n",
        "print(nome[0:3]) # Fer \n",
        "# aqui queremos do primeiro caracter, que está na posição 0, até da segunda posição - [0:3]\n",
        "# é bom deixar claro que, o último argumento é exclusivo\n",
        "\n",
        "# porém não precisamos passar o número inicial, simplesmente podemos ocultar\n",
        "print(nome[:3]) # perceba que o resultado é o mesmo\n"
      ],
      "execution_count": 17,
      "outputs": [
        {
          "output_type": "stream",
          "text": [
            "Fer\n",
            "Fer\n"
          ],
          "name": "stdout"
        }
      ]
    },
    {
      "cell_type": "code",
      "metadata": {
        "colab": {
          "base_uri": "https://localhost:8080/"
        },
        "id": "6XvMa-fQl07_",
        "outputId": "8e1e990f-ef2f-4fc7-bb62-4d3b4c3f142e"
      },
      "source": [
        "# outros exemplos\n",
        "\n",
        "print(nome[1:5]) # erna\n",
        "# aqui partimos da posição 1 até o da posição 4\n",
        "\n",
        "print(nome[3:]) # nando\n",
        "# da posição 3 até o da última posição"
      ],
      "execution_count": 21,
      "outputs": [
        {
          "output_type": "stream",
          "text": [
            "erna\n",
            "nando\n"
          ],
          "name": "stdout"
        }
      ]
    },
    {
      "cell_type": "code",
      "metadata": {
        "colab": {
          "base_uri": "https://localhost:8080/",
          "height": 35
        },
        "id": "w1nYyt9ynYVi",
        "outputId": "3f1184ba-635f-485b-ed97-7a3829587469"
      },
      "source": [
        "# usando índice negativo\n",
        "nome[:-5] # Fer"
      ],
      "execution_count": 33,
      "outputs": [
        {
          "output_type": "execute_result",
          "data": {
            "application/vnd.google.colaboratory.intrinsic+json": {
              "type": "string"
            },
            "text/plain": [
              "'Fer'"
            ]
          },
          "metadata": {
            "tags": []
          },
          "execution_count": 33
        }
      ]
    },
    {
      "cell_type": "markdown",
      "metadata": {
        "id": "uBz-T_tk5nuV"
      },
      "source": [
        "### Função  `len()`\n",
        "\n",
        "\n",
        "Para saber o tamanho de uma *string*, existe no Python uma função chamada `len()`, que irá sempre retornar um valor do tipo inteiro (`int`). Usá-la é muito simples e direto:"
      ]
    },
    {
      "cell_type": "code",
      "metadata": {
        "id": "QWjKTNXG6B-1",
        "colab": {
          "base_uri": "https://localhost:8080/"
        },
        "outputId": "07f996dd-78ef-403e-f3bd-7a125798efc7"
      },
      "source": [
        "# verificar o tamanho da sequência de um DNA\n",
        "dna = 'ATGCGGACCTAT'\n",
        "\n",
        "len(dna)"
      ],
      "execution_count": 34,
      "outputs": [
        {
          "output_type": "execute_result",
          "data": {
            "text/plain": [
              "12"
            ]
          },
          "metadata": {
            "tags": []
          },
          "execution_count": 34
        }
      ]
    },
    {
      "cell_type": "code",
      "metadata": {
        "colab": {
          "base_uri": "https://localhost:8080/"
        },
        "id": "tKAO3OX2oLpz",
        "outputId": "400dcdce-7e92-43b5-9b99-d6c95c4d280c"
      },
      "source": [
        "# verificando o tamanho da variável 'nome'\n",
        "len(nome)"
      ],
      "execution_count": 35,
      "outputs": [
        {
          "output_type": "execute_result",
          "data": {
            "text/plain": [
              "8"
            ]
          },
          "metadata": {
            "tags": []
          },
          "execution_count": 35
        }
      ]
    },
    {
      "cell_type": "markdown",
      "metadata": {
        "id": "8_8c7E5pM4_D"
      },
      "source": [
        "### Função `split()`\n",
        "\n",
        "A função `split()` serve para você separar *strings* baseando-se em um delimitador. Por exemplo, a variável nome da célula abaixo contém 3 nomes separados por vírgulas.\n",
        "\n",
        "Para eu extrair esses nomes, basta eu executar `nomes.split(',')`, e o Python vai me retornar uma lista com 4 itens.\n",
        "\n",
        "Não se preocupe. O conceito de listas será abordado mais para frente!"
      ]
    },
    {
      "cell_type": "code",
      "metadata": {
        "id": "cHMzFgI1NKD4",
        "colab": {
          "base_uri": "https://localhost:8080/"
        },
        "outputId": "98b90922-c861-4964-ab7e-169dc39c3343"
      },
      "source": [
        "nomes = 'Kátia, Fernando, Sara, Eloah'\n",
        "\n",
        "nomes.split(',')"
      ],
      "execution_count": 39,
      "outputs": [
        {
          "output_type": "execute_result",
          "data": {
            "text/plain": [
              "['Kátia', ' Fernando', ' Sara', ' Eloah']"
            ]
          },
          "metadata": {
            "tags": []
          },
          "execution_count": 39
        }
      ]
    },
    {
      "cell_type": "code",
      "metadata": {
        "colab": {
          "base_uri": "https://localhost:8080/"
        },
        "id": "7G2ShVLUo0yx",
        "outputId": "c07890e6-9b98-4d66-b9fb-640e141503d4"
      },
      "source": [
        "# outro exemplo, separado por ';'\n",
        "idades = '40; 44; 20; 13'\n",
        "\n",
        "idades.split(';')"
      ],
      "execution_count": 40,
      "outputs": [
        {
          "output_type": "execute_result",
          "data": {
            "text/plain": [
              "['40', ' 44', ' 20', ' 13']"
            ]
          },
          "metadata": {
            "tags": []
          },
          "execution_count": 40
        }
      ]
    },
    {
      "cell_type": "code",
      "metadata": {
        "colab": {
          "base_uri": "https://localhost:8080/"
        },
        "id": "Foab4PiBpCc8",
        "outputId": "149241ab-36d4-4a8f-f768-5d7dbe0b7318"
      },
      "source": [
        "# outro exemplo- separado por '-'\n",
        "ano_nascimento = '1977-1980-2000-2008'\n",
        "\n",
        "ano_nascimento.split('-')"
      ],
      "execution_count": 41,
      "outputs": [
        {
          "output_type": "execute_result",
          "data": {
            "text/plain": [
              "['1977', '1980', '2000', '2008']"
            ]
          },
          "metadata": {
            "tags": []
          },
          "execution_count": 41
        }
      ]
    },
    {
      "cell_type": "markdown",
      "metadata": {
        "id": "AznUPY6GN2Ef"
      },
      "source": [
        "### Função `replace()`\n",
        "\n",
        "Como o nome já diz, ela serve para substituir caracteres dentro de uma string.\n",
        "\n",
        "Imagine a situação que você importa uma tabela sua do Excel, e os valores monetários estão no sistema brasileiro,ou seja, as casas decimais estão separadas por vírgulas.\n",
        "\n",
        "Se eu quiser converter uma string do tipo `9,50` em um valor numérico, eu tenho que substituir a vírgula pelo ponto:"
      ]
    },
    {
      "cell_type": "code",
      "metadata": {
        "id": "hnan1bvbN6gu"
      },
      "source": [
        "valor = \"9,50\""
      ],
      "execution_count": 43,
      "outputs": []
    },
    {
      "cell_type": "code",
      "metadata": {
        "id": "jl4aiAkcOx3q",
        "colab": {
          "base_uri": "https://localhost:8080/"
        },
        "outputId": "a5e19047-1055-44db-d8ba-1781ee4e5f68"
      },
      "source": [
        "float(valor.replace(\",\", \".\"))"
      ],
      "execution_count": 44,
      "outputs": [
        {
          "output_type": "execute_result",
          "data": {
            "text/plain": [
              "9.5"
            ]
          },
          "metadata": {
            "tags": []
          },
          "execution_count": 44
        }
      ]
    },
    {
      "cell_type": "code",
      "metadata": {
        "colab": {
          "base_uri": "https://localhost:8080/",
          "height": 35
        },
        "id": "PF-819mOpxvN",
        "outputId": "0c2b5cb0-9ebb-429c-8f90-1b7666827467"
      },
      "source": [
        "nome_completo = 'Fernando-Galvão'\n",
        "nome_completo = str(nome_completo.replace('-', ' '))\n",
        "nome_completo"
      ],
      "execution_count": 46,
      "outputs": [
        {
          "output_type": "execute_result",
          "data": {
            "application/vnd.google.colaboratory.intrinsic+json": {
              "type": "string"
            },
            "text/plain": [
              "'Fernando Galvão'"
            ]
          },
          "metadata": {
            "tags": []
          },
          "execution_count": 46
        }
      ]
    },
    {
      "cell_type": "markdown",
      "metadata": {
        "id": "3DXl0egTPKUf"
      },
      "source": [
        "### Função `strip()`\n",
        "\n",
        "Remove ou espaços em branco ou caracteres indesejados. Pode ser usada tanto para remover espaços em branco no começo e final de uma *string*, quanto para remover caracteres indesejados."
      ]
    },
    {
      "cell_type": "code",
      "metadata": {
        "id": "L3WNVdSHPcgR",
        "colab": {
          "base_uri": "https://localhost:8080/",
          "height": 35
        },
        "outputId": "4b005235-6d84-4f21-c799-3bf25e2f0ff0"
      },
      "source": [
        "nome = \"     Fernando Galvão     \"\n",
        "nome.strip()"
      ],
      "execution_count": 55,
      "outputs": [
        {
          "output_type": "execute_result",
          "data": {
            "application/vnd.google.colaboratory.intrinsic+json": {
              "type": "string"
            },
            "text/plain": [
              "'Fernando Galvão'"
            ]
          },
          "metadata": {
            "tags": []
          },
          "execution_count": 55
        }
      ]
    },
    {
      "cell_type": "markdown",
      "metadata": {
        "id": "K-NCdAuzPqCn"
      },
      "source": [
        "Voltando ao exemplo que usei na função `replace()`, imagine que quando você importou seus dados eles virem da seguinte forma: `R$ 9,00`.\n",
        "\n",
        "Se você quiser converter para um número, precisa antes eliminar os caracteres `R$ `"
      ]
    },
    {
      "cell_type": "code",
      "metadata": {
        "id": "WTBVx1_MOxxK",
        "colab": {
          "base_uri": "https://localhost:8080/",
          "height": 35
        },
        "outputId": "ba3ad61b-cedc-448e-91e4-3ab398d8ee42"
      },
      "source": [
        "\"R$ 9,50\".strip('R$ ')"
      ],
      "execution_count": 56,
      "outputs": [
        {
          "output_type": "execute_result",
          "data": {
            "application/vnd.google.colaboratory.intrinsic+json": {
              "type": "string"
            },
            "text/plain": [
              "'9,50'"
            ]
          },
          "metadata": {
            "tags": []
          },
          "execution_count": 56
        }
      ]
    },
    {
      "cell_type": "code",
      "metadata": {
        "id": "NNdcdLZaP-J4",
        "colab": {
          "base_uri": "https://localhost:8080/",
          "height": 35
        },
        "outputId": "6abe63f9-25c8-4e73-e83e-a415a6bf505e"
      },
      "source": [
        "\"R$ 9,50\".strip('R$ ').replace(',', '.')"
      ],
      "execution_count": 57,
      "outputs": [
        {
          "output_type": "execute_result",
          "data": {
            "application/vnd.google.colaboratory.intrinsic+json": {
              "type": "string"
            },
            "text/plain": [
              "'9.50'"
            ]
          },
          "metadata": {
            "tags": []
          },
          "execution_count": 57
        }
      ]
    },
    {
      "cell_type": "code",
      "metadata": {
        "id": "2PLQynBSQF-s",
        "colab": {
          "base_uri": "https://localhost:8080/"
        },
        "outputId": "21df534c-9454-48ab-b462-954d92ccf159"
      },
      "source": [
        "float(\"R$ 9,50\".strip('R$ ').replace(',', '.'))"
      ],
      "execution_count": 58,
      "outputs": [
        {
          "output_type": "execute_result",
          "data": {
            "text/plain": [
              "9.5"
            ]
          },
          "metadata": {
            "tags": []
          },
          "execution_count": 58
        }
      ]
    },
    {
      "cell_type": "code",
      "metadata": {
        "colab": {
          "base_uri": "https://localhost:8080/",
          "height": 35
        },
        "id": "5lMz8w70vYqn",
        "outputId": "6d3b7779-fa88-4cc4-cdf6-8716560ee431"
      },
      "source": [
        "'Nome: Fernando Galvão.'.strip('Nome: ').replace('.','')"
      ],
      "execution_count": 77,
      "outputs": [
        {
          "output_type": "execute_result",
          "data": {
            "application/vnd.google.colaboratory.intrinsic+json": {
              "type": "string"
            },
            "text/plain": [
              "'Fernando Galvão'"
            ]
          },
          "metadata": {
            "tags": []
          },
          "execution_count": 77
        }
      ]
    },
    {
      "cell_type": "markdown",
      "metadata": {
        "id": "ySjn4_qerQuV"
      },
      "source": [
        "### Slicing\n",
        "O Python nos permite \"cortar\" as nossas strings, técnica chamada de `slicing`.\n",
        "\n",
        "Como exemplo, vamos usar a variável abaixo"
      ]
    },
    {
      "cell_type": "code",
      "metadata": {
        "id": "T9zSl6dmsKDZ"
      },
      "source": [
        "nome = 'Carlos'"
      ],
      "execution_count": 78,
      "outputs": []
    },
    {
      "cell_type": "markdown",
      "metadata": {
        "id": "yLgE_lmMsNr7"
      },
      "source": [
        "Para fazer o slicing, nós chamamos a variável a ser \"fatiada\", e colocamos entre colchetes o index de início e fim, separados por `:`.\n",
        "\n",
        "Lembre-se que a indexação em Python começa no zero, portanto:\n",
        "* [0] - C\n",
        "* [1] - a\n",
        "* [2] - r\n",
        "* [3] - l\n",
        "* [4] - o\n",
        "* [5] - s\n",
        "\n",
        "Também é importante saber que a posição final não é incluída. Ou seja, se chamarmos o slicing da seguinte forma:\n",
        "\n",
        "nome[2:4]\n",
        "\n",
        "teríamos como retorno as letras\n",
        "* [2] - r\n",
        "* [3] - l\n",
        "\n",
        "pois a letra `o` na posição quatro, não é incluída no slicing."
      ]
    },
    {
      "cell_type": "code",
      "metadata": {
        "id": "DbmKmqFtsi2l",
        "colab": {
          "base_uri": "https://localhost:8080/",
          "height": 35
        },
        "outputId": "ac1cb16c-75c2-4ae0-f6b1-0f89120ec65f"
      },
      "source": [
        "# slicing da variável `nome`\n",
        "nome[2:4]"
      ],
      "execution_count": 79,
      "outputs": [
        {
          "output_type": "execute_result",
          "data": {
            "application/vnd.google.colaboratory.intrinsic+json": {
              "type": "string"
            },
            "text/plain": [
              "'rl'"
            ]
          },
          "metadata": {
            "tags": []
          },
          "execution_count": 79
        }
      ]
    },
    {
      "cell_type": "markdown",
      "metadata": {
        "id": "P4U-VPX_tVKe"
      },
      "source": [
        "Também podemos omitir uma das variáveis, e isso fará que o slicing comece desde o primeiro index, e termine no último."
      ]
    },
    {
      "cell_type": "code",
      "metadata": {
        "id": "Wdayk44ctf_0",
        "colab": {
          "base_uri": "https://localhost:8080/",
          "height": 35
        },
        "outputId": "8bee2518-b6a6-44c9-ff53-18f770374c2a"
      },
      "source": [
        "# slicing do começo ao 4\n",
        "nome[:3]"
      ],
      "execution_count": 80,
      "outputs": [
        {
          "output_type": "execute_result",
          "data": {
            "application/vnd.google.colaboratory.intrinsic+json": {
              "type": "string"
            },
            "text/plain": [
              "'Car'"
            ]
          },
          "metadata": {
            "tags": []
          },
          "execution_count": 80
        }
      ]
    },
    {
      "cell_type": "code",
      "metadata": {
        "id": "dyArnh5StjcO",
        "colab": {
          "base_uri": "https://localhost:8080/",
          "height": 35
        },
        "outputId": "5e15db5c-9e70-4ca0-9462-e76dc533eab2"
      },
      "source": [
        "# slicing do 2 ao fim\n",
        "nome[2:]"
      ],
      "execution_count": 81,
      "outputs": [
        {
          "output_type": "execute_result",
          "data": {
            "application/vnd.google.colaboratory.intrinsic+json": {
              "type": "string"
            },
            "text/plain": [
              "'rlos'"
            ]
          },
          "metadata": {
            "tags": []
          },
          "execution_count": 81
        }
      ]
    },
    {
      "cell_type": "markdown",
      "metadata": {
        "id": "STzIbrrHtupA"
      },
      "source": [
        "Lembre-se que podemos adicionar as strings. Podemos fazer isso também usando slicing."
      ]
    },
    {
      "cell_type": "code",
      "metadata": {
        "id": "o-bJyr7Ft-tM",
        "colab": {
          "base_uri": "https://localhost:8080/"
        },
        "outputId": "2c3063d6-6a1d-45fb-fbd1-71f287cda41d"
      },
      "source": [
        "print('Nome Completo: ', nome)\n",
        "print('Primeira parte: ', nome[:3])\n",
        "print('Segunda parte: ', nome[3:])\n",
        "print('Nome feito adicionando Slices: ', nome[:3] + nome[3:])"
      ],
      "execution_count": 82,
      "outputs": [
        {
          "output_type": "stream",
          "text": [
            "Nome Completo:  Carlos\n",
            "Primeira parte:  Car\n",
            "Segunda parte:  los\n",
            "Nome feito adicionando Slices:  Carlos\n"
          ],
          "name": "stdout"
        }
      ]
    },
    {
      "cell_type": "markdown",
      "metadata": {
        "id": "k4iZsmTju0FS"
      },
      "source": [
        "Ainda falando de slices, nós também podemos definir um *step*, ou um passo de intervalo, para que os caracteres sejam pulados.\n",
        "\n",
        "Vamos ver como isso funciona na prática."
      ]
    },
    {
      "cell_type": "code",
      "metadata": {
        "id": "6OkCSg7Bt-qS"
      },
      "source": [
        "# criando a variável\n",
        "num = '123456789'\n"
      ],
      "execution_count": 83,
      "outputs": []
    },
    {
      "cell_type": "markdown",
      "metadata": {
        "id": "in6-LXikxWWv"
      },
      "source": [
        "Como temos 27 caracteres, isso significa que nossos índices vão do 0 ao 26, totalizando 27.\n",
        "\n",
        "Podemos usar o slicing para mostrar apenas os números ímpares, por exemplo, basta acrescentar um dígito extra, que é o step.\n",
        "\n",
        "A sintaxe fica da seguinte forma:\n",
        "\n",
        "> variável[index_início, index_final, step]"
      ]
    },
    {
      "cell_type": "code",
      "metadata": {
        "id": "lJCBFto8t-mD",
        "colab": {
          "base_uri": "https://localhost:8080/",
          "height": 35
        },
        "outputId": "01dbd143-a85b-444e-b5f6-bcb6b7b1c823"
      },
      "source": [
        "# slicing da variável num, começando do primeiro caractere, indo até o último, em step 2, ou seja\n",
        "# mostra um, pula um\n",
        "num[::2]"
      ],
      "execution_count": 84,
      "outputs": [
        {
          "output_type": "execute_result",
          "data": {
            "application/vnd.google.colaboratory.intrinsic+json": {
              "type": "string"
            },
            "text/plain": [
              "'13579'"
            ]
          },
          "metadata": {
            "tags": []
          },
          "execution_count": 84
        }
      ]
    },
    {
      "cell_type": "code",
      "metadata": {
        "id": "riDXQdASt-h9",
        "colab": {
          "base_uri": "https://localhost:8080/",
          "height": 35
        },
        "outputId": "dafc33e0-2ed2-409e-c103-a7f67394883c"
      },
      "source": [
        "# para visualizarmos os pares, basta começar da posição 2\n",
        "# aqui temos dois `:`, pois indicamos o início, até (:) o final (:) e step 2.\n",
        "num[1::2]"
      ],
      "execution_count": 85,
      "outputs": [
        {
          "output_type": "execute_result",
          "data": {
            "application/vnd.google.colaboratory.intrinsic+json": {
              "type": "string"
            },
            "text/plain": [
              "'2468'"
            ]
          },
          "metadata": {
            "tags": []
          },
          "execution_count": 85
        }
      ]
    },
    {
      "cell_type": "markdown",
      "metadata": {
        "id": "3fSBvaT60k5Q"
      },
      "source": [
        "### Convertendo Strings\n",
        "\n",
        "Por padrão, podemos usar o Python para converter as strings em maíusculas, minúsculas, etc.\n",
        "\n",
        "Esses processos são bastante úteis ao tratarmos dados em formato string."
      ]
    },
    {
      "cell_type": "code",
      "metadata": {
        "id": "CfQn2sOZ01UQ"
      },
      "source": [
        "# criando a variável a ser manipulada\n",
        "nome = \"josé Santos da Silva\""
      ],
      "execution_count": 86,
      "outputs": []
    },
    {
      "cell_type": "markdown",
      "metadata": {
        "id": "t0XYyrvX090s"
      },
      "source": [
        "#### capitalize()\n",
        "\n",
        "Essa função transforma o primeiro caractere em maiúsculo."
      ]
    },
    {
      "cell_type": "code",
      "metadata": {
        "id": "6yxD1ELg1Jha",
        "colab": {
          "base_uri": "https://localhost:8080/",
          "height": 35
        },
        "outputId": "f1e73b03-defa-4690-e359-39f95fc48cbe"
      },
      "source": [
        "nome.capitalize()"
      ],
      "execution_count": 87,
      "outputs": [
        {
          "output_type": "execute_result",
          "data": {
            "application/vnd.google.colaboratory.intrinsic+json": {
              "type": "string"
            },
            "text/plain": [
              "'José santos da silva'"
            ]
          },
          "metadata": {
            "tags": []
          },
          "execution_count": 87
        }
      ]
    },
    {
      "cell_type": "markdown",
      "metadata": {
        "id": "qcT6MGNM1NbB"
      },
      "source": [
        "#### lower()\n",
        "Essa função transforma todos os caracteres em minúsculo."
      ]
    },
    {
      "cell_type": "code",
      "metadata": {
        "id": "DFVQ5WHd1T6G",
        "colab": {
          "base_uri": "https://localhost:8080/",
          "height": 35
        },
        "outputId": "df4c0514-f559-48fb-9b56-1a7a3f40719c"
      },
      "source": [
        "nome.lower()"
      ],
      "execution_count": 88,
      "outputs": [
        {
          "output_type": "execute_result",
          "data": {
            "application/vnd.google.colaboratory.intrinsic+json": {
              "type": "string"
            },
            "text/plain": [
              "'josé santos da silva'"
            ]
          },
          "metadata": {
            "tags": []
          },
          "execution_count": 88
        }
      ]
    },
    {
      "cell_type": "markdown",
      "metadata": {
        "id": "UKhq2br-1Wbh"
      },
      "source": [
        "#### upper()\n",
        "Para tornar todas maiúsculas, basta usar essa função."
      ]
    },
    {
      "cell_type": "code",
      "metadata": {
        "id": "VNXRV0Hi1f56",
        "colab": {
          "base_uri": "https://localhost:8080/",
          "height": 35
        },
        "outputId": "86c36fd8-133c-4033-9b41-36f8a17a8ecd"
      },
      "source": [
        "nome.upper()"
      ],
      "execution_count": 89,
      "outputs": [
        {
          "output_type": "execute_result",
          "data": {
            "application/vnd.google.colaboratory.intrinsic+json": {
              "type": "string"
            },
            "text/plain": [
              "'JOSÉ SANTOS DA SILVA'"
            ]
          },
          "metadata": {
            "tags": []
          },
          "execution_count": 89
        }
      ]
    },
    {
      "cell_type": "markdown",
      "metadata": {
        "id": "_u6ERCaH1ieJ"
      },
      "source": [
        "#### title()\n",
        "Essa função transforma a primeira letra de cada palavra em maiúscula."
      ]
    },
    {
      "cell_type": "code",
      "metadata": {
        "id": "g0UGyX6Q1h1g",
        "colab": {
          "base_uri": "https://localhost:8080/",
          "height": 35
        },
        "outputId": "d4952928-3356-4b1f-b037-ea8611fe6426"
      },
      "source": [
        "nome.title()"
      ],
      "execution_count": 90,
      "outputs": [
        {
          "output_type": "execute_result",
          "data": {
            "application/vnd.google.colaboratory.intrinsic+json": {
              "type": "string"
            },
            "text/plain": [
              "'José Santos Da Silva'"
            ]
          },
          "metadata": {
            "tags": []
          },
          "execution_count": 90
        }
      ]
    },
    {
      "cell_type": "markdown",
      "metadata": {
        "id": "yggT9_7N1ts6"
      },
      "source": [
        "#### swapcase()\n",
        "Aqui iremos inverter as coisas, transformando maiúsculas em minúsculas, e vice-versa."
      ]
    },
    {
      "cell_type": "code",
      "metadata": {
        "id": "O7kkYBfR11xA",
        "colab": {
          "base_uri": "https://localhost:8080/",
          "height": 35
        },
        "outputId": "da62070f-2f77-482a-ad7c-aab1e3a08019"
      },
      "source": [
        "nome.swapcase()"
      ],
      "execution_count": 91,
      "outputs": [
        {
          "output_type": "execute_result",
          "data": {
            "application/vnd.google.colaboratory.intrinsic+json": {
              "type": "string"
            },
            "text/plain": [
              "'JOSÉ sANTOS DA sILVA'"
            ]
          },
          "metadata": {
            "tags": []
          },
          "execution_count": 91
        }
      ]
    },
    {
      "cell_type": "markdown",
      "metadata": {
        "id": "vSoPOrap6xE1"
      },
      "source": [
        "## Exercícios"
      ]
    },
    {
      "cell_type": "markdown",
      "metadata": {
        "id": "KD1ufBnNqEOw"
      },
      "source": [
        "### Exercício 1\n",
        "\n",
        "Escreva seu nome e sobrenome, como nos exemplos acima, e imprima ele na tela usando a função `print()`:"
      ]
    },
    {
      "cell_type": "code",
      "metadata": {
        "id": "ehkKyhU_60_3",
        "colab": {
          "base_uri": "https://localhost:8080/"
        },
        "outputId": "0e9e3be2-c94c-434d-8b38-16b030687afb"
      },
      "source": [
        "# resposta\n",
        "nome = 'Fernando'\n",
        "sobrenome = 'Galvão'\n",
        "\n",
        "print(nome + ' ' + sobrenome)"
      ],
      "execution_count": 94,
      "outputs": [
        {
          "output_type": "stream",
          "text": [
            "Fernando Galvão\n"
          ],
          "name": "stdout"
        }
      ]
    },
    {
      "cell_type": "code",
      "metadata": {
        "id": "O6btoUeVqPKI",
        "cellView": "form",
        "colab": {
          "base_uri": "https://localhost:8080/"
        },
        "outputId": "17b2af65-71f0-48c0-fec9-a0f802b5c1bf"
      },
      "source": [
        "#@title Solução\n",
        "print(\"Carlos Melo\")"
      ],
      "execution_count": 95,
      "outputs": [
        {
          "output_type": "stream",
          "text": [
            "Carlos Melo\n"
          ],
          "name": "stdout"
        }
      ]
    },
    {
      "cell_type": "markdown",
      "metadata": {
        "id": "HfLGXzjN7AuR"
      },
      "source": [
        "### Exercícios 3\n",
        "Verifique o tamanho da *string* da variável sha1_hash abaixo:"
      ]
    },
    {
      "cell_type": "code",
      "metadata": {
        "id": "7ptSvRIL7FYw"
      },
      "source": [
        "sha1_hash = \"b91552e0b2b2183e85a4371020ab6b9f4ef83ed0\""
      ],
      "execution_count": 96,
      "outputs": []
    },
    {
      "cell_type": "code",
      "metadata": {
        "id": "iwfqlKiPqoMv",
        "colab": {
          "base_uri": "https://localhost:8080/"
        },
        "outputId": "10d408dc-d31c-43e6-dd86-a7b3aba58087"
      },
      "source": [
        "# resposta\n",
        "len(sha1_hash)"
      ],
      "execution_count": 98,
      "outputs": [
        {
          "output_type": "execute_result",
          "data": {
            "text/plain": [
              "40"
            ]
          },
          "metadata": {
            "tags": []
          },
          "execution_count": 98
        }
      ]
    },
    {
      "cell_type": "code",
      "metadata": {
        "id": "B5dSSOkeqw70",
        "cellView": "form",
        "colab": {
          "base_uri": "https://localhost:8080/"
        },
        "outputId": "0867e132-67e0-4419-e017-22b2b11fd43d"
      },
      "source": [
        "#@title Solução\n",
        "len(sha1_hash)"
      ],
      "execution_count": 99,
      "outputs": [
        {
          "output_type": "execute_result",
          "data": {
            "text/plain": [
              "40"
            ]
          },
          "metadata": {
            "tags": []
          },
          "execution_count": 99
        }
      ]
    },
    {
      "cell_type": "markdown",
      "metadata": {
        "id": "WFCUMU5m8LU7"
      },
      "source": [
        "### Exercício 3\n",
        "\n",
        "Converta a string `85,00 Kg` em uma variável do tipo float."
      ]
    },
    {
      "cell_type": "code",
      "metadata": {
        "id": "2h8-qUKl7F2K",
        "colab": {
          "base_uri": "https://localhost:8080/"
        },
        "outputId": "b1ffa289-a24a-4c78-fda8-1bee9c28deb5"
      },
      "source": [
        "# resposta\n",
        "float('85,00 Kg'.strip(' Kg').replace(',', '.'))"
      ],
      "execution_count": 102,
      "outputs": [
        {
          "output_type": "execute_result",
          "data": {
            "text/plain": [
              "85.0"
            ]
          },
          "metadata": {
            "tags": []
          },
          "execution_count": 102
        }
      ]
    },
    {
      "cell_type": "code",
      "metadata": {
        "id": "2LCRKm172RTk",
        "colab": {
          "base_uri": "https://localhost:8080/"
        },
        "outputId": "62a4d762-7a3c-4bcc-f308-efb2540690a4"
      },
      "source": [
        "#@title Solução\n",
        "float('85,00 Kg'.strip(' Kg').replace(',', '.'))\n"
      ],
      "execution_count": 101,
      "outputs": [
        {
          "output_type": "execute_result",
          "data": {
            "text/plain": [
              "85.0"
            ]
          },
          "metadata": {
            "tags": []
          },
          "execution_count": 101
        }
      ]
    },
    {
      "cell_type": "markdown",
      "metadata": {
        "id": "EImg6boX21Nt"
      },
      "source": [
        "#### Exercício 4\n",
        "\n",
        "Faça o que se pede com a variável em cada uma das células abaixo\n"
      ]
    },
    {
      "cell_type": "code",
      "metadata": {
        "id": "X-J6my5M2aI8",
        "colab": {
          "base_uri": "https://localhost:8080/"
        },
        "outputId": "5f682e3f-8981-43a7-e816-a2729de31304"
      },
      "source": [
        "# criando a variável\n",
        "x = 'Data, Science, é, demais!'\n",
        "\n",
        "print(x)"
      ],
      "execution_count": 112,
      "outputs": [
        {
          "output_type": "stream",
          "text": [
            "Data, Science, é, demais!\n"
          ],
          "name": "stdout"
        }
      ]
    },
    {
      "cell_type": "code",
      "metadata": {
        "id": "1yZ7sX2A20Z_",
        "colab": {
          "base_uri": "https://localhost:8080/"
        },
        "outputId": "36084289-2a79-4bb9-dd40-5479ab9a5018"
      },
      "source": [
        "# a) imprima a quantidade de caracteres na variável x\n",
        "len(x)"
      ],
      "execution_count": 113,
      "outputs": [
        {
          "output_type": "execute_result",
          "data": {
            "text/plain": [
              "25"
            ]
          },
          "metadata": {
            "tags": []
          },
          "execution_count": 113
        }
      ]
    },
    {
      "cell_type": "code",
      "metadata": {
        "id": "huRSUpiF3P-2",
        "colab": {
          "base_uri": "https://localhost:8080/",
          "height": 35
        },
        "outputId": "82bbc4df-d01b-4759-effe-dd39d4c850ef"
      },
      "source": [
        "# b) retire as vírgulas da variável\n",
        "x = x.strip().replace(',','')\n",
        "x"
      ],
      "execution_count": 114,
      "outputs": [
        {
          "output_type": "execute_result",
          "data": {
            "application/vnd.google.colaboratory.intrinsic+json": {
              "type": "string"
            },
            "text/plain": [
              "'Data Science é demais!'"
            ]
          },
          "metadata": {
            "tags": []
          },
          "execution_count": 114
        }
      ]
    },
    {
      "cell_type": "code",
      "metadata": {
        "id": "jlNekZmR3TXF",
        "colab": {
          "base_uri": "https://localhost:8080/",
          "height": 35
        },
        "outputId": "ca10a727-b93c-4a7e-f4c9-d2c6de0677be"
      },
      "source": [
        "# c) imprima apenas os 6 primeiros caracteres da variável\n",
        "x[:6]"
      ],
      "execution_count": 115,
      "outputs": [
        {
          "output_type": "execute_result",
          "data": {
            "application/vnd.google.colaboratory.intrinsic+json": {
              "type": "string"
            },
            "text/plain": [
              "'Data S'"
            ]
          },
          "metadata": {
            "tags": []
          },
          "execution_count": 115
        }
      ]
    },
    {
      "cell_type": "code",
      "metadata": {
        "id": "y8vxWdu03Z-u",
        "colab": {
          "base_uri": "https://localhost:8080/",
          "height": 35
        },
        "outputId": "62f060a9-8f54-47e9-d5e9-f48e6ae71a86"
      },
      "source": [
        "# d) imprima todos os caracteres, mostrando um e pulando um\n",
        "x[::2]"
      ],
      "execution_count": 116,
      "outputs": [
        {
          "output_type": "execute_result",
          "data": {
            "application/vnd.google.colaboratory.intrinsic+json": {
              "type": "string"
            },
            "text/plain": [
              "'Dt cec  eas'"
            ]
          },
          "metadata": {
            "tags": []
          },
          "execution_count": 116
        }
      ]
    },
    {
      "cell_type": "code",
      "metadata": {
        "id": "Af-uSrbH3fjV",
        "colab": {
          "base_uri": "https://localhost:8080/",
          "height": 35
        },
        "outputId": "95172c1c-4014-4c9b-c3ad-d375cc9bc411"
      },
      "source": [
        "# e) transforme todas as letras em maiúsculas\n",
        "x.upper()"
      ],
      "execution_count": 117,
      "outputs": [
        {
          "output_type": "execute_result",
          "data": {
            "application/vnd.google.colaboratory.intrinsic+json": {
              "type": "string"
            },
            "text/plain": [
              "'DATA SCIENCE É DEMAIS!'"
            ]
          },
          "metadata": {
            "tags": []
          },
          "execution_count": 117
        }
      ]
    },
    {
      "cell_type": "code",
      "metadata": {
        "id": "XbpQ7psZ3iqf",
        "colab": {
          "base_uri": "https://localhost:8080/",
          "height": 35
        },
        "outputId": "b525604f-e713-48e9-b0ee-36287d31be55"
      },
      "source": [
        "# f) transforme todas as letras em minúsculas\n",
        "x.lower()"
      ],
      "execution_count": 118,
      "outputs": [
        {
          "output_type": "execute_result",
          "data": {
            "application/vnd.google.colaboratory.intrinsic+json": {
              "type": "string"
            },
            "text/plain": [
              "'data science é demais!'"
            ]
          },
          "metadata": {
            "tags": []
          },
          "execution_count": 118
        }
      ]
    },
    {
      "cell_type": "code",
      "metadata": {
        "id": "2uG4HVX63l1W",
        "colab": {
          "base_uri": "https://localhost:8080/"
        },
        "outputId": "f08658d7-68db-4268-c31f-9605fb91b594"
      },
      "source": [
        "#@title Solução\n",
        "print(x)\n",
        "# a)\n",
        "print(len(x))\n",
        "\n",
        "# b)\n",
        "x = x.strip().replace(',', '')\n",
        "print(x)\n",
        "\n",
        "# c)\n",
        "print(x[:6])\n",
        "\n",
        "# d)\n",
        "print(x[::2])\n",
        "\n",
        "# e)\n",
        "print(x.upper())\n",
        "\n",
        "# f)\n",
        "print(x.lower())"
      ],
      "execution_count": 105,
      "outputs": [
        {
          "output_type": "stream",
          "text": [
            "Data, Science, é, demais!\n",
            "25\n",
            "Data Science é demais!\n",
            "Data S\n",
            "Dt cec  eas\n",
            "DATA SCIENCE É DEMAIS!\n",
            "data science é demais!\n"
          ],
          "name": "stdout"
        }
      ]
    }
  ]
}